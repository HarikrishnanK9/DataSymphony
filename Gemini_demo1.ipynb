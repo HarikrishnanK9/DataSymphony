{
  "nbformat": 4,
  "nbformat_minor": 0,
  "metadata": {
    "colab": {
      "provenance": [],
      "gpuType": "T4",
      "authorship_tag": "ABX9TyNCededE+/fF5MbJVZaHp4p",
      "include_colab_link": true
    },
    "kernelspec": {
      "name": "python3",
      "display_name": "Python 3"
    },
    "language_info": {
      "name": "python"
    },
    "accelerator": "GPU"
  },
  "cells": [
    {
      "cell_type": "markdown",
      "metadata": {
        "id": "view-in-github",
        "colab_type": "text"
      },
      "source": [
        "<a href=\"https://colab.research.google.com/github/HarikrishnanK9/DataSymphony/blob/main/Gemini_demo1.ipynb\" target=\"_parent\"><img src=\"https://colab.research.google.com/assets/colab-badge.svg\" alt=\"Open In Colab\"/></a>"
      ]
    },
    {
      "cell_type": "code",
      "execution_count": 1,
      "metadata": {
        "id": "ZDpBpQX5US1n"
      },
      "outputs": [],
      "source": [
        "import pathlib\n",
        "import textwrap\n",
        "\n",
        "import google.generativeai as genai\n",
        "\n",
        "# Used to securely store your API key\n",
        "from google.colab import userdata\n",
        "\n",
        "from IPython.display import display\n",
        "from IPython.display import Markdown\n",
        "\n",
        "\n",
        "def to_markdown(text):\n",
        "  text = text.replace('•', '  *')\n",
        "  return Markdown(textwrap.indent(text, '> ', predicate=lambda _: True))"
      ]
    },
    {
      "cell_type": "code",
      "source": [
        "import os\n",
        "os.environ['GOOGLE_API_KEY']=\"##################################"
      ],
      "metadata": {
        "id": "UeZeCCkJUaLT"
      },
      "execution_count": 2,
      "outputs": []
    },
    {
      "cell_type": "code",
      "source": [
        "genai.configure(api_key=\"###################################\")"
      ],
      "metadata": {
        "id": "le1j60auUocD"
      },
      "execution_count": 3,
      "outputs": []
    },
    {
      "cell_type": "code",
      "source": [
        "for m in genai.list_models():\n",
        "  if 'generateContent' in m.supported_generation_methods:\n",
        "    print(m.name)"
      ],
      "metadata": {
        "colab": {
          "base_uri": "https://localhost:8080/",
          "height": 52
        },
        "id": "QkrB0-yoUoeL",
        "outputId": "a468976b-dc6d-4283-f4bf-d29cfd4ce12b"
      },
      "execution_count": 4,
      "outputs": [
        {
          "output_type": "stream",
          "name": "stdout",
          "text": [
            "models/gemini-pro\n",
            "models/gemini-pro-vision\n"
          ]
        }
      ]
    },
    {
      "cell_type": "code",
      "source": [
        "model = genai.GenerativeModel('gemini-pro')"
      ],
      "metadata": {
        "id": "_MbdR5cBUogS"
      },
      "execution_count": 5,
      "outputs": []
    },
    {
      "cell_type": "code",
      "source": [
        "model"
      ],
      "metadata": {
        "colab": {
          "base_uri": "https://localhost:8080/"
        },
        "id": "c1os2_-gUoiG",
        "outputId": "ea158525-ce0e-464f-b7ef-86e3a5394c78"
      },
      "execution_count": 6,
      "outputs": [
        {
          "output_type": "execute_result",
          "data": {
            "text/plain": [
              " genai.GenerativeModel(\n",
              "   model_name='models/gemini-pro',\n",
              "   generation_config={}.\n",
              "   safety_settings={}\n",
              ")"
            ]
          },
          "metadata": {},
          "execution_count": 6
        }
      ]
    },
    {
      "cell_type": "code",
      "source": [
        "%%time\n",
        "response = model.generate_content(\"What is the meaning of life?\")"
      ],
      "metadata": {
        "colab": {
          "base_uri": "https://localhost:8080/",
          "height": 52
        },
        "id": "7ioJvOrLUvHv",
        "outputId": "a86902e2-ed5f-4cf6-d650-cca35255dda9"
      },
      "execution_count": 7,
      "outputs": [
        {
          "output_type": "stream",
          "name": "stdout",
          "text": [
            "CPU times: user 70.3 ms, sys: 5.73 ms, total: 76 ms\n",
            "Wall time: 8.59 s\n"
          ]
        }
      ]
    },
    {
      "cell_type": "code",
      "source": [
        "%%time\n",
        "response = model.generate_content(\"What is the future of generative ai?\")"
      ],
      "metadata": {
        "colab": {
          "base_uri": "https://localhost:8080/",
          "height": 52
        },
        "id": "T3FyY3XhUvJj",
        "outputId": "ef7355da-a3dd-47f8-fc72-d3ec15fdf914"
      },
      "execution_count": 8,
      "outputs": [
        {
          "output_type": "stream",
          "name": "stdout",
          "text": [
            "CPU times: user 64 ms, sys: 8.46 ms, total: 72.5 ms\n",
            "Wall time: 9.17 s\n"
          ]
        }
      ]
    },
    {
      "cell_type": "code",
      "source": [
        "to_markdown(response.text)"
      ],
      "metadata": {
        "colab": {
          "base_uri": "https://localhost:8080/",
          "height": 392
        },
        "id": "FvqQ52-kUvLi",
        "outputId": "9677c3fb-bff5-45e0-b606-87167696fc3b"
      },
      "execution_count": 9,
      "outputs": [
        {
          "output_type": "execute_result",
          "data": {
            "text/plain": [
              "<IPython.core.display.Markdown object>"
            ],
            "text/markdown": "> 1. **Enhanced Language Generation:** Generative AI will continue to advance in its ability to generate human-like text. Expect improvements in coherence, grammar, and overall quality.\n> 2. **Personalized, Interactive Experiences:** Generative AI will be used to create personalized, interactive experiences tailored to individual users. For example, it could generate storylines, characters, and environments in video games based on a player's preferences.\n> 3. **Beyond Text:** Generative AI will expand beyond text-based applications to include image, audio, and video generation. Artists, musicians, and filmmakers will use these capabilities to create unique and immersive content.\n> 4. **Realistic, Immersive Virtual Worlds:** Generative AI will pave the way for the development of realistic and immersive virtual worlds for games, simulations, and social interactions. These worlds will be dynamically generated, allowing for endless exploration and creative possibilities.\n> 5. **Scientific Discovery:** Generative AI will assist scientists in data analysis, hypothesis generation, and the prediction of outcomes. It will accelerate research processes and lead to new insights and breakthroughs.\n> 6. **Healthcare and Personalized Medicine:** Generative AI will play a role in healthcare by analyzing patient data, identifying patterns, and assisting doctors in diagnosis and treatment planning. It could also design personalized medicine based on an individual's genetic profile.\n> 7. **Art and Creativity:** Generative AI will be used as a creative tool by artists and designers to generate new ideas, explore different styles, and produce unique works of art.\n> 8. **Education and Training:** Generative AI will transform education and training by creating personalized learning materials, interactive simulations, and engaging educational experiences tailored to each student's needs.\n> 9. **Customer Service and Chatbots:** Generative AI-powered chatbots will become more sophisticated, providing personalized, natural language-based customer support and automating repetitive tasks.\n> 10. **Artificial General Intelligence (AGI):** While still a distant possibility, the ultimate goal of generative AI is to achieve general intelligence comparable to humans. This would involve the ability to learn, reason, and solve problems across a wide range of domains."
          },
          "metadata": {},
          "execution_count": 9
        }
      ]
    },
    {
      "cell_type": "code",
      "source": [
        "response.prompt_feedback"
      ],
      "metadata": {
        "colab": {
          "base_uri": "https://localhost:8080/"
        },
        "id": "CCaN7PDMUvNZ",
        "outputId": "db289e4e-0b2c-4d5b-c68f-5ab4275f44c5"
      },
      "execution_count": 10,
      "outputs": [
        {
          "output_type": "execute_result",
          "data": {
            "text/plain": [
              "safety_ratings {\n",
              "  category: HARM_CATEGORY_SEXUALLY_EXPLICIT\n",
              "  probability: NEGLIGIBLE\n",
              "}\n",
              "safety_ratings {\n",
              "  category: HARM_CATEGORY_HATE_SPEECH\n",
              "  probability: NEGLIGIBLE\n",
              "}\n",
              "safety_ratings {\n",
              "  category: HARM_CATEGORY_HARASSMENT\n",
              "  probability: NEGLIGIBLE\n",
              "}\n",
              "safety_ratings {\n",
              "  category: HARM_CATEGORY_DANGEROUS_CONTENT\n",
              "  probability: NEGLIGIBLE\n",
              "}"
            ]
          },
          "metadata": {},
          "execution_count": 10
        }
      ]
    },
    {
      "cell_type": "code",
      "source": [
        "response.candidates"
      ],
      "metadata": {
        "colab": {
          "base_uri": "https://localhost:8080/"
        },
        "id": "VHsH1CVeUvPi",
        "outputId": "66a2fe8e-cc74-4bcc-aab4-58895b85a909"
      },
      "execution_count": 11,
      "outputs": [
        {
          "output_type": "execute_result",
          "data": {
            "text/plain": [
              "[content {\n",
              "  parts {\n",
              "    text: \"1. **Enhanced Language Generation:** Generative AI will continue to advance in its ability to generate human-like text. Expect improvements in coherence, grammar, and overall quality.\\n2. **Personalized, Interactive Experiences:** Generative AI will be used to create personalized, interactive experiences tailored to individual users. For example, it could generate storylines, characters, and environments in video games based on a player\\'s preferences.\\n3. **Beyond Text:** Generative AI will expand beyond text-based applications to include image, audio, and video generation. Artists, musicians, and filmmakers will use these capabilities to create unique and immersive content.\\n4. **Realistic, Immersive Virtual Worlds:** Generative AI will pave the way for the development of realistic and immersive virtual worlds for games, simulations, and social interactions. These worlds will be dynamically generated, allowing for endless exploration and creative possibilities.\\n5. **Scientific Discovery:** Generative AI will assist scientists in data analysis, hypothesis generation, and the prediction of outcomes. It will accelerate research processes and lead to new insights and breakthroughs.\\n6. **Healthcare and Personalized Medicine:** Generative AI will play a role in healthcare by analyzing patient data, identifying patterns, and assisting doctors in diagnosis and treatment planning. It could also design personalized medicine based on an individual\\'s genetic profile.\\n7. **Art and Creativity:** Generative AI will be used as a creative tool by artists and designers to generate new ideas, explore different styles, and produce unique works of art.\\n8. **Education and Training:** Generative AI will transform education and training by creating personalized learning materials, interactive simulations, and engaging educational experiences tailored to each student\\'s needs.\\n9. **Customer Service and Chatbots:** Generative AI-powered chatbots will become more sophisticated, providing personalized, natural language-based customer support and automating repetitive tasks.\\n10. **Artificial General Intelligence (AGI):** While still a distant possibility, the ultimate goal of generative AI is to achieve general intelligence comparable to humans. This would involve the ability to learn, reason, and solve problems across a wide range of domains.\"\n",
              "  }\n",
              "  role: \"model\"\n",
              "}\n",
              "finish_reason: STOP\n",
              "index: 0\n",
              "safety_ratings {\n",
              "  category: HARM_CATEGORY_SEXUALLY_EXPLICIT\n",
              "  probability: NEGLIGIBLE\n",
              "}\n",
              "safety_ratings {\n",
              "  category: HARM_CATEGORY_HATE_SPEECH\n",
              "  probability: NEGLIGIBLE\n",
              "}\n",
              "safety_ratings {\n",
              "  category: HARM_CATEGORY_HARASSMENT\n",
              "  probability: NEGLIGIBLE\n",
              "}\n",
              "safety_ratings {\n",
              "  category: HARM_CATEGORY_DANGEROUS_CONTENT\n",
              "  probability: NEGLIGIBLE\n",
              "}\n",
              "]"
            ]
          },
          "metadata": {},
          "execution_count": 11
        }
      ]
    },
    {
      "cell_type": "code",
      "source": [
        "%%time\n",
        "response = model.generate_content(\"What is the future of generative ai?\", stream=True)"
      ],
      "metadata": {
        "colab": {
          "base_uri": "https://localhost:8080/",
          "height": 52
        },
        "id": "XOIdyOnSUvRd",
        "outputId": "34d73593-7aa1-4d3a-d605-2cf9ddcf9c22"
      },
      "execution_count": 12,
      "outputs": [
        {
          "output_type": "stream",
          "name": "stdout",
          "text": [
            "CPU times: user 88.4 ms, sys: 10.1 ms, total: 98.5 ms\n",
            "Wall time: 10.8 s\n"
          ]
        }
      ]
    },
    {
      "cell_type": "code",
      "source": [
        "for chunk in response:\n",
        "  print(chunk.text)\n",
        "  print(\"_\"*80)"
      ],
      "metadata": {
        "colab": {
          "base_uri": "https://localhost:8080/"
        },
        "id": "XYQjl_udUvUQ",
        "outputId": "1f03ccf9-c9f5-4606-f213-8f93f990344a"
      },
      "execution_count": 13,
      "outputs": [
        {
          "output_type": "stream",
          "name": "stdout",
          "text": [
            "The future of generative AI holds immense potential for transforming various industries and aspects of human\n",
            "________________________________________________________________________________\n",
            " life. Here are some key trends and potential developments in the field of generative AI:\n",
            "\n",
            "1. **Enhanced Creativity and Art:** Generative AI will continue to\n",
            "________________________________________________________________________________\n",
            " play a significant role in generating unique and diverse forms of art, music, and literature. AI-powered tools will aid artists, musicians, and writers in creating new works and exploring creative possibilities.\n",
            "\n",
            "2. **Personalized and Adaptive Content:** Generative AI will enable the creation of highly personalized and tailored content across various platforms\n",
            "________________________________________________________________________________\n",
            ". From customized product recommendations to personalized news feeds, AI will generate content that aligns with individual preferences and interests.\n",
            "\n",
            "3. **Improved Language Processing:** Advances in generative AI will enhance language processing capabilities, leading to more sophisticated natural language understanding and generation. AI models will be able to communicate more effectively, generate realistic text, and engage in more meaningful conversations.\n",
            "\n",
            "4. **Drug and Material Discovery:** Generative AI promises to accelerate the discovery and development of new drugs, materials, and molecules. By analyzing vast datasets and identifying patterns, AI algorithms will assist scientists in designing and testing potential candidates more efficiently.\n",
            "\n",
            "5. **Realistic Image and\n",
            "________________________________________________________________________________\n",
            " Video Synthesis:** Generative AI will continue to make significant strides in generating hyper-realistic images, videos, and animations that are indistinguishable from real-world content. This technology will be beneficial in entertainment, gaming, and visual effects industries.\n",
            "\n",
            "6. **Automated Code Generation:** AI-powered code generators will become more prevalent in software development, automating the generation of code, reducing development time, and improving software quality.\n",
            "\n",
            "7. **Generative AI for Healthcare:** Generative AI will impact healthcare by aiding in diagnosis, treatment planning, and drug development. AI models will analyze medical data to identify patterns, support clinical decision-making, and personalize treatments for patients.\n",
            "\n",
            "8. **Improved Data Generation and Synthetic Data:** Generative AI will be utilized to generate synthetic data for training machine learning models. This synthetic data will help reduce the need for real-world data, address data privacy concerns, and improve the performance of AI models.\n",
            "\n",
            "9. **Responsible and Ethical AI:** As generative AI advances, concerns about ethical and responsible use will intensify. Researchers and policymakers will strive to develop guidelines and regulations to ensure that generative AI is used for beneficial purposes and mitigates potential risks.\n",
            "\n",
            "10. **Hybrid Human-AI Collaboration:** Generative AI will be integrated into various\n",
            "________________________________________________________________________________\n",
            " aspects of human work, leading to hybrid collaboration. AI will augment human capabilities, enabling individuals to accomplish more complex and creative tasks more efficiently.\n",
            "\n",
            "Overall, the future of generative AI is bright, with the potential to revolutionize industries, enhance creativity, and assist humans in various tasks. However, addressing ethical and social considerations will be crucial to ensure responsible and beneficial use of this technology.\n",
            "________________________________________________________________________________\n"
          ]
        }
      ]
    },
    {
      "cell_type": "code",
      "source": [
        "try:\n",
        "  response.text\n",
        "except Exception as e:\n",
        "  print(f'{type(e).__name__}: {e}')"
      ],
      "metadata": {
        "id": "om23cGpqUok6"
      },
      "execution_count": 14,
      "outputs": []
    },
    {
      "cell_type": "code",
      "source": [],
      "metadata": {
        "id": "W1nFVcx9a-ie"
      },
      "execution_count": null,
      "outputs": []
    }
  ]
}