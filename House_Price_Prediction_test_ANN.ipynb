{
  "nbformat": 4,
  "nbformat_minor": 0,
  "metadata": {
    "colab": {
      "provenance": [],
      "mount_file_id": "1Qpgr7uwH7YpEacRgkzj4QBgTvnyuYvoz",
      "authorship_tag": "ABX9TyMT5t20yW7o0iJTXSX7EEIi",
      "include_colab_link": true
    },
    "kernelspec": {
      "name": "python3",
      "display_name": "Python 3"
    },
    "language_info": {
      "name": "python"
    }
  },
  "cells": [
    {
      "cell_type": "markdown",
      "metadata": {
        "id": "view-in-github",
        "colab_type": "text"
      },
      "source": [
        "<a href=\"https://colab.research.google.com/github/HarikrishnanK9/DataSymphony/blob/main/House_Price_Prediction_test_ANN.ipynb\" target=\"_parent\"><img src=\"https://colab.research.google.com/assets/colab-badge.svg\" alt=\"Open In Colab\"/></a>"
      ]
    },
    {
      "cell_type": "code",
      "source": [
        "from google.colab import drive\n",
        "drive.mount('/content/drive')"
      ],
      "metadata": {
        "colab": {
          "base_uri": "https://localhost:8080/"
        },
        "id": "G9hr5WSoSCJ1",
        "outputId": "4bf2e828-f4c1-473c-99eb-5c28fab3ff18"
      },
      "execution_count": 1,
      "outputs": [
        {
          "output_type": "stream",
          "name": "stdout",
          "text": [
            "Mounted at /content/drive\n"
          ]
        }
      ]
    },
    {
      "cell_type": "code",
      "source": [
        "import numpy as np\n",
        "import pandas as pd\n",
        "from keras.models import load_model\n",
        "from sklearn.preprocessing import MinMaxScaler"
      ],
      "metadata": {
        "id": "5mwIjTjlSDsw"
      },
      "execution_count": 2,
      "outputs": []
    },
    {
      "cell_type": "code",
      "source": [
        "!cp '/content/drive/MyDrive/DL_Ann/house_price_prediction_model.h5' '/content/'"
      ],
      "metadata": {
        "id": "g_Pk90j7THrA"
      },
      "execution_count": 3,
      "outputs": []
    },
    {
      "cell_type": "code",
      "source": [
        "!cp '/content/drive/MyDrive/DL_Ann/scaling_params1.npy' '/content/'"
      ],
      "metadata": {
        "id": "OH-BzdTsTpFn"
      },
      "execution_count": 4,
      "outputs": []
    },
    {
      "cell_type": "code",
      "source": [
        "#load the model\n",
        "loaded_model = load_model('/content/drive/MyDrive/DL_Ann/house_price_prediction_model.h5')\n"
      ],
      "metadata": {
        "id": "Xewrmx4TTzK-"
      },
      "execution_count": 5,
      "outputs": []
    },
    {
      "cell_type": "code",
      "source": [
        "#load the scaler parameters\n",
        "scaler_params1 = np.load('/content/scaling_params1.npy')\n",
        "\n",
        "scaler = MinMaxScaler()#scaler= training il cheytha min_max_scaler aanu\n",
        "scaler.min_,scaler.scale_ = scaler_params1"
      ],
      "metadata": {
        "id": "_D-toHQmUXi_"
      },
      "execution_count": 8,
      "outputs": []
    },
    {
      "cell_type": "code",
      "source": [
        "lot_area = int(input(\"Lot Area:\"))\n",
        "overall_qual = int(input(\"Overall Quality:\"))\n",
        "overall_cond = int(input(\"Overall Condition\"))\n",
        "total_bsmt_sf = int(input(\"Total Basement Area\"))\n",
        "full_bath = int(input(\"No.of Full Bathrooms:\"))\n",
        "half_bath = int(input(\"No.of Half Bathrooms: \"))\n",
        "bedroom_abv_gr = int(input(\"No of Bedroom Above Ground:\"))\n",
        "tot_rms_abv_gr = int(input(\"No of Rooms Above Ground:\"))\n",
        "fireplaces = int(input(\"No of Fireplaces:\"))\n",
        "garage_area = int(input(\"Garage Area:\"))"
      ],
      "metadata": {
        "colab": {
          "base_uri": "https://localhost:8080/"
        },
        "id": "3-97VwQmUrAn",
        "outputId": "99113108-bb03-4747-8369-f03f47ba7abd"
      },
      "execution_count": 12,
      "outputs": [
        {
          "name": "stdout",
          "output_type": "stream",
          "text": [
            "Lot Area:8450\n",
            "Overall Quality:6\n",
            "Overall Condition5\n",
            "Total Basement Area756\n",
            "No.of Full Bathrooms:2\n",
            "No.of Half Bathrooms: 1\n",
            "No of Bedroom Above Ground:3\n",
            "No of Rooms Above Ground:8\n",
            "No of Fireplaces:2\n",
            "Garage Area:486\n"
          ]
        }
      ]
    },
    {
      "cell_type": "code",
      "source": [
        "#create a numpy array with user input\n",
        "input_data = np.array([[\n",
        "               lot_area,\n",
        "               overall_qual,\n",
        "               overall_cond,\n",
        "               total_bsmt_sf,\n",
        "               full_bath,\n",
        "               half_bath,\n",
        "               bedroom_abv_gr,\n",
        "               tot_rms_abv_gr,\n",
        "               fireplaces,\n",
        "               garage_area\n",
        "]])"
      ],
      "metadata": {
        "id": "1Ai2z5FrXRhS"
      },
      "execution_count": 13,
      "outputs": []
    },
    {
      "cell_type": "code",
      "source": [
        "input_data"
      ],
      "metadata": {
        "colab": {
          "base_uri": "https://localhost:8080/"
        },
        "id": "tU6d_Rxka_-P",
        "outputId": "ae2c09bd-d47f-4c1b-df3f-9ceeaab719a3"
      },
      "execution_count": 14,
      "outputs": [
        {
          "output_type": "execute_result",
          "data": {
            "text/plain": [
              "array([[8450,    6,    5,  756,    2,    1,    3,    8,    2,  486]])"
            ]
          },
          "metadata": {},
          "execution_count": 14
        }
      ]
    },
    {
      "cell_type": "code",
      "source": [
        "input_data_scaled = scaler.transform(input_data)"
      ],
      "metadata": {
        "id": "kNGWdHs4bCUv"
      },
      "execution_count": 15,
      "outputs": []
    },
    {
      "cell_type": "code",
      "source": [
        "input_data_scaled"
      ],
      "metadata": {
        "colab": {
          "base_uri": "https://localhost:8080/"
        },
        "id": "AtuxnfzKbnkQ",
        "outputId": "4c850686-5f40-409e-f9ea-1c7cfd27e7fb"
      },
      "execution_count": 16,
      "outputs": [
        {
          "output_type": "execute_result",
          "data": {
            "text/plain": [
              "array([[0.0334198 , 0.55555556, 0.5       , 0.12373159, 0.66666667,\n",
              "        0.5       , 0.375     , 0.5       , 0.66666667, 0.34273625]])"
            ]
          },
          "metadata": {},
          "execution_count": 16
        }
      ]
    },
    {
      "cell_type": "code",
      "source": [
        "prediction = loaded_model.predict(input_data_scaled)"
      ],
      "metadata": {
        "colab": {
          "base_uri": "https://localhost:8080/"
        },
        "id": "7XisMFvZbsz7",
        "outputId": "1ed71f7e-6ee4-4070-cf0d-5075b19efb58"
      },
      "execution_count": 17,
      "outputs": [
        {
          "output_type": "stream",
          "name": "stdout",
          "text": [
            "1/1 [==============================] - 0s 255ms/step\n"
          ]
        }
      ]
    },
    {
      "cell_type": "code",
      "source": [
        "result=prediction[0][0]"
      ],
      "metadata": {
        "id": "zNfPRFUvb57P"
      },
      "execution_count": 18,
      "outputs": []
    },
    {
      "cell_type": "code",
      "source": [
        "result"
      ],
      "metadata": {
        "colab": {
          "base_uri": "https://localhost:8080/"
        },
        "id": "FJeqkvIfcMjf",
        "outputId": "862a4a01-7a1c-415a-e526-087a14892581"
      },
      "execution_count": 19,
      "outputs": [
        {
          "output_type": "execute_result",
          "data": {
            "text/plain": [
              "0.910548"
            ]
          },
          "metadata": {},
          "execution_count": 19
        }
      ]
    },
    {
      "cell_type": "code",
      "source": [
        "if result >0.5:\n",
        "  print(\"Above median price\")\n",
        "else:\n",
        "  print(\"Below median price\")"
      ],
      "metadata": {
        "colab": {
          "base_uri": "https://localhost:8080/"
        },
        "id": "jGinFklccNNw",
        "outputId": "3769d151-20b8-4922-ffaf-aeeb9c9eb4d0"
      },
      "execution_count": 27,
      "outputs": [
        {
          "output_type": "stream",
          "name": "stdout",
          "text": [
            "Above median price\n"
          ]
        }
      ]
    },
    {
      "cell_type": "code",
      "source": [],
      "metadata": {
        "id": "_AAkT8mlcbqn"
      },
      "execution_count": null,
      "outputs": []
    }
  ]
}