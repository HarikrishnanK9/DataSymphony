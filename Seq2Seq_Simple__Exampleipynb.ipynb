{
  "nbformat": 4,
  "nbformat_minor": 0,
  "metadata": {
    "colab": {
      "provenance": [],
      "gpuType": "T4",
      "authorship_tag": "ABX9TyM3xn3jUAK0Heuft+Xi3I/S",
      "include_colab_link": true
    },
    "kernelspec": {
      "name": "python3",
      "display_name": "Python 3"
    },
    "language_info": {
      "name": "python"
    },
    "accelerator": "GPU"
  },
  "cells": [
    {
      "cell_type": "markdown",
      "metadata": {
        "id": "view-in-github",
        "colab_type": "text"
      },
      "source": [
        "<a href=\"https://colab.research.google.com/github/HarikrishnanK9/DataSymphony/blob/main/Seq2Seq_Simple__Exampleipynb.ipynb\" target=\"_parent\"><img src=\"https://colab.research.google.com/assets/colab-badge.svg\" alt=\"Open In Colab\"/></a>"
      ]
    },
    {
      "cell_type": "markdown",
      "source": [
        "#Step 1: Data Preprocessing\n"
      ],
      "metadata": {
        "id": "2EKLS20M4s38"
      }
    },
    {
      "cell_type": "code",
      "execution_count": 7,
      "metadata": {
        "id": "3UIWV9lS4PPo"
      },
      "outputs": [],
      "source": [
        "from tensorflow.keras.preprocessing.text import Tokenizer\n",
        "from tensorflow.keras.preprocessing.sequence import pad_sequences\n",
        "import numpy as np\n",
        "\n",
        "def data_preprocessor(source_sentences, target_sentences):\n",
        "\n",
        "    source_tokenizer = Tokenizer()\n",
        "    source_tokenizer.fit_on_texts(source_sentences)\n",
        "    source_sequences = source_tokenizer.texts_to_sequences(source_sentences)\n",
        "    source_padded = pad_sequences(source_sequences, padding='post')\n",
        "\n",
        "    target_tokenizer = Tokenizer()\n",
        "    target_tokenizer.fit_on_texts(target_sentences)\n",
        "    target_sequences = target_tokenizer.texts_to_sequences(target_sentences)\n",
        "    target_padded = pad_sequences(target_sequences, padding='post')\n",
        "\n",
        "    return source_padded, target_padded, source_tokenizer, target_tokenizer\n",
        "\n",
        "english_sentences = ['hello', 'world', 'how are you', 'I am fine', 'have a good day']\n",
        "spanish_sentences = ['hola', 'mundo', 'cómo estás', 'estoy bien', 'ten un buen día']\n",
        "input_texts, target_texts, source_tokenizer, target_tokenizer = data_preprocessor(english_sentences, spanish_sentences)\n"
      ]
    },
    {
      "cell_type": "markdown",
      "source": [
        "#Step 2: Building the Model\n"
      ],
      "metadata": {
        "id": "T1HjFHAb4w_r"
      }
    },
    {
      "cell_type": "code",
      "source": [
        "from tensorflow.keras.layers import Input, LSTM, Dense, Embedding, Concatenate\n",
        "from tensorflow.keras.layers import AdditiveAttention as Attention\n",
        "from tensorflow.keras.models import Model\n",
        "\n",
        "# Model parameters\n",
        "embedding_dim = 256\n",
        "latent_dim = 512\n",
        "num_encoder_tokens = len(source_tokenizer.word_index) + 1\n",
        "num_decoder_tokens = len(target_tokenizer.word_index) + 1\n",
        "\n",
        "# Encoder\n",
        "encoder_inputs = Input(shape=(None,))\n",
        "encoder_embedding = Embedding(num_encoder_tokens, embedding_dim)(encoder_inputs)\n",
        "encoder_lstm = LSTM(latent_dim, return_state=True)\n",
        "encoder_outputs, state_h, state_c = encoder_lstm(encoder_embedding)\n",
        "encoder_states = [state_h, state_c]\n",
        "\n",
        "# Decoder\n",
        "decoder_inputs = Input(shape=(None,))\n",
        "decoder_embedding = Embedding(num_decoder_tokens, embedding_dim)(decoder_inputs)\n",
        "decoder_lstm = LSTM(latent_dim, return_sequences=True, return_state=True)\n",
        "decoder_outputs, _, _ = decoder_lstm(decoder_embedding, initial_state=encoder_states)\n",
        "\n",
        "# Attention Layer\n",
        "attention = Attention()\n",
        "attention_output = attention([decoder_outputs, encoder_outputs])\n",
        "\n",
        "# Concatenating attention output and decoder LSTM output\n",
        "decoder_concat_input = Concatenate(axis=-1)([decoder_outputs, attention_output])\n",
        "\n",
        "# Dense layer\n",
        "decoder_dense = Dense(num_decoder_tokens, activation='softmax')\n",
        "decoder_outputs = decoder_dense(decoder_concat_input)\n",
        "\n",
        "# Define the model\n",
        "model = Model([encoder_inputs, decoder_inputs], decoder_outputs)\n",
        "model.compile(optimizer='rmsprop', loss='categorical_crossentropy', metrics=['accuracy'])"
      ],
      "metadata": {
        "id": "uHYBM2cG4S1O"
      },
      "execution_count": 8,
      "outputs": []
    },
    {
      "cell_type": "markdown",
      "source": [
        "#Step 3: Training the Model\n"
      ],
      "metadata": {
        "id": "j-zHMiB1404p"
      }
    },
    {
      "cell_type": "code",
      "source": [
        "from tensorflow.keras.utils import to_categorical\n",
        "decoder_target_data = to_categorical(target_texts, num_decoder_tokens)\n",
        "model.fit([input_texts, target_texts], decoder_target_data, batch_size=64, epochs=50, validation_split=0.2)"
      ],
      "metadata": {
        "colab": {
          "base_uri": "https://localhost:8080/"
        },
        "id": "YXdeCYyZ4ZiS",
        "outputId": "2b87dfd3-095f-4c57-bc99-8c234fd48ad8"
      },
      "execution_count": 9,
      "outputs": [
        {
          "output_type": "stream",
          "name": "stdout",
          "text": [
            "Epoch 1/50\n",
            "1/1 [==============================] - 4s 4s/step - loss: 2.4009 - accuracy: 0.0000e+00 - val_loss: 2.4058 - val_accuracy: 0.0000e+00\n",
            "Epoch 2/50\n",
            "1/1 [==============================] - 0s 39ms/step - loss: 2.2543 - accuracy: 0.6250 - val_loss: 2.4170 - val_accuracy: 0.0000e+00\n",
            "Epoch 3/50\n",
            "1/1 [==============================] - 0s 40ms/step - loss: 2.1026 - accuracy: 0.6250 - val_loss: 2.4336 - val_accuracy: 0.0000e+00\n",
            "Epoch 4/50\n",
            "1/1 [==============================] - 0s 65ms/step - loss: 1.8928 - accuracy: 0.6250 - val_loss: 2.4614 - val_accuracy: 0.0000e+00\n",
            "Epoch 5/50\n",
            "1/1 [==============================] - 0s 38ms/step - loss: 1.5963 - accuracy: 0.6250 - val_loss: 2.5131 - val_accuracy: 0.0000e+00\n",
            "Epoch 6/50\n",
            "1/1 [==============================] - 0s 41ms/step - loss: 1.2993 - accuracy: 0.6250 - val_loss: 2.5809 - val_accuracy: 0.0000e+00\n",
            "Epoch 7/50\n",
            "1/1 [==============================] - 0s 40ms/step - loss: 1.2045 - accuracy: 0.6250 - val_loss: 2.6110 - val_accuracy: 0.0000e+00\n",
            "Epoch 8/50\n",
            "1/1 [==============================] - 0s 56ms/step - loss: 1.1520 - accuracy: 0.6250 - val_loss: 2.6560 - val_accuracy: 0.0000e+00\n",
            "Epoch 9/50\n",
            "1/1 [==============================] - 0s 71ms/step - loss: 1.1084 - accuracy: 0.6250 - val_loss: 2.6908 - val_accuracy: 0.0000e+00\n",
            "Epoch 10/50\n",
            "1/1 [==============================] - 0s 63ms/step - loss: 1.0706 - accuracy: 0.6250 - val_loss: 2.7312 - val_accuracy: 0.0000e+00\n",
            "Epoch 11/50\n",
            "1/1 [==============================] - 0s 71ms/step - loss: 1.0365 - accuracy: 0.6250 - val_loss: 2.7698 - val_accuracy: 0.0000e+00\n",
            "Epoch 12/50\n",
            "1/1 [==============================] - 0s 71ms/step - loss: 1.0047 - accuracy: 0.6250 - val_loss: 2.8117 - val_accuracy: 0.0000e+00\n",
            "Epoch 13/50\n",
            "1/1 [==============================] - 0s 55ms/step - loss: 0.9745 - accuracy: 0.6250 - val_loss: 2.8550 - val_accuracy: 0.0000e+00\n",
            "Epoch 14/50\n",
            "1/1 [==============================] - 0s 78ms/step - loss: 0.9452 - accuracy: 0.6250 - val_loss: 2.9016 - val_accuracy: 0.0000e+00\n",
            "Epoch 15/50\n",
            "1/1 [==============================] - 0s 52ms/step - loss: 0.9162 - accuracy: 0.6250 - val_loss: 2.9512 - val_accuracy: 0.0000e+00\n",
            "Epoch 16/50\n",
            "1/1 [==============================] - 0s 68ms/step - loss: 0.8874 - accuracy: 0.6250 - val_loss: 3.0051 - val_accuracy: 0.0000e+00\n",
            "Epoch 17/50\n",
            "1/1 [==============================] - 0s 54ms/step - loss: 0.8584 - accuracy: 0.6250 - val_loss: 3.0635 - val_accuracy: 0.0000e+00\n",
            "Epoch 18/50\n",
            "1/1 [==============================] - 0s 55ms/step - loss: 0.8290 - accuracy: 0.6250 - val_loss: 3.1273 - val_accuracy: 0.0000e+00\n",
            "Epoch 19/50\n",
            "1/1 [==============================] - 0s 72ms/step - loss: 0.7992 - accuracy: 0.6250 - val_loss: 3.1969 - val_accuracy: 0.0000e+00\n",
            "Epoch 20/50\n",
            "1/1 [==============================] - 0s 76ms/step - loss: 0.7688 - accuracy: 0.6250 - val_loss: 3.2734 - val_accuracy: 0.0000e+00\n",
            "Epoch 21/50\n",
            "1/1 [==============================] - 0s 63ms/step - loss: 0.7377 - accuracy: 0.6875 - val_loss: 3.3571 - val_accuracy: 0.0000e+00\n",
            "Epoch 22/50\n",
            "1/1 [==============================] - 0s 79ms/step - loss: 0.7058 - accuracy: 0.8125 - val_loss: 3.4495 - val_accuracy: 0.0000e+00\n",
            "Epoch 23/50\n",
            "1/1 [==============================] - 0s 61ms/step - loss: 0.6731 - accuracy: 0.8750 - val_loss: 3.5516 - val_accuracy: 0.0000e+00\n",
            "Epoch 24/50\n",
            "1/1 [==============================] - 0s 69ms/step - loss: 0.6395 - accuracy: 0.8750 - val_loss: 3.6662 - val_accuracy: 0.0000e+00\n",
            "Epoch 25/50\n",
            "1/1 [==============================] - 0s 71ms/step - loss: 0.6049 - accuracy: 0.8750 - val_loss: 3.7947 - val_accuracy: 0.0000e+00\n",
            "Epoch 26/50\n",
            "1/1 [==============================] - 0s 69ms/step - loss: 0.5696 - accuracy: 0.8750 - val_loss: 3.9427 - val_accuracy: 0.0000e+00\n",
            "Epoch 27/50\n",
            "1/1 [==============================] - 0s 65ms/step - loss: 0.5339 - accuracy: 0.8750 - val_loss: 4.1095 - val_accuracy: 0.0000e+00\n",
            "Epoch 28/50\n",
            "1/1 [==============================] - 0s 66ms/step - loss: 0.4984 - accuracy: 1.0000 - val_loss: 4.3051 - val_accuracy: 0.0000e+00\n",
            "Epoch 29/50\n",
            "1/1 [==============================] - 0s 70ms/step - loss: 0.4640 - accuracy: 1.0000 - val_loss: 4.5112 - val_accuracy: 0.0000e+00\n",
            "Epoch 30/50\n",
            "1/1 [==============================] - 0s 71ms/step - loss: 0.4314 - accuracy: 1.0000 - val_loss: 4.7619 - val_accuracy: 0.0000e+00\n",
            "Epoch 31/50\n",
            "1/1 [==============================] - 0s 67ms/step - loss: 0.4010 - accuracy: 1.0000 - val_loss: 4.9527 - val_accuracy: 0.0000e+00\n",
            "Epoch 32/50\n",
            "1/1 [==============================] - 0s 72ms/step - loss: 0.3731 - accuracy: 1.0000 - val_loss: 5.3436 - val_accuracy: 0.0000e+00\n",
            "Epoch 33/50\n",
            "1/1 [==============================] - 0s 75ms/step - loss: 0.3494 - accuracy: 1.0000 - val_loss: 5.1803 - val_accuracy: 0.0000e+00\n",
            "Epoch 34/50\n",
            "1/1 [==============================] - 0s 69ms/step - loss: 0.3418 - accuracy: 1.0000 - val_loss: 6.4349 - val_accuracy: 0.0000e+00\n",
            "Epoch 35/50\n",
            "1/1 [==============================] - 0s 83ms/step - loss: 0.3745 - accuracy: 0.8125 - val_loss: 5.0017 - val_accuracy: 0.0000e+00\n",
            "Epoch 36/50\n",
            "1/1 [==============================] - 0s 60ms/step - loss: 0.4022 - accuracy: 0.9375 - val_loss: 7.1290 - val_accuracy: 0.0000e+00\n",
            "Epoch 37/50\n",
            "1/1 [==============================] - 0s 61ms/step - loss: 0.4552 - accuracy: 0.8125 - val_loss: 5.3668 - val_accuracy: 0.0000e+00\n",
            "Epoch 38/50\n",
            "1/1 [==============================] - 0s 51ms/step - loss: 0.3002 - accuracy: 1.0000 - val_loss: 6.3604 - val_accuracy: 0.0000e+00\n",
            "Epoch 39/50\n",
            "1/1 [==============================] - 0s 65ms/step - loss: 0.2589 - accuracy: 0.9375 - val_loss: 6.1461 - val_accuracy: 0.0000e+00\n",
            "Epoch 40/50\n",
            "1/1 [==============================] - 0s 66ms/step - loss: 0.2378 - accuracy: 0.9375 - val_loss: 6.4045 - val_accuracy: 0.0000e+00\n",
            "Epoch 41/50\n",
            "1/1 [==============================] - 0s 62ms/step - loss: 0.2263 - accuracy: 0.9375 - val_loss: 6.5464 - val_accuracy: 0.0000e+00\n",
            "Epoch 42/50\n",
            "1/1 [==============================] - 0s 60ms/step - loss: 0.2156 - accuracy: 0.9375 - val_loss: 6.7157 - val_accuracy: 0.0000e+00\n",
            "Epoch 43/50\n",
            "1/1 [==============================] - 0s 71ms/step - loss: 0.2044 - accuracy: 0.9375 - val_loss: 6.8794 - val_accuracy: 0.0000e+00\n",
            "Epoch 44/50\n",
            "1/1 [==============================] - 0s 73ms/step - loss: 0.1934 - accuracy: 0.9375 - val_loss: 7.0386 - val_accuracy: 0.0000e+00\n",
            "Epoch 45/50\n",
            "1/1 [==============================] - 0s 64ms/step - loss: 0.1828 - accuracy: 0.9375 - val_loss: 7.2025 - val_accuracy: 0.0000e+00\n",
            "Epoch 46/50\n",
            "1/1 [==============================] - 0s 69ms/step - loss: 0.1729 - accuracy: 0.9375 - val_loss: 7.3608 - val_accuracy: 0.0000e+00\n",
            "Epoch 47/50\n",
            "1/1 [==============================] - 0s 75ms/step - loss: 0.1640 - accuracy: 0.9375 - val_loss: 7.5178 - val_accuracy: 0.0000e+00\n",
            "Epoch 48/50\n",
            "1/1 [==============================] - 0s 84ms/step - loss: 0.1559 - accuracy: 0.9375 - val_loss: 7.6746 - val_accuracy: 0.0000e+00\n",
            "Epoch 49/50\n",
            "1/1 [==============================] - 0s 55ms/step - loss: 0.1486 - accuracy: 0.9375 - val_loss: 7.8182 - val_accuracy: 0.0000e+00\n",
            "Epoch 50/50\n",
            "1/1 [==============================] - 0s 40ms/step - loss: 0.1419 - accuracy: 0.9375 - val_loss: 7.9735 - val_accuracy: 0.0000e+00\n"
          ]
        },
        {
          "output_type": "execute_result",
          "data": {
            "text/plain": [
              "<keras.src.callbacks.History at 0x7c81a03db820>"
            ]
          },
          "metadata": {},
          "execution_count": 9
        }
      ]
    },
    {
      "cell_type": "markdown",
      "source": [
        "#Step 4: Inference Model\n"
      ],
      "metadata": {
        "id": "ONqr5a1-49c2"
      }
    },
    {
      "cell_type": "code",
      "source": [
        "# Encoder Inference Model\n",
        "encoder_model = Model(encoder_inputs, encoder_states)\n",
        "\n",
        "# Decoder Inference Model\n",
        "decoder_state_input_h = Input(shape=(latent_dim,))\n",
        "decoder_state_input_c = Input(shape=(latent_dim,))\n",
        "decoder_states_inputs = [decoder_state_input_h, decoder_state_input_c]\n",
        "decoder_outputs, state_h, state_c = decoder_lstm(decoder_embedding, initial_state=decoder_states_inputs)\n",
        "decoder_states = [state_h, state_c]\n",
        "decoder_outputs = decoder_dense(decoder_outputs)\n",
        "decoder_model = Model([decoder_inputs] + decoder_states_inputs, [decoder_outputs] + decoder_states)"
      ],
      "metadata": {
        "id": "AfvSHPqp4c2Z"
      },
      "execution_count": 10,
      "outputs": []
    },
    {
      "cell_type": "markdown",
      "source": [
        "#Step 5: Translation Function\n"
      ],
      "metadata": {
        "id": "l0Sy99hJ5C4d"
      }
    },
    {
      "cell_type": "code",
      "source": [
        "def translate(input_text):\n",
        "    # Tokenize and pad the input sequence\n",
        "    input_seq = source_tokenizer.texts_to_sequences([input_text])\n",
        "    input_seq = pad_sequences(input_seq, maxlen=input_texts.shape[1], padding='post')\n",
        "\n",
        "    # Get the encoder states\n",
        "    states_value = encoder_model.predict(input_seq)\n",
        "\n",
        "    # Generate an empty target sequence of length 1\n",
        "    target_seq = np.zeros((1, 1))\n",
        "\n",
        "    # Populate the first character of the target sequence with the start character\n",
        "    target_seq[0, 0] = target_tokenizer.word_index['start']  # Assuming 'start' is the start token\n",
        "\n",
        "    stop_condition = False\n",
        "    decoded_sentence = ''\n",
        "    while not stop_condition:\n",
        "        output_tokens, h, c = decoder_model.predict([target_seq] + states_value)\n",
        "\n",
        "        # Sample a token\n",
        "        sampled_token_index = np.argmax(output_tokens[0, -1, :])\n",
        "        sampled_char = target_tokenizer.index_word[sampled_token_index]\n",
        "        decoded_sentence += ' ' + sampled_char\n",
        "\n",
        "        # Exit condition: either hit max length or find stop token.\n",
        "        if (sampled_char == 'end' or len(decoded_sentence) > 50):  # Assuming 'end' is the end token\n",
        "            stop_condition = True\n",
        "\n",
        "        # Update the target sequence (of length 1).\n",
        "        target_seq = np.zeros((1, 1))\n",
        "        target_seq[0, 0] = sampled_token_index\n",
        "\n",
        "        # Update states\n",
        "        states_value = [h, c]\n",
        "\n",
        "    return decoded_sentence\n",
        "\n",
        "# Example usage\n",
        "translated_sentence = translate(\"hello\")\n",
        "print(translated_sentence)"
      ],
      "metadata": {
        "colab": {
          "base_uri": "https://localhost:8080/",
          "height": 332
        },
        "id": "-FXG_Nt_4hJz",
        "outputId": "c8a21beb-388e-42f4-985d-c3713337df64"
      },
      "execution_count": 11,
      "outputs": [
        {
          "output_type": "stream",
          "name": "stdout",
          "text": [
            "1/1 [==============================] - 0s 359ms/step\n"
          ]
        },
        {
          "output_type": "error",
          "ename": "KeyError",
          "evalue": "'start'",
          "traceback": [
            "\u001b[0;31m---------------------------------------------------------------------------\u001b[0m",
            "\u001b[0;31mKeyError\u001b[0m                                  Traceback (most recent call last)",
            "\u001b[0;32m<ipython-input-11-28447b8087e0>\u001b[0m in \u001b[0;36m<cell line: 39>\u001b[0;34m()\u001b[0m\n\u001b[1;32m     37\u001b[0m \u001b[0;34m\u001b[0m\u001b[0m\n\u001b[1;32m     38\u001b[0m \u001b[0;31m# Example usage\u001b[0m\u001b[0;34m\u001b[0m\u001b[0;34m\u001b[0m\u001b[0m\n\u001b[0;32m---> 39\u001b[0;31m \u001b[0mtranslated_sentence\u001b[0m \u001b[0;34m=\u001b[0m \u001b[0mtranslate\u001b[0m\u001b[0;34m(\u001b[0m\u001b[0;34m\"hello\"\u001b[0m\u001b[0;34m)\u001b[0m\u001b[0;34m\u001b[0m\u001b[0;34m\u001b[0m\u001b[0m\n\u001b[0m\u001b[1;32m     40\u001b[0m \u001b[0mprint\u001b[0m\u001b[0;34m(\u001b[0m\u001b[0mtranslated_sentence\u001b[0m\u001b[0;34m)\u001b[0m\u001b[0;34m\u001b[0m\u001b[0;34m\u001b[0m\u001b[0m\n",
            "\u001b[0;32m<ipython-input-11-28447b8087e0>\u001b[0m in \u001b[0;36mtranslate\u001b[0;34m(input_text)\u001b[0m\n\u001b[1;32m     11\u001b[0m \u001b[0;34m\u001b[0m\u001b[0m\n\u001b[1;32m     12\u001b[0m     \u001b[0;31m# Populate the first character of the target sequence with the start character\u001b[0m\u001b[0;34m\u001b[0m\u001b[0;34m\u001b[0m\u001b[0m\n\u001b[0;32m---> 13\u001b[0;31m     \u001b[0mtarget_seq\u001b[0m\u001b[0;34m[\u001b[0m\u001b[0;36m0\u001b[0m\u001b[0;34m,\u001b[0m \u001b[0;36m0\u001b[0m\u001b[0;34m]\u001b[0m \u001b[0;34m=\u001b[0m \u001b[0mtarget_tokenizer\u001b[0m\u001b[0;34m.\u001b[0m\u001b[0mword_index\u001b[0m\u001b[0;34m[\u001b[0m\u001b[0;34m'start'\u001b[0m\u001b[0;34m]\u001b[0m  \u001b[0;31m# Assuming 'start' is the start token\u001b[0m\u001b[0;34m\u001b[0m\u001b[0;34m\u001b[0m\u001b[0m\n\u001b[0m\u001b[1;32m     14\u001b[0m \u001b[0;34m\u001b[0m\u001b[0m\n\u001b[1;32m     15\u001b[0m     \u001b[0mstop_condition\u001b[0m \u001b[0;34m=\u001b[0m \u001b[0;32mFalse\u001b[0m\u001b[0;34m\u001b[0m\u001b[0;34m\u001b[0m\u001b[0m\n",
            "\u001b[0;31mKeyError\u001b[0m: 'start'"
          ]
        }
      ]
    },
    {
      "cell_type": "code",
      "source": [],
      "metadata": {
        "id": "hzL0-nxd4kpz"
      },
      "execution_count": null,
      "outputs": []
    }
  ]
}