{
  "nbformat": 4,
  "nbformat_minor": 0,
  "metadata": {
    "colab": {
      "provenance": [],
      "authorship_tag": "ABX9TyP8/UrAZEYdPaK2EVE/OU+P",
      "include_colab_link": true
    },
    "kernelspec": {
      "name": "python3",
      "display_name": "Python 3"
    },
    "language_info": {
      "name": "python"
    }
  },
  "cells": [
    {
      "cell_type": "markdown",
      "metadata": {
        "id": "view-in-github",
        "colab_type": "text"
      },
      "source": [
        "<a href=\"https://colab.research.google.com/github/HarikrishnanK9/DataSymphony/blob/main/NN_BinaryClassification.ipynb\" target=\"_parent\"><img src=\"https://colab.research.google.com/assets/colab-badge.svg\" alt=\"Open In Colab\"/></a>"
      ]
    },
    {
      "cell_type": "code",
      "execution_count": 1,
      "metadata": {
        "id": "s5GMBsHb2yJM"
      },
      "outputs": [],
      "source": [
        "import numpy as np\n",
        "import pandas as pd\n",
        "import matplotlib.pyplot as plt\n",
        "import seaborn as sns\n",
        "import tensorflow as tf\n"
      ]
    },
    {
      "cell_type": "code",
      "source": [
        "df=pd.read_csv(\"/content/hotel.csv\")"
      ],
      "metadata": {
        "colab": {
          "base_uri": "https://localhost:8080/"
        },
        "id": "3WI6sleS3GK1",
        "outputId": "26a3715e-2104-4286-e356-eda938563461"
      },
      "execution_count": 2,
      "outputs": [
        {
          "output_type": "stream",
          "name": "stderr",
          "text": [
            "<ipython-input-2-1d464868e76e>:1: DtypeWarning: Columns (24) have mixed types. Specify dtype option on import or set low_memory=False.\n",
            "  df=pd.read_csv(\"/content/hotel.csv\")\n"
          ]
        }
      ]
    },
    {
      "cell_type": "code",
      "source": [
        "df.head()"
      ],
      "metadata": {
        "colab": {
          "base_uri": "https://localhost:8080/",
          "height": 342
        },
        "id": "WsCb-OIJ3rB2",
        "outputId": "dca7af08-2c1d-4160-bd0b-2ed68d2803d1"
      },
      "execution_count": 3,
      "outputs": [
        {
          "output_type": "execute_result",
          "data": {
            "text/plain": [
              "          hotel  is_canceled  lead_time  arrival_date_year arrival_date_month  \\\n",
              "0  Resort Hotel            0        342               2015               July   \n",
              "1  Resort Hotel            0        737               2015               July   \n",
              "2  Resort Hotel            0          7               2015               July   \n",
              "3  Resort Hotel            0         13               2015               July   \n",
              "4  Resort Hotel            0         14               2015               July   \n",
              "\n",
              "   arrival_date_week_number  arrival_date_day_of_month  \\\n",
              "0                        27                          1   \n",
              "1                        27                          1   \n",
              "2                        27                          1   \n",
              "3                        27                          1   \n",
              "4                        27                          1   \n",
              "\n",
              "   stays_in_weekend_nights  stays_in_week_nights  adults  ...  deposit_type  \\\n",
              "0                        0                     0       2  ...    No Deposit   \n",
              "1                        0                     0       2  ...    No Deposit   \n",
              "2                        0                     1       1  ...    No Deposit   \n",
              "3                        0                     1       1  ...    No Deposit   \n",
              "4                        0                     2       2  ...    No Deposit   \n",
              "\n",
              "   agent company days_in_waiting_list customer_type   adr  \\\n",
              "0    NaN     NaN                  0.0     Transient   0.0   \n",
              "1    NaN     NaN                  0.0     Transient   0.0   \n",
              "2    NaN     NaN                  0.0     Transient  75.0   \n",
              "3  304.0     NaN                  0.0     Transient  75.0   \n",
              "4  240.0     NaN                  0.0     Transient  98.0   \n",
              "\n",
              "   required_car_parking_spaces  total_of_special_requests  reservation_status  \\\n",
              "0                          0.0                        0.0           Check-Out   \n",
              "1                          0.0                        0.0           Check-Out   \n",
              "2                          0.0                        0.0           Check-Out   \n",
              "3                          0.0                        0.0           Check-Out   \n",
              "4                          0.0                        1.0           Check-Out   \n",
              "\n",
              "  reservation_status_date  \n",
              "0              2015-07-01  \n",
              "1              2015-07-01  \n",
              "2              2015-07-02  \n",
              "3              2015-07-02  \n",
              "4              2015-07-03  \n",
              "\n",
              "[5 rows x 32 columns]"
            ],
            "text/html": [
              "\n",
              "  <div id=\"df-b449cc7b-46a1-444b-b45e-9bea7c2a1376\" class=\"colab-df-container\">\n",
              "    <div>\n",
              "<style scoped>\n",
              "    .dataframe tbody tr th:only-of-type {\n",
              "        vertical-align: middle;\n",
              "    }\n",
              "\n",
              "    .dataframe tbody tr th {\n",
              "        vertical-align: top;\n",
              "    }\n",
              "\n",
              "    .dataframe thead th {\n",
              "        text-align: right;\n",
              "    }\n",
              "</style>\n",
              "<table border=\"1\" class=\"dataframe\">\n",
              "  <thead>\n",
              "    <tr style=\"text-align: right;\">\n",
              "      <th></th>\n",
              "      <th>hotel</th>\n",
              "      <th>is_canceled</th>\n",
              "      <th>lead_time</th>\n",
              "      <th>arrival_date_year</th>\n",
              "      <th>arrival_date_month</th>\n",
              "      <th>arrival_date_week_number</th>\n",
              "      <th>arrival_date_day_of_month</th>\n",
              "      <th>stays_in_weekend_nights</th>\n",
              "      <th>stays_in_week_nights</th>\n",
              "      <th>adults</th>\n",
              "      <th>...</th>\n",
              "      <th>deposit_type</th>\n",
              "      <th>agent</th>\n",
              "      <th>company</th>\n",
              "      <th>days_in_waiting_list</th>\n",
              "      <th>customer_type</th>\n",
              "      <th>adr</th>\n",
              "      <th>required_car_parking_spaces</th>\n",
              "      <th>total_of_special_requests</th>\n",
              "      <th>reservation_status</th>\n",
              "      <th>reservation_status_date</th>\n",
              "    </tr>\n",
              "  </thead>\n",
              "  <tbody>\n",
              "    <tr>\n",
              "      <th>0</th>\n",
              "      <td>Resort Hotel</td>\n",
              "      <td>0</td>\n",
              "      <td>342</td>\n",
              "      <td>2015</td>\n",
              "      <td>July</td>\n",
              "      <td>27</td>\n",
              "      <td>1</td>\n",
              "      <td>0</td>\n",
              "      <td>0</td>\n",
              "      <td>2</td>\n",
              "      <td>...</td>\n",
              "      <td>No Deposit</td>\n",
              "      <td>NaN</td>\n",
              "      <td>NaN</td>\n",
              "      <td>0.0</td>\n",
              "      <td>Transient</td>\n",
              "      <td>0.0</td>\n",
              "      <td>0.0</td>\n",
              "      <td>0.0</td>\n",
              "      <td>Check-Out</td>\n",
              "      <td>2015-07-01</td>\n",
              "    </tr>\n",
              "    <tr>\n",
              "      <th>1</th>\n",
              "      <td>Resort Hotel</td>\n",
              "      <td>0</td>\n",
              "      <td>737</td>\n",
              "      <td>2015</td>\n",
              "      <td>July</td>\n",
              "      <td>27</td>\n",
              "      <td>1</td>\n",
              "      <td>0</td>\n",
              "      <td>0</td>\n",
              "      <td>2</td>\n",
              "      <td>...</td>\n",
              "      <td>No Deposit</td>\n",
              "      <td>NaN</td>\n",
              "      <td>NaN</td>\n",
              "      <td>0.0</td>\n",
              "      <td>Transient</td>\n",
              "      <td>0.0</td>\n",
              "      <td>0.0</td>\n",
              "      <td>0.0</td>\n",
              "      <td>Check-Out</td>\n",
              "      <td>2015-07-01</td>\n",
              "    </tr>\n",
              "    <tr>\n",
              "      <th>2</th>\n",
              "      <td>Resort Hotel</td>\n",
              "      <td>0</td>\n",
              "      <td>7</td>\n",
              "      <td>2015</td>\n",
              "      <td>July</td>\n",
              "      <td>27</td>\n",
              "      <td>1</td>\n",
              "      <td>0</td>\n",
              "      <td>1</td>\n",
              "      <td>1</td>\n",
              "      <td>...</td>\n",
              "      <td>No Deposit</td>\n",
              "      <td>NaN</td>\n",
              "      <td>NaN</td>\n",
              "      <td>0.0</td>\n",
              "      <td>Transient</td>\n",
              "      <td>75.0</td>\n",
              "      <td>0.0</td>\n",
              "      <td>0.0</td>\n",
              "      <td>Check-Out</td>\n",
              "      <td>2015-07-02</td>\n",
              "    </tr>\n",
              "    <tr>\n",
              "      <th>3</th>\n",
              "      <td>Resort Hotel</td>\n",
              "      <td>0</td>\n",
              "      <td>13</td>\n",
              "      <td>2015</td>\n",
              "      <td>July</td>\n",
              "      <td>27</td>\n",
              "      <td>1</td>\n",
              "      <td>0</td>\n",
              "      <td>1</td>\n",
              "      <td>1</td>\n",
              "      <td>...</td>\n",
              "      <td>No Deposit</td>\n",
              "      <td>304.0</td>\n",
              "      <td>NaN</td>\n",
              "      <td>0.0</td>\n",
              "      <td>Transient</td>\n",
              "      <td>75.0</td>\n",
              "      <td>0.0</td>\n",
              "      <td>0.0</td>\n",
              "      <td>Check-Out</td>\n",
              "      <td>2015-07-02</td>\n",
              "    </tr>\n",
              "    <tr>\n",
              "      <th>4</th>\n",
              "      <td>Resort Hotel</td>\n",
              "      <td>0</td>\n",
              "      <td>14</td>\n",
              "      <td>2015</td>\n",
              "      <td>July</td>\n",
              "      <td>27</td>\n",
              "      <td>1</td>\n",
              "      <td>0</td>\n",
              "      <td>2</td>\n",
              "      <td>2</td>\n",
              "      <td>...</td>\n",
              "      <td>No Deposit</td>\n",
              "      <td>240.0</td>\n",
              "      <td>NaN</td>\n",
              "      <td>0.0</td>\n",
              "      <td>Transient</td>\n",
              "      <td>98.0</td>\n",
              "      <td>0.0</td>\n",
              "      <td>1.0</td>\n",
              "      <td>Check-Out</td>\n",
              "      <td>2015-07-03</td>\n",
              "    </tr>\n",
              "  </tbody>\n",
              "</table>\n",
              "<p>5 rows × 32 columns</p>\n",
              "</div>\n",
              "    <div class=\"colab-df-buttons\">\n",
              "\n",
              "  <div class=\"colab-df-container\">\n",
              "    <button class=\"colab-df-convert\" onclick=\"convertToInteractive('df-b449cc7b-46a1-444b-b45e-9bea7c2a1376')\"\n",
              "            title=\"Convert this dataframe to an interactive table.\"\n",
              "            style=\"display:none;\">\n",
              "\n",
              "  <svg xmlns=\"http://www.w3.org/2000/svg\" height=\"24px\" viewBox=\"0 -960 960 960\">\n",
              "    <path d=\"M120-120v-720h720v720H120Zm60-500h600v-160H180v160Zm220 220h160v-160H400v160Zm0 220h160v-160H400v160ZM180-400h160v-160H180v160Zm440 0h160v-160H620v160ZM180-180h160v-160H180v160Zm440 0h160v-160H620v160Z\"/>\n",
              "  </svg>\n",
              "    </button>\n",
              "\n",
              "  <style>\n",
              "    .colab-df-container {\n",
              "      display:flex;\n",
              "      gap: 12px;\n",
              "    }\n",
              "\n",
              "    .colab-df-convert {\n",
              "      background-color: #E8F0FE;\n",
              "      border: none;\n",
              "      border-radius: 50%;\n",
              "      cursor: pointer;\n",
              "      display: none;\n",
              "      fill: #1967D2;\n",
              "      height: 32px;\n",
              "      padding: 0 0 0 0;\n",
              "      width: 32px;\n",
              "    }\n",
              "\n",
              "    .colab-df-convert:hover {\n",
              "      background-color: #E2EBFA;\n",
              "      box-shadow: 0px 1px 2px rgba(60, 64, 67, 0.3), 0px 1px 3px 1px rgba(60, 64, 67, 0.15);\n",
              "      fill: #174EA6;\n",
              "    }\n",
              "\n",
              "    .colab-df-buttons div {\n",
              "      margin-bottom: 4px;\n",
              "    }\n",
              "\n",
              "    [theme=dark] .colab-df-convert {\n",
              "      background-color: #3B4455;\n",
              "      fill: #D2E3FC;\n",
              "    }\n",
              "\n",
              "    [theme=dark] .colab-df-convert:hover {\n",
              "      background-color: #434B5C;\n",
              "      box-shadow: 0px 1px 3px 1px rgba(0, 0, 0, 0.15);\n",
              "      filter: drop-shadow(0px 1px 2px rgba(0, 0, 0, 0.3));\n",
              "      fill: #FFFFFF;\n",
              "    }\n",
              "  </style>\n",
              "\n",
              "    <script>\n",
              "      const buttonEl =\n",
              "        document.querySelector('#df-b449cc7b-46a1-444b-b45e-9bea7c2a1376 button.colab-df-convert');\n",
              "      buttonEl.style.display =\n",
              "        google.colab.kernel.accessAllowed ? 'block' : 'none';\n",
              "\n",
              "      async function convertToInteractive(key) {\n",
              "        const element = document.querySelector('#df-b449cc7b-46a1-444b-b45e-9bea7c2a1376');\n",
              "        const dataTable =\n",
              "          await google.colab.kernel.invokeFunction('convertToInteractive',\n",
              "                                                    [key], {});\n",
              "        if (!dataTable) return;\n",
              "\n",
              "        const docLinkHtml = 'Like what you see? Visit the ' +\n",
              "          '<a target=\"_blank\" href=https://colab.research.google.com/notebooks/data_table.ipynb>data table notebook</a>'\n",
              "          + ' to learn more about interactive tables.';\n",
              "        element.innerHTML = '';\n",
              "        dataTable['output_type'] = 'display_data';\n",
              "        await google.colab.output.renderOutput(dataTable, element);\n",
              "        const docLink = document.createElement('div');\n",
              "        docLink.innerHTML = docLinkHtml;\n",
              "        element.appendChild(docLink);\n",
              "      }\n",
              "    </script>\n",
              "  </div>\n",
              "\n",
              "\n",
              "<div id=\"df-798e1a01-9274-4068-8758-d46bd0dd9cbf\">\n",
              "  <button class=\"colab-df-quickchart\" onclick=\"quickchart('df-798e1a01-9274-4068-8758-d46bd0dd9cbf')\"\n",
              "            title=\"Suggest charts.\"\n",
              "            style=\"display:none;\">\n",
              "\n",
              "<svg xmlns=\"http://www.w3.org/2000/svg\" height=\"24px\"viewBox=\"0 0 24 24\"\n",
              "     width=\"24px\">\n",
              "    <g>\n",
              "        <path d=\"M19 3H5c-1.1 0-2 .9-2 2v14c0 1.1.9 2 2 2h14c1.1 0 2-.9 2-2V5c0-1.1-.9-2-2-2zM9 17H7v-7h2v7zm4 0h-2V7h2v10zm4 0h-2v-4h2v4z\"/>\n",
              "    </g>\n",
              "</svg>\n",
              "  </button>\n",
              "\n",
              "<style>\n",
              "  .colab-df-quickchart {\n",
              "      --bg-color: #E8F0FE;\n",
              "      --fill-color: #1967D2;\n",
              "      --hover-bg-color: #E2EBFA;\n",
              "      --hover-fill-color: #174EA6;\n",
              "      --disabled-fill-color: #AAA;\n",
              "      --disabled-bg-color: #DDD;\n",
              "  }\n",
              "\n",
              "  [theme=dark] .colab-df-quickchart {\n",
              "      --bg-color: #3B4455;\n",
              "      --fill-color: #D2E3FC;\n",
              "      --hover-bg-color: #434B5C;\n",
              "      --hover-fill-color: #FFFFFF;\n",
              "      --disabled-bg-color: #3B4455;\n",
              "      --disabled-fill-color: #666;\n",
              "  }\n",
              "\n",
              "  .colab-df-quickchart {\n",
              "    background-color: var(--bg-color);\n",
              "    border: none;\n",
              "    border-radius: 50%;\n",
              "    cursor: pointer;\n",
              "    display: none;\n",
              "    fill: var(--fill-color);\n",
              "    height: 32px;\n",
              "    padding: 0;\n",
              "    width: 32px;\n",
              "  }\n",
              "\n",
              "  .colab-df-quickchart:hover {\n",
              "    background-color: var(--hover-bg-color);\n",
              "    box-shadow: 0 1px 2px rgba(60, 64, 67, 0.3), 0 1px 3px 1px rgba(60, 64, 67, 0.15);\n",
              "    fill: var(--button-hover-fill-color);\n",
              "  }\n",
              "\n",
              "  .colab-df-quickchart-complete:disabled,\n",
              "  .colab-df-quickchart-complete:disabled:hover {\n",
              "    background-color: var(--disabled-bg-color);\n",
              "    fill: var(--disabled-fill-color);\n",
              "    box-shadow: none;\n",
              "  }\n",
              "\n",
              "  .colab-df-spinner {\n",
              "    border: 2px solid var(--fill-color);\n",
              "    border-color: transparent;\n",
              "    border-bottom-color: var(--fill-color);\n",
              "    animation:\n",
              "      spin 1s steps(1) infinite;\n",
              "  }\n",
              "\n",
              "  @keyframes spin {\n",
              "    0% {\n",
              "      border-color: transparent;\n",
              "      border-bottom-color: var(--fill-color);\n",
              "      border-left-color: var(--fill-color);\n",
              "    }\n",
              "    20% {\n",
              "      border-color: transparent;\n",
              "      border-left-color: var(--fill-color);\n",
              "      border-top-color: var(--fill-color);\n",
              "    }\n",
              "    30% {\n",
              "      border-color: transparent;\n",
              "      border-left-color: var(--fill-color);\n",
              "      border-top-color: var(--fill-color);\n",
              "      border-right-color: var(--fill-color);\n",
              "    }\n",
              "    40% {\n",
              "      border-color: transparent;\n",
              "      border-right-color: var(--fill-color);\n",
              "      border-top-color: var(--fill-color);\n",
              "    }\n",
              "    60% {\n",
              "      border-color: transparent;\n",
              "      border-right-color: var(--fill-color);\n",
              "    }\n",
              "    80% {\n",
              "      border-color: transparent;\n",
              "      border-right-color: var(--fill-color);\n",
              "      border-bottom-color: var(--fill-color);\n",
              "    }\n",
              "    90% {\n",
              "      border-color: transparent;\n",
              "      border-bottom-color: var(--fill-color);\n",
              "    }\n",
              "  }\n",
              "</style>\n",
              "\n",
              "  <script>\n",
              "    async function quickchart(key) {\n",
              "      const quickchartButtonEl =\n",
              "        document.querySelector('#' + key + ' button');\n",
              "      quickchartButtonEl.disabled = true;  // To prevent multiple clicks.\n",
              "      quickchartButtonEl.classList.add('colab-df-spinner');\n",
              "      try {\n",
              "        const charts = await google.colab.kernel.invokeFunction(\n",
              "            'suggestCharts', [key], {});\n",
              "      } catch (error) {\n",
              "        console.error('Error during call to suggestCharts:', error);\n",
              "      }\n",
              "      quickchartButtonEl.classList.remove('colab-df-spinner');\n",
              "      quickchartButtonEl.classList.add('colab-df-quickchart-complete');\n",
              "    }\n",
              "    (() => {\n",
              "      let quickchartButtonEl =\n",
              "        document.querySelector('#df-798e1a01-9274-4068-8758-d46bd0dd9cbf button');\n",
              "      quickchartButtonEl.style.display =\n",
              "        google.colab.kernel.accessAllowed ? 'block' : 'none';\n",
              "    })();\n",
              "  </script>\n",
              "</div>\n",
              "    </div>\n",
              "  </div>\n"
            ]
          },
          "metadata": {},
          "execution_count": 3
        }
      ]
    },
    {
      "cell_type": "code",
      "source": [
        "df.columns"
      ],
      "metadata": {
        "colab": {
          "base_uri": "https://localhost:8080/"
        },
        "id": "5JyK67hG9cGY",
        "outputId": "80e206ac-ad0a-4bbc-a2ed-e784c2593ed7"
      },
      "execution_count": 4,
      "outputs": [
        {
          "output_type": "execute_result",
          "data": {
            "text/plain": [
              "Index(['hotel', 'is_canceled', 'lead_time', 'arrival_date_year',\n",
              "       'arrival_date_month', 'arrival_date_week_number',\n",
              "       'arrival_date_day_of_month', 'stays_in_weekend_nights',\n",
              "       'stays_in_week_nights', 'adults', 'children', 'babies', 'meal',\n",
              "       'country', 'market_segment', 'distribution_channel',\n",
              "       'is_repeated_guest', 'previous_cancellations',\n",
              "       'previous_bookings_not_canceled', 'reserved_room_type',\n",
              "       'assigned_room_type', 'booking_changes', 'deposit_type', 'agent',\n",
              "       'company', 'days_in_waiting_list', 'customer_type', 'adr',\n",
              "       'required_car_parking_spaces', 'total_of_special_requests',\n",
              "       'reservation_status', 'reservation_status_date'],\n",
              "      dtype='object')"
            ]
          },
          "metadata": {},
          "execution_count": 4
        }
      ]
    },
    {
      "cell_type": "code",
      "source": [
        "X=df.copy()"
      ],
      "metadata": {
        "id": "Pl9CLY-W9pS9"
      },
      "execution_count": 6,
      "outputs": []
    },
    {
      "cell_type": "code",
      "source": [
        "y=X.pop(\"is_canceled\")"
      ],
      "metadata": {
        "id": "75RXYZAE9yBj"
      },
      "execution_count": 7,
      "outputs": []
    },
    {
      "cell_type": "code",
      "source": [
        "X['arrival_date_month']=X['arrival_date_month'].map({'January':1,'February':2,\n",
        "                                                     'March':3,'April':4,'May':5,\n",
        "                                                     'June':6,'July':7,'August':8,\n",
        "                                                     'Septmber':9,'October':10,\n",
        "                                                     'November':11,'December':12})"
      ],
      "metadata": {
        "id": "V_e9QUcC95_M"
      },
      "execution_count": 9,
      "outputs": []
    },
    {
      "cell_type": "code",
      "source": [
        "numerical_features=[\"lead_time\", \"arrival_date_week_number\",\n",
        "    \"arrival_date_day_of_month\", \"stays_in_weekend_nights\",\n",
        "    \"stays_in_week_nights\", \"adults\", \"children\", \"babies\",\n",
        "    \"is_repeated_guest\", \"previous_cancellations\",\n",
        "    \"previous_bookings_not_canceled\", \"required_car_parking_spaces\",\n",
        "    \"total_of_special_requests\", \"adr\"]"
      ],
      "metadata": {
        "id": "3TJ-sPXwAHMu"
      },
      "execution_count": 10,
      "outputs": []
    },
    {
      "cell_type": "code",
      "source": [
        "categorical_features=[\n",
        "    \"hotel\", \"arrival_date_month\", \"meal\",\n",
        "    \"market_segment\", \"distribution_channel\",\n",
        "    \"reserved_room_type\", \"deposit_type\", \"customer_type\",\n",
        "]"
      ],
      "metadata": {
        "id": "LAxRn5JyAV2M"
      },
      "execution_count": 11,
      "outputs": []
    },
    {
      "cell_type": "code",
      "source": [
        "from sklearn.preprocessing import StandardScaler,OneHotEncoder\n",
        "from sklearn.impute import SimpleImputer\n",
        "from sklearn.pipeline import make_pipeline\n",
        "from sklearn.compose import make_column_transformer"
      ],
      "metadata": {
        "id": "4nvFT6GNAcU2"
      },
      "execution_count": 12,
      "outputs": []
    },
    {
      "cell_type": "code",
      "source": [
        "transformer_numeric = make_pipeline(SimpleImputer(strategy='constant'),StandardScaler())\n",
        "transformer_categorical = make_pipeline(SimpleImputer(strategy='constant',fill_value=\"NA\"),\n",
        "                                        OneHotEncoder(handle_unknown=\"ignore\"))\n"
      ],
      "metadata": {
        "id": "xUOHob25BU3d"
      },
      "execution_count": 14,
      "outputs": []
    },
    {
      "cell_type": "code",
      "source": [
        "preprocessor = make_column_transformer((transformer_numeric,numerical_features),(transformer_categorical,categorical_features))"
      ],
      "metadata": {
        "id": "hOPTfgZGBrWc"
      },
      "execution_count": 15,
      "outputs": []
    },
    {
      "cell_type": "code",
      "source": [
        "from sklearn.model_selection import train_test_split\n",
        "X_train,X_val_test,y_train,y_val_test=train_test_split(X,y,test_size=0.30,random_state=42)\n",
        "X_val,X_test,y_val,y_test = train_test_split(X_val_test,y_val_test,test_size=0.50,random_state=42)"
      ],
      "metadata": {
        "id": "M8SO-m2vClFT"
      },
      "execution_count": 16,
      "outputs": []
    },
    {
      "cell_type": "code",
      "source": [
        "X_train.shape,X_test.shape,X_val.shape"
      ],
      "metadata": {
        "colab": {
          "base_uri": "https://localhost:8080/"
        },
        "id": "wLdnfvmzDPhQ",
        "outputId": "4a6aec4c-9d3b-4d5d-ea19-a6724143e0bd"
      },
      "execution_count": 17,
      "outputs": [
        {
          "output_type": "execute_result",
          "data": {
            "text/plain": [
              "((41223, 31), (8834, 31), (8833, 31))"
            ]
          },
          "metadata": {},
          "execution_count": 17
        }
      ]
    },
    {
      "cell_type": "code",
      "source": [
        "y_train.shape,y_test.shape,y_val.shape"
      ],
      "metadata": {
        "colab": {
          "base_uri": "https://localhost:8080/"
        },
        "id": "5uPrt01fDUEN",
        "outputId": "d7dfa59c-6ce3-4bd4-b6b2-aac7f0434b77"
      },
      "execution_count": 18,
      "outputs": [
        {
          "output_type": "execute_result",
          "data": {
            "text/plain": [
              "((41223,), (8834,), (8833,))"
            ]
          },
          "metadata": {},
          "execution_count": 18
        }
      ]
    },
    {
      "cell_type": "code",
      "source": [
        "X_train = preprocessor.fit_transform(X_train)\n",
        "X_val = preprocessor.transform(X_val)"
      ],
      "metadata": {
        "id": "rHKegQ3QDYcv"
      },
      "execution_count": 19,
      "outputs": []
    },
    {
      "cell_type": "code",
      "source": [
        "input_shape=[X_train.shape[1]]\n",
        "input_shape"
      ],
      "metadata": {
        "colab": {
          "base_uri": "https://localhost:8080/"
        },
        "id": "pKd-FjRQEAOA",
        "outputId": "8e2498b4-339b-4c71-b8a1-5685f992c215"
      },
      "execution_count": 21,
      "outputs": [
        {
          "output_type": "execute_result",
          "data": {
            "text/plain": [
              "[53]"
            ]
          },
          "metadata": {},
          "execution_count": 21
        }
      ]
    },
    {
      "cell_type": "code",
      "source": [
        "from tensorflow import keras\n",
        "from tensorflow.keras import layers\n",
        "\n",
        "model = keras.Sequential([\n",
        "    layers.BatchNormalization(input_shape=input_shape),\n",
        "    layers.Dense(256,activation='relu'),\n",
        "    layers.BatchNormalization(),\n",
        "    layers.Dropout(0.30),\n",
        "    layers.BatchNormalization(),\n",
        "    layers.Dropout(0.30),\n",
        "    layers.Dense(1,activation='sigmoid')\n",
        "])"
      ],
      "metadata": {
        "id": "xSoSKMdfEHfY"
      },
      "execution_count": 26,
      "outputs": []
    },
    {
      "cell_type": "code",
      "source": [
        "model.compile(\n",
        "    optimizer='adam',\n",
        "    loss='binary_crossentropy',\n",
        "    metrics=['binary_accuracy']\n",
        ")"
      ],
      "metadata": {
        "id": "KJ8HXMcYFTgG"
      },
      "execution_count": 27,
      "outputs": []
    },
    {
      "cell_type": "code",
      "source": [
        "early_stopping = keras.callbacks.EarlyStopping(\n",
        "    patience=5,\n",
        "    min_delta=0.001,\n",
        "    restore_best_weights=True\n",
        ")\n",
        "\n",
        "history = model.fit(\n",
        "    X_train,y_train,\n",
        "    validation_data=(X_val,y_val),\n",
        "    batch_size=512,\n",
        "    epochs=100,\n",
        "    callbacks=[early_stopping]\n",
        ")"
      ],
      "metadata": {
        "colab": {
          "base_uri": "https://localhost:8080/"
        },
        "id": "me0yDGIYF0VJ",
        "outputId": "d37cd886-c87b-4ed5-a6ec-c97d86024d55"
      },
      "execution_count": 29,
      "outputs": [
        {
          "output_type": "stream",
          "name": "stdout",
          "text": [
            "Epoch 1/100\n",
            "81/81 [==============================] - 3s 14ms/step - loss: 0.5217 - binary_accuracy: 0.7502 - val_loss: 0.4954 - val_binary_accuracy: 0.7630\n",
            "Epoch 2/100\n",
            "81/81 [==============================] - 1s 11ms/step - loss: 0.4420 - binary_accuracy: 0.7888 - val_loss: 0.4441 - val_binary_accuracy: 0.7946\n",
            "Epoch 3/100\n",
            "81/81 [==============================] - 1s 12ms/step - loss: 0.4222 - binary_accuracy: 0.7986 - val_loss: 0.4148 - val_binary_accuracy: 0.8087\n",
            "Epoch 4/100\n",
            "81/81 [==============================] - 1s 13ms/step - loss: 0.4091 - binary_accuracy: 0.8073 - val_loss: 0.3965 - val_binary_accuracy: 0.8108\n",
            "Epoch 5/100\n",
            "81/81 [==============================] - 1s 13ms/step - loss: 0.4044 - binary_accuracy: 0.8076 - val_loss: 0.3892 - val_binary_accuracy: 0.8168\n",
            "Epoch 6/100\n",
            "81/81 [==============================] - 1s 12ms/step - loss: 0.3990 - binary_accuracy: 0.8112 - val_loss: 0.3826 - val_binary_accuracy: 0.8214\n",
            "Epoch 7/100\n",
            "81/81 [==============================] - 1s 13ms/step - loss: 0.3926 - binary_accuracy: 0.8158 - val_loss: 0.3792 - val_binary_accuracy: 0.8199\n",
            "Epoch 8/100\n",
            "81/81 [==============================] - 1s 12ms/step - loss: 0.3908 - binary_accuracy: 0.8162 - val_loss: 0.3762 - val_binary_accuracy: 0.8251\n",
            "Epoch 9/100\n",
            "81/81 [==============================] - 1s 13ms/step - loss: 0.3875 - binary_accuracy: 0.8168 - val_loss: 0.3742 - val_binary_accuracy: 0.8238\n",
            "Epoch 10/100\n",
            "81/81 [==============================] - 2s 19ms/step - loss: 0.3852 - binary_accuracy: 0.8173 - val_loss: 0.3705 - val_binary_accuracy: 0.8269\n",
            "Epoch 11/100\n",
            "81/81 [==============================] - 1s 18ms/step - loss: 0.3829 - binary_accuracy: 0.8201 - val_loss: 0.3695 - val_binary_accuracy: 0.8283\n",
            "Epoch 12/100\n",
            "81/81 [==============================] - 1s 13ms/step - loss: 0.3796 - binary_accuracy: 0.8230 - val_loss: 0.3663 - val_binary_accuracy: 0.8306\n",
            "Epoch 13/100\n",
            "81/81 [==============================] - 1s 12ms/step - loss: 0.3784 - binary_accuracy: 0.8218 - val_loss: 0.3653 - val_binary_accuracy: 0.8281\n",
            "Epoch 14/100\n",
            "81/81 [==============================] - 1s 11ms/step - loss: 0.3748 - binary_accuracy: 0.8231 - val_loss: 0.3630 - val_binary_accuracy: 0.8312\n",
            "Epoch 15/100\n",
            "81/81 [==============================] - 1s 13ms/step - loss: 0.3755 - binary_accuracy: 0.8245 - val_loss: 0.3611 - val_binary_accuracy: 0.8327\n",
            "Epoch 16/100\n",
            "81/81 [==============================] - 1s 13ms/step - loss: 0.3739 - binary_accuracy: 0.8257 - val_loss: 0.3586 - val_binary_accuracy: 0.8335\n",
            "Epoch 17/100\n",
            "81/81 [==============================] - 1s 12ms/step - loss: 0.3707 - binary_accuracy: 0.8268 - val_loss: 0.3574 - val_binary_accuracy: 0.8319\n",
            "Epoch 18/100\n",
            "81/81 [==============================] - 1s 12ms/step - loss: 0.3686 - binary_accuracy: 0.8271 - val_loss: 0.3571 - val_binary_accuracy: 0.8357\n",
            "Epoch 19/100\n",
            "81/81 [==============================] - 1s 12ms/step - loss: 0.3675 - binary_accuracy: 0.8283 - val_loss: 0.3562 - val_binary_accuracy: 0.8382\n",
            "Epoch 20/100\n",
            "81/81 [==============================] - 1s 13ms/step - loss: 0.3646 - binary_accuracy: 0.8296 - val_loss: 0.3568 - val_binary_accuracy: 0.8358\n",
            "Epoch 21/100\n",
            "81/81 [==============================] - 1s 13ms/step - loss: 0.3642 - binary_accuracy: 0.8322 - val_loss: 0.3529 - val_binary_accuracy: 0.8341\n",
            "Epoch 22/100\n",
            "81/81 [==============================] - 1s 18ms/step - loss: 0.3641 - binary_accuracy: 0.8301 - val_loss: 0.3497 - val_binary_accuracy: 0.8372\n",
            "Epoch 23/100\n",
            "81/81 [==============================] - 1s 17ms/step - loss: 0.3625 - binary_accuracy: 0.8323 - val_loss: 0.3522 - val_binary_accuracy: 0.8356\n",
            "Epoch 24/100\n",
            "81/81 [==============================] - 1s 13ms/step - loss: 0.3632 - binary_accuracy: 0.8306 - val_loss: 0.3476 - val_binary_accuracy: 0.8386\n",
            "Epoch 25/100\n",
            "81/81 [==============================] - 1s 12ms/step - loss: 0.3587 - binary_accuracy: 0.8336 - val_loss: 0.3498 - val_binary_accuracy: 0.8340\n",
            "Epoch 26/100\n",
            "81/81 [==============================] - 1s 11ms/step - loss: 0.3581 - binary_accuracy: 0.8341 - val_loss: 0.3462 - val_binary_accuracy: 0.8413\n",
            "Epoch 27/100\n",
            "81/81 [==============================] - 1s 11ms/step - loss: 0.3586 - binary_accuracy: 0.8322 - val_loss: 0.3475 - val_binary_accuracy: 0.8371\n",
            "Epoch 28/100\n",
            "81/81 [==============================] - 2s 20ms/step - loss: 0.3568 - binary_accuracy: 0.8340 - val_loss: 0.3464 - val_binary_accuracy: 0.8367\n",
            "Epoch 29/100\n",
            "81/81 [==============================] - 1s 16ms/step - loss: 0.3586 - binary_accuracy: 0.8324 - val_loss: 0.3453 - val_binary_accuracy: 0.8391\n",
            "Epoch 30/100\n",
            "81/81 [==============================] - 1s 12ms/step - loss: 0.3542 - binary_accuracy: 0.8349 - val_loss: 0.3443 - val_binary_accuracy: 0.8390\n",
            "Epoch 31/100\n",
            "81/81 [==============================] - 1s 13ms/step - loss: 0.3581 - binary_accuracy: 0.8326 - val_loss: 0.3476 - val_binary_accuracy: 0.8384\n",
            "Epoch 32/100\n",
            "81/81 [==============================] - 1s 13ms/step - loss: 0.3566 - binary_accuracy: 0.8335 - val_loss: 0.3441 - val_binary_accuracy: 0.8381\n",
            "Epoch 33/100\n",
            "81/81 [==============================] - 1s 18ms/step - loss: 0.3534 - binary_accuracy: 0.8352 - val_loss: 0.3441 - val_binary_accuracy: 0.8369\n",
            "Epoch 34/100\n",
            "81/81 [==============================] - 1s 15ms/step - loss: 0.3546 - binary_accuracy: 0.8362 - val_loss: 0.3456 - val_binary_accuracy: 0.8404\n",
            "Epoch 35/100\n",
            "81/81 [==============================] - 1s 13ms/step - loss: 0.3540 - binary_accuracy: 0.8359 - val_loss: 0.3401 - val_binary_accuracy: 0.8358\n",
            "Epoch 36/100\n",
            "81/81 [==============================] - 1s 11ms/step - loss: 0.3525 - binary_accuracy: 0.8360 - val_loss: 0.3409 - val_binary_accuracy: 0.8411\n",
            "Epoch 37/100\n",
            "81/81 [==============================] - 1s 12ms/step - loss: 0.3505 - binary_accuracy: 0.8363 - val_loss: 0.3408 - val_binary_accuracy: 0.8409\n",
            "Epoch 38/100\n",
            "81/81 [==============================] - 1s 13ms/step - loss: 0.3504 - binary_accuracy: 0.8373 - val_loss: 0.3397 - val_binary_accuracy: 0.8380\n",
            "Epoch 39/100\n",
            "81/81 [==============================] - 1s 13ms/step - loss: 0.3513 - binary_accuracy: 0.8379 - val_loss: 0.3396 - val_binary_accuracy: 0.8414\n",
            "Epoch 40/100\n",
            "81/81 [==============================] - 1s 14ms/step - loss: 0.3508 - binary_accuracy: 0.8381 - val_loss: 0.3426 - val_binary_accuracy: 0.8392\n"
          ]
        }
      ]
    },
    {
      "cell_type": "code",
      "source": [
        "history_df = pd.DataFrame(history.history)\n",
        "history_df.loc[:,['loss','val_loss']].plot(title='Cross_Entropy')\n",
        "history_df.loc[:,['binary_accuracy','val_binary_accuracy']].plot(title = 'Accuracy')"
      ],
      "metadata": {
        "colab": {
          "base_uri": "https://localhost:8080/",
          "height": 904
        },
        "id": "yBz9oTmkGsCn",
        "outputId": "21ec059e-53ee-4416-bf13-9019f2e84fb6"
      },
      "execution_count": 30,
      "outputs": [
        {
          "output_type": "execute_result",
          "data": {
            "text/plain": [
              "<Axes: title={'center': 'Accuracy'}>"
            ]
          },
          "metadata": {},
          "execution_count": 30
        },
        {
          "output_type": "display_data",
          "data": {
            "text/plain": [
              "<Figure size 640x480 with 1 Axes>"
            ],
            "image/png": "[encoded data removed]"
          },
          "metadata": {}
        },
        {
          "output_type": "display_data",
          "data": {
            "text/plain": [
              "<Figure size 640x480 with 1 Axes>"
            ],
            "image/png": "[encoded data removed]"
          },
          "metadata": {}
        }
      ]
    },
    {
      "cell_type": "markdown",
      "source": [
        "Early stopping prevented overfitting, and accuracy rose as cross-entropy fell, so minimizing cross-entropy was a good choice. Overall, the training was a success."
      ],
      "metadata": {
        "id": "i_8jCIBAIkUT"
      }
    }
  ]
}