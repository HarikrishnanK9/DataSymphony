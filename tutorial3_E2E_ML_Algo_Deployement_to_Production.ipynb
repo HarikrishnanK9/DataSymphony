{
  "nbformat": 4,
  "nbformat_minor": 0,
  "metadata": {
    "colab": {
      "provenance": [],
      "authorship_tag": "ABX9TyOwxwwOTjxrxKw1QDUWY0bB",
      "include_colab_link": true
    },
    "kernelspec": {
      "name": "python3",
      "display_name": "Python 3"
    },
    "language_info": {
      "name": "python"
    }
  },
  "cells": [
    {
      "cell_type": "markdown",
      "metadata": {
        "id": "view-in-github",
        "colab_type": "text"
      },
      "source": [
        "<a href=\"https://colab.research.google.com/github/HarikrishnanK9/DataSymphony/blob/main/tutorial3_E2E_ML_Algo_Deployement_to_Production.ipynb\" target=\"_parent\"><img src=\"https://colab.research.google.com/assets/colab-badge.svg\" alt=\"Open In Colab\"/></a>"
      ]
    },
    {
      "cell_type": "markdown",
      "source": [
        "#A Full End-to-End Deployment of a Machine Learning Algorithm into a Live Production Environment"
      ],
      "metadata": {
        "id": "HacyIpPFd_vq"
      }
    },
    {
      "cell_type": "code",
      "source": [],
      "metadata": {
        "id": "GwyjTlMBeBAs"
      },
      "execution_count": null,
      "outputs": []
    },
    {
      "cell_type": "code",
      "source": [
        "#Step 1: Develop a Machine Learning Algorithm\n"
      ],
      "metadata": {
        "id": "gtCp8ALDcEKw"
      },
      "execution_count": 12,
      "outputs": []
    },
    {
      "cell_type": "code",
      "source": [
        "!unzip /content/archive.zip"
      ],
      "metadata": {
        "colab": {
          "base_uri": "https://localhost:8080/"
        },
        "id": "FgGmkRRFby7x",
        "outputId": "91895251-5bb0-4517-ea69-793786d1ac2f"
      },
      "execution_count": 2,
      "outputs": [
        {
          "output_type": "stream",
          "name": "stdout",
          "text": [
            "Archive:  /content/archive.zip\n",
            "  inflating: drug200.csv             \n"
          ]
        }
      ]
    },
    {
      "cell_type": "code",
      "source": [
        "import pandas as pd\n",
        "from sklearn.tree import DecisionTreeClassifier\n",
        "from sklearn.preprocessing import LabelEncoder\n",
        "from sklearn.model_selection import KFold, cross_val_score\n",
        "\n",
        "df_drug = pd.read_csv(\"/content/drug200.csv\")\n",
        "\n",
        "label_encoder = LabelEncoder()\n",
        "\n",
        "categorical_features = [feature for feature in df_drug.columns if df_drug[feature].dtypes == 'O']\n",
        "for feature in categorical_features:\n",
        "    df_drug[feature]=label_encoder.fit_transform(df_drug[feature])\n",
        "\n",
        "X = df_drug.drop(\"Drug\", axis=1)\n",
        "y = df_drug[\"Drug\"]\n",
        "\n",
        "model = DecisionTreeClassifier(criterion=\"entropy\")\n",
        "model.fit(X, y)\n",
        "\n",
        "kfold = KFold(random_state=42, shuffle=True)\n",
        "cv_results = cross_val_score(model, X, y, cv=kfold, scoring=\"accuracy\")\n",
        "print(cv_results.mean(), cv_results.std())"
      ],
      "metadata": {
        "id": "4Eiuze9kdg6c"
      },
      "execution_count": null,
      "outputs": []
    },
    {
      "cell_type": "code",
      "source": [
        "#Step 2: Make an Individual Prediction from the Trained Model\n"
      ],
      "metadata": {
        "id": "UgB3LrFmcj9d"
      },
      "execution_count": 13,
      "outputs": []
    },
    {
      "cell_type": "code",
      "source": [
        "df_drug = pd.read_csv(\"drug200.csv\")\n",
        "\n",
        "label_encoder = LabelEncoder()\n",
        "\n",
        "categorical_features = [feature for feature in df_drug.columns if df_drug[feature].dtypes == 'O']\n",
        "for feature in categorical_features:\n",
        "    print(feature, list(df_drug[feature].unique()), list(label_encoder.fit_transform(df_drug[feature].unique())), \"\\n\")\n"
      ],
      "metadata": {
        "colab": {
          "base_uri": "https://localhost:8080/"
        },
        "id": "DzRBf-gOc78Y",
        "outputId": "91010643-5797-47a4-d0ba-8c9b982cb8a2"
      },
      "execution_count": 14,
      "outputs": [
        {
          "output_type": "stream",
          "name": "stdout",
          "text": [
            "Sex ['F', 'M'] [0, 1] \n",
            "\n",
            "BP ['HIGH', 'LOW', 'NORMAL'] [0, 1, 2] \n",
            "\n",
            "Cholesterol ['HIGH', 'NORMAL'] [0, 1] \n",
            "\n",
            "Drug ['DrugY', 'drugC', 'drugX', 'drugA', 'drugB'] [0, 3, 4, 1, 2] \n",
            "\n"
          ]
        }
      ]
    },
    {
      "cell_type": "code",
      "source": [
        "gender_map = {\"F\": 0, \"M\": 1}\n",
        "bp_map = {\"HIGH\": 0, \"LOW\": 1, \"NORMAL\": 2}\n",
        "cholestol_map = {\"HIGH\": 0, \"NORMAL\": 1}\n",
        "drug_map = {0: \"DrugY\", 3: \"drugC\", 4: \"drugX\", 1: \"drugA\", 2: \"drugB\"}\n",
        "\n",
        "def predict_drug(Age,\n",
        "                 Sex,\n",
        "                 BP,\n",
        "                 Cholesterol,\n",
        "                 Na_to_K):\n",
        "\n",
        "    # 1. Read the machine learning model from its saved state ...\n",
        "    pickle_file = open('model.pkl', 'rb')\n",
        "    model = pickle.load(pickle_file)\n",
        "\n",
        "    # 2. Transform the \"raw data\" passed into the function to the encoded / numerical values using the maps / dictionaries\n",
        "    Sex = gender_map[Sex]\n",
        "    BP = bp_map[BP]\n",
        "    Cholesterol = cholestol_map[Cholesterol]\n",
        "\n",
        "    # 3. Make an individual prediction for this set of data\n",
        "    y_predict = model.predict([[Age, Sex, BP, Cholesterol, Na_to_K]])[0]\n",
        "\n",
        "    # 4. Return the \"raw\" version of the prediction i.e. the actual name of the drug rather than the numerical encoded version\n",
        "    return drug_map[y_predict]"
      ],
      "metadata": {
        "id": "FlDB12LPdAf9"
      },
      "execution_count": 15,
      "outputs": []
    },
    {
      "cell_type": "code",
      "source": [
        "predict_drug(47, \"F\", \"LOW\",  \"HIGH\", 14)\n"
      ],
      "metadata": {
        "colab": {
          "base_uri": "https://localhost:8080/",
          "height": 70
        },
        "id": "fGnPDITJdJu6",
        "outputId": "17d43cfc-68f6-4106-941d-5fedb6fed0e8"
      },
      "execution_count": 16,
      "outputs": [
        {
          "output_type": "stream",
          "name": "stderr",
          "text": [
            "/usr/local/lib/python3.10/dist-packages/sklearn/base.py:439: UserWarning: X does not have valid feature names, but DecisionTreeClassifier was fitted with feature names\n",
            "  warnings.warn(\n"
          ]
        },
        {
          "output_type": "execute_result",
          "data": {
            "text/plain": [
              "'drugC'"
            ],
            "application/vnd.google.colaboratory.intrinsic+json": {
              "type": "string"
            }
          },
          "metadata": {},
          "execution_count": 16
        }
      ]
    },
    {
      "cell_type": "code",
      "source": [
        "predict_drug(60, \"F\", \"LOW\",  \"HIGH\", 20)\n"
      ],
      "metadata": {
        "colab": {
          "base_uri": "https://localhost:8080/",
          "height": 70
        },
        "id": "5goK1I0EdMYv",
        "outputId": "c1dbe7c3-ad3d-4ec9-a669-855dd6946421"
      },
      "execution_count": 17,
      "outputs": [
        {
          "output_type": "stream",
          "name": "stderr",
          "text": [
            "/usr/local/lib/python3.10/dist-packages/sklearn/base.py:439: UserWarning: X does not have valid feature names, but DecisionTreeClassifier was fitted with feature names\n",
            "  warnings.warn(\n"
          ]
        },
        {
          "output_type": "execute_result",
          "data": {
            "text/plain": [
              "'DrugY'"
            ],
            "application/vnd.google.colaboratory.intrinsic+json": {
              "type": "string"
            }
          },
          "metadata": {},
          "execution_count": 17
        }
      ]
    },
    {
      "cell_type": "code",
      "source": [
        "#Step 3: Develop a Web Service Wrapper\n"
      ],
      "metadata": {
        "id": "KlFhjJJBdOQL"
      },
      "execution_count": 18,
      "outputs": []
    },
    {
      "cell_type": "code",
      "source": [
        "from flask import Flask\n",
        "\n",
        "import pickle\n",
        "from flask import request, jsonify\n",
        "\n",
        "app = Flask(__name__)\n",
        "\n",
        "gender_map = {\"F\": 0, \"M\": 1}\n",
        "bp_map = {\"HIGH\": 0, \"LOW\": 1, \"NORMAL\": 2}\n",
        "cholesterol_map = {\"HIGH\": 0, \"NORMAL\": 1}\n",
        "drug_map = {0: \"DrugY\", 3: \"drugC\", 4: \"drugX\", 1: \"drugA\", 2: \"drugB\"}\n",
        "\n",
        "def predict_drug(Age,\n",
        "                 Sex,\n",
        "                 BP,\n",
        "                 Cholesterol,\n",
        "                 Na_to_K):\n",
        "\n",
        "    # 1. Read the machine learning model from its saved state ...\n",
        "    pickle_file = open('model.pkl', 'rb')\n",
        "    model = pickle.load(pickle_file)\n",
        "\n",
        "    # 2. Transform the \"raw data\" passed into the function to the encoded / numerical values using the maps / dictionaries\n",
        "    Sex = gender_map[Sex]\n",
        "    BP = bp_map[BP]\n",
        "    Cholesterol = cholesterol_map[Cholesterol]\n",
        "\n",
        "    # 3. Make an individual prediction for this set of data\n",
        "    y_predict = model.predict([[Age, Sex, BP, Cholesterol, Na_to_K]])[0]\n",
        "\n",
        "    # 4. Return the \"raw\" version of the prediction i.e. the actual name of the drug rather than the numerical encoded version\n",
        "    return drug_map[y_predict]\n",
        "\n",
        "@app.route(\"/\")\n",
        "def hello():\n",
        "    return \"A test web service for accessing a machine learning model to make drug recommendations v2.\"\n",
        "\n",
        "@app.route('/drug', methods=['GET'])\n",
        "def api_all():\n",
        "#    return jsonify(data_science_books)\n",
        "\n",
        "    Age = int(request.args['Age'])\n",
        "    Sex = request.args['Sex']\n",
        "    BP = request.args['BP']\n",
        "    Cholesterol = request.args['Cholesterol']\n",
        "    Na_to_K = float(request.args['Na_to_K'])\n",
        "\n",
        "    drug = predict_drug(Age, Sex, BP, Cholesterol, Na_to_K)\n",
        "\n",
        "    #return(jsonify(drug))\n",
        "    return(jsonify(recommended_drug = drug))"
      ],
      "metadata": {
        "id": "9Oml7Nw4dRCS"
      },
      "execution_count": 19,
      "outputs": []
    },
    {
      "cell_type": "code",
      "source": [],
      "metadata": {
        "id": "vl_0UOIrdVBX"
      },
      "execution_count": null,
      "outputs": []
    }
  ]
}