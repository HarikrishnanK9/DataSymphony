{
  "nbformat": 4,
  "nbformat_minor": 0,
  "metadata": {
    "colab": {
      "provenance": [],
      "gpuType": "T4",
      "mount_file_id": "12H2UTw0oJ04xC2Eg0da5LrwFfROGg2t7",
      "authorship_tag": "ABX9TyMtQCwlMsLAClB6dXSTjq+I",
      "include_colab_link": true
    },
    "kernelspec": {
      "name": "python3",
      "display_name": "Python 3"
    },
    "language_info": {
      "name": "python"
    },
    "accelerator": "GPU"
  },
  "cells": [
    {
      "cell_type": "markdown",
      "metadata": {
        "id": "view-in-github",
        "colab_type": "text"
      },
      "source": [
        "<a href=\"https://colab.research.google.com/github/HarikrishnanK9/DataSymphony/blob/main/House_Price_Prediction_Using_ANN.ipynb\" target=\"_parent\"><img src=\"https://colab.research.google.com/assets/colab-badge.svg\" alt=\"Open In Colab\"/></a>"
      ]
    },
    {
      "cell_type": "code",
      "execution_count": 9,
      "metadata": {
        "id": "KYrSMZpTr6-0"
      },
      "outputs": [],
      "source": [
        "import numpy as np\n",
        "import pandas as pd"
      ]
    },
    {
      "cell_type": "code",
      "source": [
        "df=pd.read_csv(\"/content/housepricedata.csv\")"
      ],
      "metadata": {
        "id": "DD0PpeAisH8Q"
      },
      "execution_count": 10,
      "outputs": []
    },
    {
      "cell_type": "code",
      "source": [
        "df.head(10)"
      ],
      "metadata": {
        "colab": {
          "base_uri": "https://localhost:8080/",
          "height": 363
        },
        "id": "OfIs8bQTsrKC",
        "outputId": "b525c8cc-c9df-4088-bc0e-3df75079115a"
      },
      "execution_count": 11,
      "outputs": [
        {
          "output_type": "execute_result",
          "data": {
            "text/plain": [
              "   LotArea  OverallQual  OverallCond  TotalBsmtSF  FullBath  HalfBath  \\\n",
              "0     8450            7            5          856         2         1   \n",
              "1     9600            6            8         1262         2         0   \n",
              "2    11250            7            5          920         2         1   \n",
              "3     9550            7            5          756         1         0   \n",
              "4    14260            8            5         1145         2         1   \n",
              "5    14115            5            5          796         1         1   \n",
              "6    10084            8            5         1686         2         0   \n",
              "7    10382            7            6         1107         2         1   \n",
              "8     6120            7            5          952         2         0   \n",
              "9     7420            5            6          991         1         0   \n",
              "\n",
              "   BedroomAbvGr  TotRmsAbvGrd  Fireplaces  GarageArea  AboveMedianPrice  \n",
              "0             3             8           0         548                 1  \n",
              "1             3             6           1         460                 1  \n",
              "2             3             6           1         608                 1  \n",
              "3             3             7           1         642                 0  \n",
              "4             4             9           1         836                 1  \n",
              "5             1             5           0         480                 0  \n",
              "6             3             7           1         636                 1  \n",
              "7             3             7           2         484                 1  \n",
              "8             2             8           2         468                 0  \n",
              "9             2             5           2         205                 0  "
            ],
            "text/html": [
              "\n",
              "  <div id=\"df-c18e584e-11fa-4bb1-9af9-ad8354b69201\" class=\"colab-df-container\">\n",
              "    <div>\n",
              "<style scoped>\n",
              "    .dataframe tbody tr th:only-of-type {\n",
              "        vertical-align: middle;\n",
              "    }\n",
              "\n",
              "    .dataframe tbody tr th {\n",
              "        vertical-align: top;\n",
              "    }\n",
              "\n",
              "    .dataframe thead th {\n",
              "        text-align: right;\n",
              "    }\n",
              "</style>\n",
              "<table border=\"1\" class=\"dataframe\">\n",
              "  <thead>\n",
              "    <tr style=\"text-align: right;\">\n",
              "      <th></th>\n",
              "      <th>LotArea</th>\n",
              "      <th>OverallQual</th>\n",
              "      <th>OverallCond</th>\n",
              "      <th>TotalBsmtSF</th>\n",
              "      <th>FullBath</th>\n",
              "      <th>HalfBath</th>\n",
              "      <th>BedroomAbvGr</th>\n",
              "      <th>TotRmsAbvGrd</th>\n",
              "      <th>Fireplaces</th>\n",
              "      <th>GarageArea</th>\n",
              "      <th>AboveMedianPrice</th>\n",
              "    </tr>\n",
              "  </thead>\n",
              "  <tbody>\n",
              "    <tr>\n",
              "      <th>0</th>\n",
              "      <td>8450</td>\n",
              "      <td>7</td>\n",
              "      <td>5</td>\n",
              "      <td>856</td>\n",
              "      <td>2</td>\n",
              "      <td>1</td>\n",
              "      <td>3</td>\n",
              "      <td>8</td>\n",
              "      <td>0</td>\n",
              "      <td>548</td>\n",
              "      <td>1</td>\n",
              "    </tr>\n",
              "    <tr>\n",
              "      <th>1</th>\n",
              "      <td>9600</td>\n",
              "      <td>6</td>\n",
              "      <td>8</td>\n",
              "      <td>1262</td>\n",
              "      <td>2</td>\n",
              "      <td>0</td>\n",
              "      <td>3</td>\n",
              "      <td>6</td>\n",
              "      <td>1</td>\n",
              "      <td>460</td>\n",
              "      <td>1</td>\n",
              "    </tr>\n",
              "    <tr>\n",
              "      <th>2</th>\n",
              "      <td>11250</td>\n",
              "      <td>7</td>\n",
              "      <td>5</td>\n",
              "      <td>920</td>\n",
              "      <td>2</td>\n",
              "      <td>1</td>\n",
              "      <td>3</td>\n",
              "      <td>6</td>\n",
              "      <td>1</td>\n",
              "      <td>608</td>\n",
              "      <td>1</td>\n",
              "    </tr>\n",
              "    <tr>\n",
              "      <th>3</th>\n",
              "      <td>9550</td>\n",
              "      <td>7</td>\n",
              "      <td>5</td>\n",
              "      <td>756</td>\n",
              "      <td>1</td>\n",
              "      <td>0</td>\n",
              "      <td>3</td>\n",
              "      <td>7</td>\n",
              "      <td>1</td>\n",
              "      <td>642</td>\n",
              "      <td>0</td>\n",
              "    </tr>\n",
              "    <tr>\n",
              "      <th>4</th>\n",
              "      <td>14260</td>\n",
              "      <td>8</td>\n",
              "      <td>5</td>\n",
              "      <td>1145</td>\n",
              "      <td>2</td>\n",
              "      <td>1</td>\n",
              "      <td>4</td>\n",
              "      <td>9</td>\n",
              "      <td>1</td>\n",
              "      <td>836</td>\n",
              "      <td>1</td>\n",
              "    </tr>\n",
              "    <tr>\n",
              "      <th>5</th>\n",
              "      <td>14115</td>\n",
              "      <td>5</td>\n",
              "      <td>5</td>\n",
              "      <td>796</td>\n",
              "      <td>1</td>\n",
              "      <td>1</td>\n",
              "      <td>1</td>\n",
              "      <td>5</td>\n",
              "      <td>0</td>\n",
              "      <td>480</td>\n",
              "      <td>0</td>\n",
              "    </tr>\n",
              "    <tr>\n",
              "      <th>6</th>\n",
              "      <td>10084</td>\n",
              "      <td>8</td>\n",
              "      <td>5</td>\n",
              "      <td>1686</td>\n",
              "      <td>2</td>\n",
              "      <td>0</td>\n",
              "      <td>3</td>\n",
              "      <td>7</td>\n",
              "      <td>1</td>\n",
              "      <td>636</td>\n",
              "      <td>1</td>\n",
              "    </tr>\n",
              "    <tr>\n",
              "      <th>7</th>\n",
              "      <td>10382</td>\n",
              "      <td>7</td>\n",
              "      <td>6</td>\n",
              "      <td>1107</td>\n",
              "      <td>2</td>\n",
              "      <td>1</td>\n",
              "      <td>3</td>\n",
              "      <td>7</td>\n",
              "      <td>2</td>\n",
              "      <td>484</td>\n",
              "      <td>1</td>\n",
              "    </tr>\n",
              "    <tr>\n",
              "      <th>8</th>\n",
              "      <td>6120</td>\n",
              "      <td>7</td>\n",
              "      <td>5</td>\n",
              "      <td>952</td>\n",
              "      <td>2</td>\n",
              "      <td>0</td>\n",
              "      <td>2</td>\n",
              "      <td>8</td>\n",
              "      <td>2</td>\n",
              "      <td>468</td>\n",
              "      <td>0</td>\n",
              "    </tr>\n",
              "    <tr>\n",
              "      <th>9</th>\n",
              "      <td>7420</td>\n",
              "      <td>5</td>\n",
              "      <td>6</td>\n",
              "      <td>991</td>\n",
              "      <td>1</td>\n",
              "      <td>0</td>\n",
              "      <td>2</td>\n",
              "      <td>5</td>\n",
              "      <td>2</td>\n",
              "      <td>205</td>\n",
              "      <td>0</td>\n",
              "    </tr>\n",
              "  </tbody>\n",
              "</table>\n",
              "</div>\n",
              "    <div class=\"colab-df-buttons\">\n",
              "\n",
              "  <div class=\"colab-df-container\">\n",
              "    <button class=\"colab-df-convert\" onclick=\"convertToInteractive('df-c18e584e-11fa-4bb1-9af9-ad8354b69201')\"\n",
              "            title=\"Convert this dataframe to an interactive table.\"\n",
              "            style=\"display:none;\">\n",
              "\n",
              "  <svg xmlns=\"http://www.w3.org/2000/svg\" height=\"24px\" viewBox=\"0 -960 960 960\">\n",
              "    <path d=\"M120-120v-720h720v720H120Zm60-500h600v-160H180v160Zm220 220h160v-160H400v160Zm0 220h160v-160H400v160ZM180-400h160v-160H180v160Zm440 0h160v-160H620v160ZM180-180h160v-160H180v160Zm440 0h160v-160H620v160Z\"/>\n",
              "  </svg>\n",
              "    </button>\n",
              "\n",
              "  <style>\n",
              "    .colab-df-container {\n",
              "      display:flex;\n",
              "      gap: 12px;\n",
              "    }\n",
              "\n",
              "    .colab-df-convert {\n",
              "      background-color: #E8F0FE;\n",
              "      border: none;\n",
              "      border-radius: 50%;\n",
              "      cursor: pointer;\n",
              "      display: none;\n",
              "      fill: #1967D2;\n",
              "      height: 32px;\n",
              "      padding: 0 0 0 0;\n",
              "      width: 32px;\n",
              "    }\n",
              "\n",
              "    .colab-df-convert:hover {\n",
              "      background-color: #E2EBFA;\n",
              "      box-shadow: 0px 1px 2px rgba(60, 64, 67, 0.3), 0px 1px 3px 1px rgba(60, 64, 67, 0.15);\n",
              "      fill: #174EA6;\n",
              "    }\n",
              "\n",
              "    .colab-df-buttons div {\n",
              "      margin-bottom: 4px;\n",
              "    }\n",
              "\n",
              "    [theme=dark] .colab-df-convert {\n",
              "      background-color: #3B4455;\n",
              "      fill: #D2E3FC;\n",
              "    }\n",
              "\n",
              "    [theme=dark] .colab-df-convert:hover {\n",
              "      background-color: #434B5C;\n",
              "      box-shadow: 0px 1px 3px 1px rgba(0, 0, 0, 0.15);\n",
              "      filter: drop-shadow(0px 1px 2px rgba(0, 0, 0, 0.3));\n",
              "      fill: #FFFFFF;\n",
              "    }\n",
              "  </style>\n",
              "\n",
              "    <script>\n",
              "      const buttonEl =\n",
              "        document.querySelector('#df-c18e584e-11fa-4bb1-9af9-ad8354b69201 button.colab-df-convert');\n",
              "      buttonEl.style.display =\n",
              "        google.colab.kernel.accessAllowed ? 'block' : 'none';\n",
              "\n",
              "      async function convertToInteractive(key) {\n",
              "        const element = document.querySelector('#df-c18e584e-11fa-4bb1-9af9-ad8354b69201');\n",
              "        const dataTable =\n",
              "          await google.colab.kernel.invokeFunction('convertToInteractive',\n",
              "                                                    [key], {});\n",
              "        if (!dataTable) return;\n",
              "\n",
              "        const docLinkHtml = 'Like what you see? Visit the ' +\n",
              "          '<a target=\"_blank\" href=https://colab.research.google.com/notebooks/data_table.ipynb>data table notebook</a>'\n",
              "          + ' to learn more about interactive tables.';\n",
              "        element.innerHTML = '';\n",
              "        dataTable['output_type'] = 'display_data';\n",
              "        await google.colab.output.renderOutput(dataTable, element);\n",
              "        const docLink = document.createElement('div');\n",
              "        docLink.innerHTML = docLinkHtml;\n",
              "        element.appendChild(docLink);\n",
              "      }\n",
              "    </script>\n",
              "  </div>\n",
              "\n",
              "\n",
              "<div id=\"df-d723412c-f351-484d-8673-f956fc74ce93\">\n",
              "  <button class=\"colab-df-quickchart\" onclick=\"quickchart('df-d723412c-f351-484d-8673-f956fc74ce93')\"\n",
              "            title=\"Suggest charts.\"\n",
              "            style=\"display:none;\">\n",
              "\n",
              "<svg xmlns=\"http://www.w3.org/2000/svg\" height=\"24px\"viewBox=\"0 0 24 24\"\n",
              "     width=\"24px\">\n",
              "    <g>\n",
              "        <path d=\"M19 3H5c-1.1 0-2 .9-2 2v14c0 1.1.9 2 2 2h14c1.1 0 2-.9 2-2V5c0-1.1-.9-2-2-2zM9 17H7v-7h2v7zm4 0h-2V7h2v10zm4 0h-2v-4h2v4z\"/>\n",
              "    </g>\n",
              "</svg>\n",
              "  </button>\n",
              "\n",
              "<style>\n",
              "  .colab-df-quickchart {\n",
              "      --bg-color: #E8F0FE;\n",
              "      --fill-color: #1967D2;\n",
              "      --hover-bg-color: #E2EBFA;\n",
              "      --hover-fill-color: #174EA6;\n",
              "      --disabled-fill-color: #AAA;\n",
              "      --disabled-bg-color: #DDD;\n",
              "  }\n",
              "\n",
              "  [theme=dark] .colab-df-quickchart {\n",
              "      --bg-color: #3B4455;\n",
              "      --fill-color: #D2E3FC;\n",
              "      --hover-bg-color: #434B5C;\n",
              "      --hover-fill-color: #FFFFFF;\n",
              "      --disabled-bg-color: #3B4455;\n",
              "      --disabled-fill-color: #666;\n",
              "  }\n",
              "\n",
              "  .colab-df-quickchart {\n",
              "    background-color: var(--bg-color);\n",
              "    border: none;\n",
              "    border-radius: 50%;\n",
              "    cursor: pointer;\n",
              "    display: none;\n",
              "    fill: var(--fill-color);\n",
              "    height: 32px;\n",
              "    padding: 0;\n",
              "    width: 32px;\n",
              "  }\n",
              "\n",
              "  .colab-df-quickchart:hover {\n",
              "    background-color: var(--hover-bg-color);\n",
              "    box-shadow: 0 1px 2px rgba(60, 64, 67, 0.3), 0 1px 3px 1px rgba(60, 64, 67, 0.15);\n",
              "    fill: var(--button-hover-fill-color);\n",
              "  }\n",
              "\n",
              "  .colab-df-quickchart-complete:disabled,\n",
              "  .colab-df-quickchart-complete:disabled:hover {\n",
              "    background-color: var(--disabled-bg-color);\n",
              "    fill: var(--disabled-fill-color);\n",
              "    box-shadow: none;\n",
              "  }\n",
              "\n",
              "  .colab-df-spinner {\n",
              "    border: 2px solid var(--fill-color);\n",
              "    border-color: transparent;\n",
              "    border-bottom-color: var(--fill-color);\n",
              "    animation:\n",
              "      spin 1s steps(1) infinite;\n",
              "  }\n",
              "\n",
              "  @keyframes spin {\n",
              "    0% {\n",
              "      border-color: transparent;\n",
              "      border-bottom-color: var(--fill-color);\n",
              "      border-left-color: var(--fill-color);\n",
              "    }\n",
              "    20% {\n",
              "      border-color: transparent;\n",
              "      border-left-color: var(--fill-color);\n",
              "      border-top-color: var(--fill-color);\n",
              "    }\n",
              "    30% {\n",
              "      border-color: transparent;\n",
              "      border-left-color: var(--fill-color);\n",
              "      border-top-color: var(--fill-color);\n",
              "      border-right-color: var(--fill-color);\n",
              "    }\n",
              "    40% {\n",
              "      border-color: transparent;\n",
              "      border-right-color: var(--fill-color);\n",
              "      border-top-color: var(--fill-color);\n",
              "    }\n",
              "    60% {\n",
              "      border-color: transparent;\n",
              "      border-right-color: var(--fill-color);\n",
              "    }\n",
              "    80% {\n",
              "      border-color: transparent;\n",
              "      border-right-color: var(--fill-color);\n",
              "      border-bottom-color: var(--fill-color);\n",
              "    }\n",
              "    90% {\n",
              "      border-color: transparent;\n",
              "      border-bottom-color: var(--fill-color);\n",
              "    }\n",
              "  }\n",
              "</style>\n",
              "\n",
              "  <script>\n",
              "    async function quickchart(key) {\n",
              "      const quickchartButtonEl =\n",
              "        document.querySelector('#' + key + ' button');\n",
              "      quickchartButtonEl.disabled = true;  // To prevent multiple clicks.\n",
              "      quickchartButtonEl.classList.add('colab-df-spinner');\n",
              "      try {\n",
              "        const charts = await google.colab.kernel.invokeFunction(\n",
              "            'suggestCharts', [key], {});\n",
              "      } catch (error) {\n",
              "        console.error('Error during call to suggestCharts:', error);\n",
              "      }\n",
              "      quickchartButtonEl.classList.remove('colab-df-spinner');\n",
              "      quickchartButtonEl.classList.add('colab-df-quickchart-complete');\n",
              "    }\n",
              "    (() => {\n",
              "      let quickchartButtonEl =\n",
              "        document.querySelector('#df-d723412c-f351-484d-8673-f956fc74ce93 button');\n",
              "      quickchartButtonEl.style.display =\n",
              "        google.colab.kernel.accessAllowed ? 'block' : 'none';\n",
              "    })();\n",
              "  </script>\n",
              "</div>\n",
              "    </div>\n",
              "  </div>\n"
            ]
          },
          "metadata": {},
          "execution_count": 11
        }
      ]
    },
    {
      "cell_type": "code",
      "source": [
        "df.shape"
      ],
      "metadata": {
        "colab": {
          "base_uri": "https://localhost:8080/"
        },
        "id": "O6SWMTVBstAI",
        "outputId": "231d21ec-dd7c-46f0-a761-83c92bf6a099"
      },
      "execution_count": 12,
      "outputs": [
        {
          "output_type": "execute_result",
          "data": {
            "text/plain": [
              "(1460, 11)"
            ]
          },
          "metadata": {},
          "execution_count": 12
        }
      ]
    },
    {
      "cell_type": "markdown",
      "source": [
        "**Convert the dataset into numpy arrays**"
      ],
      "metadata": {
        "id": "QfUmfTY4tJmL"
      }
    },
    {
      "cell_type": "code",
      "source": [
        "dataset=df.values"
      ],
      "metadata": {
        "id": "3nMnl01Xs2bT"
      },
      "execution_count": 13,
      "outputs": []
    },
    {
      "cell_type": "code",
      "source": [
        "dataset"
      ],
      "metadata": {
        "colab": {
          "base_uri": "https://localhost:8080/"
        },
        "id": "AwIh3lFFtGJe",
        "outputId": "2cb9232e-b275-4815-fd6b-6f30343843e2"
      },
      "execution_count": 14,
      "outputs": [
        {
          "output_type": "execute_result",
          "data": {
            "text/plain": [
              "array([[ 8450,     7,     5, ...,     0,   548,     1],\n",
              "       [ 9600,     6,     8, ...,     1,   460,     1],\n",
              "       [11250,     7,     5, ...,     1,   608,     1],\n",
              "       ...,\n",
              "       [ 9042,     7,     9, ...,     2,   252,     1],\n",
              "       [ 9717,     5,     6, ...,     0,   240,     0],\n",
              "       [ 9937,     5,     6, ...,     0,   276,     0]])"
            ]
          },
          "metadata": {},
          "execution_count": 14
        }
      ]
    },
    {
      "cell_type": "markdown",
      "source": [
        "**Creating training dataset and testing dataset**"
      ],
      "metadata": {
        "id": "pbZsER52Y4J_"
      }
    },
    {
      "cell_type": "code",
      "source": [
        "X=dataset[:,:10]"
      ],
      "metadata": {
        "id": "vX_SHHVntHzK"
      },
      "execution_count": 15,
      "outputs": []
    },
    {
      "cell_type": "code",
      "source": [
        "Y=dataset[:,10]"
      ],
      "metadata": {
        "id": "brMc4GzAtcj-"
      },
      "execution_count": 16,
      "outputs": []
    },
    {
      "cell_type": "code",
      "source": [
        "Y"
      ],
      "metadata": {
        "colab": {
          "base_uri": "https://localhost:8080/"
        },
        "id": "jhb5Tzh-tuJ8",
        "outputId": "7c5181e3-9b6a-4f14-80a5-78624f563683"
      },
      "execution_count": 17,
      "outputs": [
        {
          "output_type": "execute_result",
          "data": {
            "text/plain": [
              "array([1, 1, 1, ..., 1, 0, 0])"
            ]
          },
          "metadata": {},
          "execution_count": 17
        }
      ]
    },
    {
      "cell_type": "markdown",
      "source": [
        "**Scaling**"
      ],
      "metadata": {
        "id": "6BJAoSuCZBzw"
      }
    },
    {
      "cell_type": "code",
      "source": [
        "from sklearn import preprocessing"
      ],
      "metadata": {
        "id": "D2FIdnJXtzly"
      },
      "execution_count": 18,
      "outputs": []
    },
    {
      "cell_type": "code",
      "source": [
        "min_max_scaler = preprocessing.MinMaxScaler()\n",
        "X_scale=min_max_scaler.fit_transform(X)"
      ],
      "metadata": {
        "id": "b98j7aMIuUcC"
      },
      "execution_count": 19,
      "outputs": []
    },
    {
      "cell_type": "code",
      "source": [
        "X_scale #check the values are in between zero to one"
      ],
      "metadata": {
        "colab": {
          "base_uri": "https://localhost:8080/"
        },
        "id": "xGOkN_5ZuvZB",
        "outputId": "363ad04b-9235-419f-f045-5960dbef64f7"
      },
      "execution_count": 20,
      "outputs": [
        {
          "output_type": "execute_result",
          "data": {
            "text/plain": [
              "array([[0.0334198 , 0.66666667, 0.5       , ..., 0.5       , 0.        ,\n",
              "        0.3864598 ],\n",
              "       [0.03879502, 0.55555556, 0.875     , ..., 0.33333333, 0.33333333,\n",
              "        0.32440056],\n",
              "       [0.04650728, 0.66666667, 0.5       , ..., 0.33333333, 0.33333333,\n",
              "        0.42877292],\n",
              "       ...,\n",
              "       [0.03618687, 0.66666667, 1.        , ..., 0.58333333, 0.66666667,\n",
              "        0.17771509],\n",
              "       [0.03934189, 0.44444444, 0.625     , ..., 0.25      , 0.        ,\n",
              "        0.16925247],\n",
              "       [0.04037019, 0.44444444, 0.625     , ..., 0.33333333, 0.        ,\n",
              "        0.19464034]])"
            ]
          },
          "metadata": {},
          "execution_count": 20
        }
      ]
    },
    {
      "cell_type": "code",
      "source": [
        "#saving the min and scaling values for future predictions\n",
        "np.save('scaling_params1.npy',[min_max_scaler.min_,min_max_scaler.scale_])"
      ],
      "metadata": {
        "id": "5hqSai4cvEFa"
      },
      "execution_count": 21,
      "outputs": []
    },
    {
      "cell_type": "code",
      "source": [
        "#copy to google drive\n",
        "!cp '/content/scaling_params1.npy' '/content/drive/MyDrive/DL_Ann'"
      ],
      "metadata": {
        "id": "SwFtUtTRvbCZ"
      },
      "execution_count": 22,
      "outputs": []
    },
    {
      "cell_type": "code",
      "source": [
        "from sklearn.model_selection import train_test_split"
      ],
      "metadata": {
        "id": "uIlfQP20w2JR"
      },
      "execution_count": 23,
      "outputs": []
    },
    {
      "cell_type": "code",
      "source": [
        "#split the data into training(70%) and combination of validation and testing(30%)\n",
        "X_train,X_val_and_test,Y_train,Y_val_and_test = train_test_split(X_scale,Y,test_size=0.30,random_state=42)"
      ],
      "metadata": {
        "id": "I_wUPckbbyjh"
      },
      "execution_count": 24,
      "outputs": []
    },
    {
      "cell_type": "code",
      "source": [
        "#split the validation and testing data equally\n",
        "X_val,X_test,Y_val,Y_test = train_test_split(X_val_and_test,Y_val_and_test,test_size=0.5,random_state=42)"
      ],
      "metadata": {
        "id": "K30_5xLadr__"
      },
      "execution_count": 25,
      "outputs": []
    },
    {
      "cell_type": "code",
      "source": [
        "#train_data,validation_data,testing_data\n",
        "print(X_train.shape,X_val.shape,X_test.shape)"
      ],
      "metadata": {
        "colab": {
          "base_uri": "https://localhost:8080/"
        },
        "id": "jnIpCmgdehrp",
        "outputId": "05b2d363-e20d-4eaa-b2a7-8d257db6f700"
      },
      "execution_count": 26,
      "outputs": [
        {
          "output_type": "stream",
          "name": "stdout",
          "text": [
            "(1022, 10) (219, 10) (219, 10)\n"
          ]
        }
      ]
    },
    {
      "cell_type": "code",
      "source": [
        "print(Y_train.shape,Y_val.shape,Y_test.shape)"
      ],
      "metadata": {
        "colab": {
          "base_uri": "https://localhost:8080/"
        },
        "id": "9-oruK1ElE-Q",
        "outputId": "cb55f30d-dcae-4a4a-aace-2365c978d5bb"
      },
      "execution_count": 27,
      "outputs": [
        {
          "output_type": "stream",
          "name": "stdout",
          "text": [
            "(1022,) (219,) (219,)\n"
          ]
        }
      ]
    },
    {
      "cell_type": "markdown",
      "source": [
        "**Building the Neural Network**"
      ],
      "metadata": {
        "id": "DMy0c85JmVe5"
      }
    },
    {
      "cell_type": "code",
      "source": [
        "from keras.models import Sequential\n",
        "from keras.layers import Dense\n"
      ],
      "metadata": {
        "id": "t8V13-9NlbCt"
      },
      "execution_count": 28,
      "outputs": []
    },
    {
      "cell_type": "code",
      "source": [
        "model = Sequential([\n",
        "    Dense(32,activation='relu',input_shape=(10,)),\n",
        "    Dense(32,activation='relu'),\n",
        "    Dense(1,activation='sigmoid')\n",
        "])"
      ],
      "metadata": {
        "id": "GwvL_BtvmlLd"
      },
      "execution_count": 32,
      "outputs": []
    },
    {
      "cell_type": "code",
      "source": [
        "model.compile(\n",
        "    optimizer='sgd',\n",
        "    loss='binary_crossentropy',\n",
        "    metrics=['accuracy']\n",
        ")"
      ],
      "metadata": {
        "id": "fQ6K5qvyos7x"
      },
      "execution_count": 36,
      "outputs": []
    },
    {
      "cell_type": "code",
      "source": [
        "model.fit(\n",
        "    X_train,Y_train,\n",
        "    batch_size=32,epochs = 100,\n",
        "    validation_data = (X_val,Y_val)\n",
        ")"
      ],
      "metadata": {
        "colab": {
          "base_uri": "https://localhost:8080/"
        },
        "id": "feY9PQ_Opa4F",
        "outputId": "c42b1ea1-5cbe-4b79-a117-3443cbfb14ab"
      },
      "execution_count": 37,
      "outputs": [
        {
          "output_type": "stream",
          "name": "stdout",
          "text": [
            "Epoch 1/100\n",
            "32/32 [==============================] - 5s 10ms/step - loss: 0.6904 - accuracy: 0.5108 - val_loss: 0.6883 - val_accuracy: 0.5160\n",
            "Epoch 2/100\n",
            "32/32 [==============================] - 0s 4ms/step - loss: 0.6876 - accuracy: 0.5117 - val_loss: 0.6852 - val_accuracy: 0.5160\n",
            "Epoch 3/100\n",
            "32/32 [==============================] - 0s 4ms/step - loss: 0.6847 - accuracy: 0.5117 - val_loss: 0.6822 - val_accuracy: 0.5160\n",
            "Epoch 4/100\n",
            "32/32 [==============================] - 0s 5ms/step - loss: 0.6819 - accuracy: 0.5117 - val_loss: 0.6792 - val_accuracy: 0.5205\n",
            "Epoch 5/100\n",
            "32/32 [==============================] - 0s 4ms/step - loss: 0.6791 - accuracy: 0.5117 - val_loss: 0.6761 - val_accuracy: 0.5205\n",
            "Epoch 6/100\n",
            "32/32 [==============================] - 0s 4ms/step - loss: 0.6762 - accuracy: 0.5196 - val_loss: 0.6728 - val_accuracy: 0.5205\n",
            "Epoch 7/100\n",
            "32/32 [==============================] - 0s 4ms/step - loss: 0.6734 - accuracy: 0.5225 - val_loss: 0.6693 - val_accuracy: 0.5205\n",
            "Epoch 8/100\n",
            "32/32 [==============================] - 0s 5ms/step - loss: 0.6701 - accuracy: 0.5382 - val_loss: 0.6657 - val_accuracy: 0.5297\n",
            "Epoch 9/100\n",
            "32/32 [==============================] - 0s 4ms/step - loss: 0.6665 - accuracy: 0.5685 - val_loss: 0.6617 - val_accuracy: 0.5525\n",
            "Epoch 10/100\n",
            "32/32 [==============================] - 0s 4ms/step - loss: 0.6628 - accuracy: 0.5822 - val_loss: 0.6574 - val_accuracy: 0.5799\n",
            "Epoch 11/100\n",
            "32/32 [==============================] - 0s 4ms/step - loss: 0.6583 - accuracy: 0.6213 - val_loss: 0.6524 - val_accuracy: 0.6347\n",
            "Epoch 12/100\n",
            "32/32 [==============================] - 0s 5ms/step - loss: 0.6535 - accuracy: 0.6634 - val_loss: 0.6470 - val_accuracy: 0.6849\n",
            "Epoch 13/100\n",
            "32/32 [==============================] - 0s 4ms/step - loss: 0.6483 - accuracy: 0.7280 - val_loss: 0.6417 - val_accuracy: 0.7169\n",
            "Epoch 14/100\n",
            "32/32 [==============================] - 0s 4ms/step - loss: 0.6432 - accuracy: 0.7436 - val_loss: 0.6363 - val_accuracy: 0.7215\n",
            "Epoch 15/100\n",
            "32/32 [==============================] - 0s 4ms/step - loss: 0.6380 - accuracy: 0.7544 - val_loss: 0.6308 - val_accuracy: 0.7260\n",
            "Epoch 16/100\n",
            "32/32 [==============================] - 0s 4ms/step - loss: 0.6329 - accuracy: 0.7661 - val_loss: 0.6253 - val_accuracy: 0.7306\n",
            "Epoch 17/100\n",
            "32/32 [==============================] - 0s 4ms/step - loss: 0.6277 - accuracy: 0.7691 - val_loss: 0.6197 - val_accuracy: 0.7306\n",
            "Epoch 18/100\n",
            "32/32 [==============================] - 0s 4ms/step - loss: 0.6223 - accuracy: 0.7701 - val_loss: 0.6138 - val_accuracy: 0.7397\n",
            "Epoch 19/100\n",
            "32/32 [==============================] - 0s 4ms/step - loss: 0.6167 - accuracy: 0.7769 - val_loss: 0.6075 - val_accuracy: 0.7397\n",
            "Epoch 20/100\n",
            "32/32 [==============================] - 0s 4ms/step - loss: 0.6106 - accuracy: 0.7847 - val_loss: 0.6008 - val_accuracy: 0.7534\n",
            "Epoch 21/100\n",
            "32/32 [==============================] - 0s 4ms/step - loss: 0.6042 - accuracy: 0.7838 - val_loss: 0.5938 - val_accuracy: 0.7671\n",
            "Epoch 22/100\n",
            "32/32 [==============================] - 0s 4ms/step - loss: 0.5976 - accuracy: 0.7857 - val_loss: 0.5866 - val_accuracy: 0.7671\n",
            "Epoch 23/100\n",
            "32/32 [==============================] - 0s 7ms/step - loss: 0.5909 - accuracy: 0.7857 - val_loss: 0.5792 - val_accuracy: 0.7808\n",
            "Epoch 24/100\n",
            "32/32 [==============================] - 0s 6ms/step - loss: 0.5840 - accuracy: 0.7926 - val_loss: 0.5717 - val_accuracy: 0.7854\n",
            "Epoch 25/100\n",
            "32/32 [==============================] - 0s 6ms/step - loss: 0.5770 - accuracy: 0.7965 - val_loss: 0.5641 - val_accuracy: 0.7945\n",
            "Epoch 26/100\n",
            "32/32 [==============================] - 0s 6ms/step - loss: 0.5699 - accuracy: 0.8033 - val_loss: 0.5563 - val_accuracy: 0.7900\n",
            "Epoch 27/100\n",
            "32/32 [==============================] - 0s 5ms/step - loss: 0.5629 - accuracy: 0.8014 - val_loss: 0.5484 - val_accuracy: 0.8037\n",
            "Epoch 28/100\n",
            "32/32 [==============================] - 0s 7ms/step - loss: 0.5557 - accuracy: 0.8151 - val_loss: 0.5406 - val_accuracy: 0.8037\n",
            "Epoch 29/100\n",
            "32/32 [==============================] - 0s 6ms/step - loss: 0.5487 - accuracy: 0.8112 - val_loss: 0.5326 - val_accuracy: 0.8174\n",
            "Epoch 30/100\n",
            "32/32 [==============================] - 0s 6ms/step - loss: 0.5413 - accuracy: 0.8141 - val_loss: 0.5247 - val_accuracy: 0.8174\n",
            "Epoch 31/100\n",
            "32/32 [==============================] - 0s 6ms/step - loss: 0.5341 - accuracy: 0.8200 - val_loss: 0.5166 - val_accuracy: 0.8311\n",
            "Epoch 32/100\n",
            "32/32 [==============================] - 0s 7ms/step - loss: 0.5269 - accuracy: 0.8229 - val_loss: 0.5084 - val_accuracy: 0.8493\n",
            "Epoch 33/100\n",
            "32/32 [==============================] - 0s 6ms/step - loss: 0.5193 - accuracy: 0.8317 - val_loss: 0.5008 - val_accuracy: 0.8356\n",
            "Epoch 34/100\n",
            "32/32 [==============================] - 0s 6ms/step - loss: 0.5124 - accuracy: 0.8258 - val_loss: 0.4924 - val_accuracy: 0.8447\n",
            "Epoch 35/100\n",
            "32/32 [==============================] - 0s 6ms/step - loss: 0.5051 - accuracy: 0.8327 - val_loss: 0.4841 - val_accuracy: 0.8584\n",
            "Epoch 36/100\n",
            "32/32 [==============================] - 0s 6ms/step - loss: 0.4979 - accuracy: 0.8297 - val_loss: 0.4762 - val_accuracy: 0.8584\n",
            "Epoch 37/100\n",
            "32/32 [==============================] - 0s 6ms/step - loss: 0.4908 - accuracy: 0.8346 - val_loss: 0.4685 - val_accuracy: 0.8539\n",
            "Epoch 38/100\n",
            "32/32 [==============================] - 0s 8ms/step - loss: 0.4838 - accuracy: 0.8376 - val_loss: 0.4604 - val_accuracy: 0.8630\n",
            "Epoch 39/100\n",
            "32/32 [==============================] - 0s 7ms/step - loss: 0.4768 - accuracy: 0.8376 - val_loss: 0.4530 - val_accuracy: 0.8584\n",
            "Epoch 40/100\n",
            "32/32 [==============================] - 0s 4ms/step - loss: 0.4700 - accuracy: 0.8386 - val_loss: 0.4449 - val_accuracy: 0.8676\n",
            "Epoch 41/100\n",
            "32/32 [==============================] - 0s 4ms/step - loss: 0.4631 - accuracy: 0.8464 - val_loss: 0.4370 - val_accuracy: 0.8858\n",
            "Epoch 42/100\n",
            "32/32 [==============================] - 0s 5ms/step - loss: 0.4565 - accuracy: 0.8493 - val_loss: 0.4294 - val_accuracy: 0.8813\n",
            "Epoch 43/100\n",
            "32/32 [==============================] - 0s 4ms/step - loss: 0.4502 - accuracy: 0.8552 - val_loss: 0.4218 - val_accuracy: 0.8858\n",
            "Epoch 44/100\n",
            "32/32 [==============================] - 0s 5ms/step - loss: 0.4437 - accuracy: 0.8513 - val_loss: 0.4153 - val_accuracy: 0.8813\n",
            "Epoch 45/100\n",
            "32/32 [==============================] - 0s 5ms/step - loss: 0.4377 - accuracy: 0.8542 - val_loss: 0.4080 - val_accuracy: 0.8813\n",
            "Epoch 46/100\n",
            "32/32 [==============================] - 0s 4ms/step - loss: 0.4316 - accuracy: 0.8581 - val_loss: 0.4011 - val_accuracy: 0.8858\n",
            "Epoch 47/100\n",
            "32/32 [==============================] - 0s 4ms/step - loss: 0.4261 - accuracy: 0.8611 - val_loss: 0.3947 - val_accuracy: 0.8904\n",
            "Epoch 48/100\n",
            "32/32 [==============================] - 0s 4ms/step - loss: 0.4202 - accuracy: 0.8630 - val_loss: 0.3878 - val_accuracy: 0.8904\n",
            "Epoch 49/100\n",
            "32/32 [==============================] - 0s 5ms/step - loss: 0.4150 - accuracy: 0.8640 - val_loss: 0.3817 - val_accuracy: 0.8950\n",
            "Epoch 50/100\n",
            "32/32 [==============================] - 0s 4ms/step - loss: 0.4097 - accuracy: 0.8650 - val_loss: 0.3757 - val_accuracy: 0.8950\n",
            "Epoch 51/100\n",
            "32/32 [==============================] - 0s 5ms/step - loss: 0.4047 - accuracy: 0.8601 - val_loss: 0.3713 - val_accuracy: 0.8995\n",
            "Epoch 52/100\n",
            "32/32 [==============================] - 0s 4ms/step - loss: 0.4000 - accuracy: 0.8669 - val_loss: 0.3644 - val_accuracy: 0.8995\n",
            "Epoch 53/100\n",
            "32/32 [==============================] - 0s 4ms/step - loss: 0.3954 - accuracy: 0.8620 - val_loss: 0.3587 - val_accuracy: 0.9041\n",
            "Epoch 54/100\n",
            "32/32 [==============================] - 0s 4ms/step - loss: 0.3911 - accuracy: 0.8650 - val_loss: 0.3538 - val_accuracy: 0.8995\n",
            "Epoch 55/100\n",
            "32/32 [==============================] - 0s 4ms/step - loss: 0.3867 - accuracy: 0.8650 - val_loss: 0.3480 - val_accuracy: 0.8995\n",
            "Epoch 56/100\n",
            "32/32 [==============================] - 0s 5ms/step - loss: 0.3824 - accuracy: 0.8640 - val_loss: 0.3443 - val_accuracy: 0.8995\n",
            "Epoch 57/100\n",
            "32/32 [==============================] - 0s 4ms/step - loss: 0.3788 - accuracy: 0.8640 - val_loss: 0.3393 - val_accuracy: 0.9041\n",
            "Epoch 58/100\n",
            "32/32 [==============================] - 0s 5ms/step - loss: 0.3749 - accuracy: 0.8630 - val_loss: 0.3343 - val_accuracy: 0.9041\n",
            "Epoch 59/100\n",
            "32/32 [==============================] - 0s 4ms/step - loss: 0.3715 - accuracy: 0.8611 - val_loss: 0.3310 - val_accuracy: 0.9041\n",
            "Epoch 60/100\n",
            "32/32 [==============================] - 0s 4ms/step - loss: 0.3678 - accuracy: 0.8640 - val_loss: 0.3262 - val_accuracy: 0.8995\n",
            "Epoch 61/100\n",
            "32/32 [==============================] - 0s 5ms/step - loss: 0.3645 - accuracy: 0.8630 - val_loss: 0.3224 - val_accuracy: 0.8995\n",
            "Epoch 62/100\n",
            "32/32 [==============================] - 0s 4ms/step - loss: 0.3619 - accuracy: 0.8640 - val_loss: 0.3184 - val_accuracy: 0.8995\n",
            "Epoch 63/100\n",
            "32/32 [==============================] - 0s 4ms/step - loss: 0.3588 - accuracy: 0.8630 - val_loss: 0.3151 - val_accuracy: 0.8995\n",
            "Epoch 64/100\n",
            "32/32 [==============================] - 0s 4ms/step - loss: 0.3557 - accuracy: 0.8650 - val_loss: 0.3117 - val_accuracy: 0.8995\n",
            "Epoch 65/100\n",
            "32/32 [==============================] - 0s 5ms/step - loss: 0.3526 - accuracy: 0.8689 - val_loss: 0.3080 - val_accuracy: 0.9041\n",
            "Epoch 66/100\n",
            "32/32 [==============================] - 0s 5ms/step - loss: 0.3503 - accuracy: 0.8659 - val_loss: 0.3075 - val_accuracy: 0.8995\n",
            "Epoch 67/100\n",
            "32/32 [==============================] - 0s 4ms/step - loss: 0.3480 - accuracy: 0.8650 - val_loss: 0.3021 - val_accuracy: 0.9041\n",
            "Epoch 68/100\n",
            "32/32 [==============================] - 0s 4ms/step - loss: 0.3458 - accuracy: 0.8659 - val_loss: 0.3001 - val_accuracy: 0.8995\n",
            "Epoch 69/100\n",
            "32/32 [==============================] - 0s 4ms/step - loss: 0.3439 - accuracy: 0.8679 - val_loss: 0.2971 - val_accuracy: 0.8995\n",
            "Epoch 70/100\n",
            "32/32 [==============================] - 0s 4ms/step - loss: 0.3415 - accuracy: 0.8650 - val_loss: 0.2941 - val_accuracy: 0.8995\n",
            "Epoch 71/100\n",
            "32/32 [==============================] - 0s 4ms/step - loss: 0.3400 - accuracy: 0.8650 - val_loss: 0.2926 - val_accuracy: 0.8995\n",
            "Epoch 72/100\n",
            "32/32 [==============================] - 0s 4ms/step - loss: 0.3373 - accuracy: 0.8659 - val_loss: 0.2896 - val_accuracy: 0.8995\n",
            "Epoch 73/100\n",
            "32/32 [==============================] - 0s 4ms/step - loss: 0.3362 - accuracy: 0.8630 - val_loss: 0.2874 - val_accuracy: 0.8995\n",
            "Epoch 74/100\n",
            "32/32 [==============================] - 0s 4ms/step - loss: 0.3337 - accuracy: 0.8650 - val_loss: 0.2875 - val_accuracy: 0.8995\n",
            "Epoch 75/100\n",
            "32/32 [==============================] - 0s 4ms/step - loss: 0.3329 - accuracy: 0.8708 - val_loss: 0.2839 - val_accuracy: 0.8995\n",
            "Epoch 76/100\n",
            "32/32 [==============================] - 0s 4ms/step - loss: 0.3309 - accuracy: 0.8669 - val_loss: 0.2818 - val_accuracy: 0.8995\n",
            "Epoch 77/100\n",
            "32/32 [==============================] - 0s 4ms/step - loss: 0.3290 - accuracy: 0.8659 - val_loss: 0.2797 - val_accuracy: 0.8995\n",
            "Epoch 78/100\n",
            "32/32 [==============================] - 0s 4ms/step - loss: 0.3275 - accuracy: 0.8669 - val_loss: 0.2781 - val_accuracy: 0.8995\n",
            "Epoch 79/100\n",
            "32/32 [==============================] - 0s 4ms/step - loss: 0.3259 - accuracy: 0.8669 - val_loss: 0.2786 - val_accuracy: 0.8950\n",
            "Epoch 80/100\n",
            "32/32 [==============================] - 0s 4ms/step - loss: 0.3249 - accuracy: 0.8728 - val_loss: 0.2748 - val_accuracy: 0.9041\n",
            "Epoch 81/100\n",
            "32/32 [==============================] - 0s 4ms/step - loss: 0.3237 - accuracy: 0.8728 - val_loss: 0.2748 - val_accuracy: 0.8950\n",
            "Epoch 82/100\n",
            "32/32 [==============================] - 0s 4ms/step - loss: 0.3225 - accuracy: 0.8669 - val_loss: 0.2716 - val_accuracy: 0.9087\n",
            "Epoch 83/100\n",
            "32/32 [==============================] - 0s 4ms/step - loss: 0.3214 - accuracy: 0.8718 - val_loss: 0.2705 - val_accuracy: 0.9087\n",
            "Epoch 84/100\n",
            "32/32 [==============================] - 0s 5ms/step - loss: 0.3191 - accuracy: 0.8689 - val_loss: 0.2689 - val_accuracy: 0.9087\n",
            "Epoch 85/100\n",
            "32/32 [==============================] - 0s 5ms/step - loss: 0.3195 - accuracy: 0.8728 - val_loss: 0.2689 - val_accuracy: 0.9041\n",
            "Epoch 86/100\n",
            "32/32 [==============================] - 0s 5ms/step - loss: 0.3182 - accuracy: 0.8728 - val_loss: 0.2673 - val_accuracy: 0.9041\n",
            "Epoch 87/100\n",
            "32/32 [==============================] - 0s 4ms/step - loss: 0.3171 - accuracy: 0.8728 - val_loss: 0.2658 - val_accuracy: 0.9087\n",
            "Epoch 88/100\n",
            "32/32 [==============================] - 0s 5ms/step - loss: 0.3162 - accuracy: 0.8728 - val_loss: 0.2641 - val_accuracy: 0.9087\n",
            "Epoch 89/100\n",
            "32/32 [==============================] - 0s 5ms/step - loss: 0.3148 - accuracy: 0.8748 - val_loss: 0.2629 - val_accuracy: 0.9087\n",
            "Epoch 90/100\n",
            "32/32 [==============================] - 0s 5ms/step - loss: 0.3137 - accuracy: 0.8748 - val_loss: 0.2630 - val_accuracy: 0.9041\n",
            "Epoch 91/100\n",
            "32/32 [==============================] - 0s 4ms/step - loss: 0.3134 - accuracy: 0.8738 - val_loss: 0.2609 - val_accuracy: 0.9087\n",
            "Epoch 92/100\n",
            "32/32 [==============================] - 0s 4ms/step - loss: 0.3126 - accuracy: 0.8748 - val_loss: 0.2597 - val_accuracy: 0.9087\n",
            "Epoch 93/100\n",
            "32/32 [==============================] - 0s 5ms/step - loss: 0.3115 - accuracy: 0.8767 - val_loss: 0.2600 - val_accuracy: 0.9087\n",
            "Epoch 94/100\n",
            "32/32 [==============================] - 0s 4ms/step - loss: 0.3112 - accuracy: 0.8748 - val_loss: 0.2584 - val_accuracy: 0.9087\n",
            "Epoch 95/100\n",
            "32/32 [==============================] - 0s 4ms/step - loss: 0.3104 - accuracy: 0.8738 - val_loss: 0.2576 - val_accuracy: 0.9087\n",
            "Epoch 96/100\n",
            "32/32 [==============================] - 0s 4ms/step - loss: 0.3088 - accuracy: 0.8777 - val_loss: 0.2580 - val_accuracy: 0.9087\n",
            "Epoch 97/100\n",
            "32/32 [==============================] - 0s 4ms/step - loss: 0.3086 - accuracy: 0.8757 - val_loss: 0.2553 - val_accuracy: 0.9087\n",
            "Epoch 98/100\n",
            "32/32 [==============================] - 0s 4ms/step - loss: 0.3079 - accuracy: 0.8796 - val_loss: 0.2545 - val_accuracy: 0.9087\n",
            "Epoch 99/100\n",
            "32/32 [==============================] - 0s 4ms/step - loss: 0.3072 - accuracy: 0.8777 - val_loss: 0.2538 - val_accuracy: 0.9087\n",
            "Epoch 100/100\n",
            "32/32 [==============================] - 0s 4ms/step - loss: 0.3055 - accuracy: 0.8777 - val_loss: 0.2550 - val_accuracy: 0.9041\n"
          ]
        },
        {
          "output_type": "execute_result",
          "data": {
            "text/plain": [
              "<keras.src.callbacks.History at 0x784708245150>"
            ]
          },
          "metadata": {},
          "execution_count": 37
        }
      ]
    },
    {
      "cell_type": "code",
      "source": [
        "model.evaluate(X_test,Y_test)"
      ],
      "metadata": {
        "colab": {
          "base_uri": "https://localhost:8080/"
        },
        "id": "nxGTCz1BqCXD",
        "outputId": "d723b93e-2476-4985-e08c-c6535f5d76c6"
      },
      "execution_count": 38,
      "outputs": [
        {
          "output_type": "stream",
          "name": "stdout",
          "text": [
            "7/7 [==============================] - 0s 3ms/step - loss: 0.2742 - accuracy: 0.8813\n"
          ]
        },
        {
          "output_type": "execute_result",
          "data": {
            "text/plain": [
              "[0.27419155836105347, 0.8812785148620605]"
            ]
          },
          "metadata": {},
          "execution_count": 38
        }
      ]
    },
    {
      "cell_type": "code",
      "source": [
        "import matplotlib.pyplot as plt"
      ],
      "metadata": {
        "id": "J_49kB7qrJZh"
      },
      "execution_count": 39,
      "outputs": []
    },
    {
      "cell_type": "code",
      "source": [
        "history = model.fit(X_train, Y_train,\n",
        "                    batch_size=32,\n",
        "                    epochs=100,\n",
        "                    validation_data=(X_val, Y_val))\n",
        "\n",
        "# Saving the training history\n",
        "training_loss = history.history['loss']\n",
        "validation_loss = history.history['val_loss']\n",
        "epochs = range(1, len(training_loss) + 1)\n",
        "\n",
        "# Plotting training and validation loss\n",
        "plt.plot(epochs, training_loss, 'bo', label='Training Loss')\n",
        "plt.plot(epochs, validation_loss, 'r', label='Validation Loss')\n",
        "plt.title('Training and Validation Loss')\n",
        "plt.xlabel('Epochs')\n",
        "plt.ylabel('Loss')\n",
        "plt.legend()\n",
        "plt.show()"
      ],
      "metadata": {
        "colab": {
          "base_uri": "https://localhost:8080/",
          "height": 1000
        },
        "id": "tlz6DeWjstDi",
        "outputId": "ee9cfdef-21be-4357-d793-b5ef9adb3f19"
      },
      "execution_count": 45,
      "outputs": [
        {
          "output_type": "stream",
          "name": "stdout",
          "text": [
            "Epoch 1/100\n",
            "32/32 [==============================] - 0s 9ms/step - loss: 0.3059 - accuracy: 0.8757 - val_loss: 0.2520 - val_accuracy: 0.9132\n",
            "Epoch 2/100\n",
            "32/32 [==============================] - 0s 8ms/step - loss: 0.3053 - accuracy: 0.8767 - val_loss: 0.2513 - val_accuracy: 0.9087\n",
            "Epoch 3/100\n",
            "32/32 [==============================] - 0s 8ms/step - loss: 0.3043 - accuracy: 0.8777 - val_loss: 0.2523 - val_accuracy: 0.9087\n",
            "Epoch 4/100\n",
            "32/32 [==============================] - 0s 7ms/step - loss: 0.3041 - accuracy: 0.8777 - val_loss: 0.2515 - val_accuracy: 0.9087\n",
            "Epoch 5/100\n",
            "32/32 [==============================] - 0s 5ms/step - loss: 0.3036 - accuracy: 0.8816 - val_loss: 0.2496 - val_accuracy: 0.9087\n",
            "Epoch 6/100\n",
            "32/32 [==============================] - 0s 4ms/step - loss: 0.3029 - accuracy: 0.8787 - val_loss: 0.2486 - val_accuracy: 0.9087\n",
            "Epoch 7/100\n",
            "32/32 [==============================] - 0s 5ms/step - loss: 0.3020 - accuracy: 0.8757 - val_loss: 0.2502 - val_accuracy: 0.9041\n",
            "Epoch 8/100\n",
            "32/32 [==============================] - 0s 5ms/step - loss: 0.3019 - accuracy: 0.8796 - val_loss: 0.2481 - val_accuracy: 0.9087\n",
            "Epoch 9/100\n",
            "32/32 [==============================] - 0s 5ms/step - loss: 0.3016 - accuracy: 0.8777 - val_loss: 0.2471 - val_accuracy: 0.9087\n",
            "Epoch 10/100\n",
            "32/32 [==============================] - 0s 4ms/step - loss: 0.3007 - accuracy: 0.8816 - val_loss: 0.2458 - val_accuracy: 0.9178\n",
            "Epoch 11/100\n",
            "32/32 [==============================] - 0s 4ms/step - loss: 0.2998 - accuracy: 0.8738 - val_loss: 0.2472 - val_accuracy: 0.9041\n",
            "Epoch 12/100\n",
            "32/32 [==============================] - 0s 4ms/step - loss: 0.2999 - accuracy: 0.8777 - val_loss: 0.2451 - val_accuracy: 0.9087\n",
            "Epoch 13/100\n",
            "32/32 [==============================] - 0s 4ms/step - loss: 0.2988 - accuracy: 0.8796 - val_loss: 0.2440 - val_accuracy: 0.9178\n",
            "Epoch 14/100\n",
            "32/32 [==============================] - 0s 8ms/step - loss: 0.2992 - accuracy: 0.8787 - val_loss: 0.2436 - val_accuracy: 0.9178\n",
            "Epoch 15/100\n",
            "32/32 [==============================] - 0s 6ms/step - loss: 0.2983 - accuracy: 0.8796 - val_loss: 0.2439 - val_accuracy: 0.9087\n",
            "Epoch 16/100\n",
            "32/32 [==============================] - 0s 6ms/step - loss: 0.2979 - accuracy: 0.8777 - val_loss: 0.2425 - val_accuracy: 0.9178\n",
            "Epoch 17/100\n",
            "32/32 [==============================] - 0s 7ms/step - loss: 0.2971 - accuracy: 0.8796 - val_loss: 0.2419 - val_accuracy: 0.9178\n",
            "Epoch 18/100\n",
            "32/32 [==============================] - 0s 6ms/step - loss: 0.2976 - accuracy: 0.8826 - val_loss: 0.2421 - val_accuracy: 0.9132\n",
            "Epoch 19/100\n",
            "32/32 [==============================] - 0s 6ms/step - loss: 0.2964 - accuracy: 0.8796 - val_loss: 0.2415 - val_accuracy: 0.9178\n",
            "Epoch 20/100\n",
            "32/32 [==============================] - 0s 6ms/step - loss: 0.2959 - accuracy: 0.8767 - val_loss: 0.2402 - val_accuracy: 0.9178\n",
            "Epoch 21/100\n",
            "32/32 [==============================] - 0s 6ms/step - loss: 0.2953 - accuracy: 0.8816 - val_loss: 0.2406 - val_accuracy: 0.9178\n",
            "Epoch 22/100\n",
            "32/32 [==============================] - 0s 6ms/step - loss: 0.2934 - accuracy: 0.8855 - val_loss: 0.2395 - val_accuracy: 0.9178\n",
            "Epoch 23/100\n",
            "32/32 [==============================] - 0s 6ms/step - loss: 0.2948 - accuracy: 0.8777 - val_loss: 0.2391 - val_accuracy: 0.9178\n",
            "Epoch 24/100\n",
            "32/32 [==============================] - 0s 6ms/step - loss: 0.2941 - accuracy: 0.8787 - val_loss: 0.2390 - val_accuracy: 0.9178\n",
            "Epoch 25/100\n",
            "32/32 [==============================] - 0s 6ms/step - loss: 0.2936 - accuracy: 0.8787 - val_loss: 0.2379 - val_accuracy: 0.9178\n",
            "Epoch 26/100\n",
            "32/32 [==============================] - 0s 6ms/step - loss: 0.2938 - accuracy: 0.8826 - val_loss: 0.2377 - val_accuracy: 0.9178\n",
            "Epoch 27/100\n",
            "32/32 [==============================] - 0s 6ms/step - loss: 0.2927 - accuracy: 0.8796 - val_loss: 0.2373 - val_accuracy: 0.9178\n",
            "Epoch 28/100\n",
            "32/32 [==============================] - 0s 5ms/step - loss: 0.2925 - accuracy: 0.8836 - val_loss: 0.2379 - val_accuracy: 0.9178\n",
            "Epoch 29/100\n",
            "32/32 [==============================] - 0s 7ms/step - loss: 0.2926 - accuracy: 0.8787 - val_loss: 0.2370 - val_accuracy: 0.9178\n",
            "Epoch 30/100\n",
            "32/32 [==============================] - 0s 6ms/step - loss: 0.2913 - accuracy: 0.8816 - val_loss: 0.2381 - val_accuracy: 0.9132\n",
            "Epoch 31/100\n",
            "32/32 [==============================] - 0s 6ms/step - loss: 0.2916 - accuracy: 0.8806 - val_loss: 0.2358 - val_accuracy: 0.9178\n",
            "Epoch 32/100\n",
            "32/32 [==============================] - 0s 5ms/step - loss: 0.2911 - accuracy: 0.8816 - val_loss: 0.2349 - val_accuracy: 0.9178\n",
            "Epoch 33/100\n",
            "32/32 [==============================] - 0s 4ms/step - loss: 0.2912 - accuracy: 0.8806 - val_loss: 0.2353 - val_accuracy: 0.9178\n",
            "Epoch 34/100\n",
            "32/32 [==============================] - 0s 4ms/step - loss: 0.2900 - accuracy: 0.8787 - val_loss: 0.2355 - val_accuracy: 0.9178\n",
            "Epoch 35/100\n",
            "32/32 [==============================] - 0s 4ms/step - loss: 0.2901 - accuracy: 0.8806 - val_loss: 0.2336 - val_accuracy: 0.9178\n",
            "Epoch 36/100\n",
            "32/32 [==============================] - 0s 5ms/step - loss: 0.2902 - accuracy: 0.8806 - val_loss: 0.2331 - val_accuracy: 0.9178\n",
            "Epoch 37/100\n",
            "32/32 [==============================] - 0s 4ms/step - loss: 0.2891 - accuracy: 0.8826 - val_loss: 0.2331 - val_accuracy: 0.9178\n",
            "Epoch 38/100\n",
            "32/32 [==============================] - 0s 5ms/step - loss: 0.2887 - accuracy: 0.8796 - val_loss: 0.2337 - val_accuracy: 0.9178\n",
            "Epoch 39/100\n",
            "32/32 [==============================] - 0s 5ms/step - loss: 0.2891 - accuracy: 0.8796 - val_loss: 0.2319 - val_accuracy: 0.9178\n",
            "Epoch 40/100\n",
            "32/32 [==============================] - 0s 4ms/step - loss: 0.2883 - accuracy: 0.8806 - val_loss: 0.2312 - val_accuracy: 0.9178\n",
            "Epoch 41/100\n",
            "32/32 [==============================] - 0s 4ms/step - loss: 0.2881 - accuracy: 0.8836 - val_loss: 0.2319 - val_accuracy: 0.9178\n",
            "Epoch 42/100\n",
            "32/32 [==============================] - 0s 4ms/step - loss: 0.2878 - accuracy: 0.8806 - val_loss: 0.2344 - val_accuracy: 0.9087\n",
            "Epoch 43/100\n",
            "32/32 [==============================] - 0s 4ms/step - loss: 0.2884 - accuracy: 0.8767 - val_loss: 0.2318 - val_accuracy: 0.9178\n",
            "Epoch 44/100\n",
            "32/32 [==============================] - 0s 4ms/step - loss: 0.2872 - accuracy: 0.8806 - val_loss: 0.2297 - val_accuracy: 0.9178\n",
            "Epoch 45/100\n",
            "32/32 [==============================] - 0s 5ms/step - loss: 0.2867 - accuracy: 0.8826 - val_loss: 0.2297 - val_accuracy: 0.9178\n",
            "Epoch 46/100\n",
            "32/32 [==============================] - 0s 4ms/step - loss: 0.2869 - accuracy: 0.8816 - val_loss: 0.2293 - val_accuracy: 0.9178\n",
            "Epoch 47/100\n",
            "32/32 [==============================] - 0s 4ms/step - loss: 0.2863 - accuracy: 0.8806 - val_loss: 0.2290 - val_accuracy: 0.9178\n",
            "Epoch 48/100\n",
            "32/32 [==============================] - 0s 4ms/step - loss: 0.2861 - accuracy: 0.8826 - val_loss: 0.2294 - val_accuracy: 0.9178\n",
            "Epoch 49/100\n",
            "32/32 [==============================] - 0s 4ms/step - loss: 0.2855 - accuracy: 0.8816 - val_loss: 0.2278 - val_accuracy: 0.9178\n",
            "Epoch 50/100\n",
            "32/32 [==============================] - 0s 5ms/step - loss: 0.2852 - accuracy: 0.8816 - val_loss: 0.2278 - val_accuracy: 0.9178\n",
            "Epoch 51/100\n",
            "32/32 [==============================] - 0s 4ms/step - loss: 0.2849 - accuracy: 0.8826 - val_loss: 0.2276 - val_accuracy: 0.9178\n",
            "Epoch 52/100\n",
            "32/32 [==============================] - 0s 5ms/step - loss: 0.2846 - accuracy: 0.8845 - val_loss: 0.2281 - val_accuracy: 0.9178\n",
            "Epoch 53/100\n",
            "32/32 [==============================] - 0s 6ms/step - loss: 0.2847 - accuracy: 0.8826 - val_loss: 0.2269 - val_accuracy: 0.9178\n",
            "Epoch 54/100\n",
            "32/32 [==============================] - 0s 4ms/step - loss: 0.2850 - accuracy: 0.8836 - val_loss: 0.2265 - val_accuracy: 0.9178\n",
            "Epoch 55/100\n",
            "32/32 [==============================] - 0s 4ms/step - loss: 0.2841 - accuracy: 0.8816 - val_loss: 0.2259 - val_accuracy: 0.9178\n",
            "Epoch 56/100\n",
            "32/32 [==============================] - 0s 4ms/step - loss: 0.2836 - accuracy: 0.8826 - val_loss: 0.2255 - val_accuracy: 0.9178\n",
            "Epoch 57/100\n",
            "32/32 [==============================] - 0s 4ms/step - loss: 0.2838 - accuracy: 0.8836 - val_loss: 0.2269 - val_accuracy: 0.9178\n",
            "Epoch 58/100\n",
            "32/32 [==============================] - 0s 4ms/step - loss: 0.2832 - accuracy: 0.8836 - val_loss: 0.2267 - val_accuracy: 0.9178\n",
            "Epoch 59/100\n",
            "32/32 [==============================] - 0s 5ms/step - loss: 0.2826 - accuracy: 0.8796 - val_loss: 0.2246 - val_accuracy: 0.9178\n",
            "Epoch 60/100\n",
            "32/32 [==============================] - 0s 4ms/step - loss: 0.2825 - accuracy: 0.8816 - val_loss: 0.2276 - val_accuracy: 0.9178\n",
            "Epoch 61/100\n",
            "32/32 [==============================] - 0s 4ms/step - loss: 0.2832 - accuracy: 0.8806 - val_loss: 0.2269 - val_accuracy: 0.9178\n",
            "Epoch 62/100\n",
            "32/32 [==============================] - 0s 4ms/step - loss: 0.2824 - accuracy: 0.8836 - val_loss: 0.2239 - val_accuracy: 0.9178\n",
            "Epoch 63/100\n",
            "32/32 [==============================] - 0s 4ms/step - loss: 0.2837 - accuracy: 0.8826 - val_loss: 0.2234 - val_accuracy: 0.9178\n",
            "Epoch 64/100\n",
            "32/32 [==============================] - 0s 4ms/step - loss: 0.2812 - accuracy: 0.8845 - val_loss: 0.2259 - val_accuracy: 0.9178\n",
            "Epoch 65/100\n",
            "32/32 [==============================] - 0s 4ms/step - loss: 0.2815 - accuracy: 0.8836 - val_loss: 0.2227 - val_accuracy: 0.9178\n",
            "Epoch 66/100\n",
            "32/32 [==============================] - 0s 5ms/step - loss: 0.2811 - accuracy: 0.8845 - val_loss: 0.2224 - val_accuracy: 0.9178\n",
            "Epoch 67/100\n",
            "32/32 [==============================] - 0s 4ms/step - loss: 0.2810 - accuracy: 0.8806 - val_loss: 0.2222 - val_accuracy: 0.9178\n",
            "Epoch 68/100\n",
            "32/32 [==============================] - 0s 4ms/step - loss: 0.2809 - accuracy: 0.8836 - val_loss: 0.2222 - val_accuracy: 0.9132\n",
            "Epoch 69/100\n",
            "32/32 [==============================] - 0s 4ms/step - loss: 0.2807 - accuracy: 0.8816 - val_loss: 0.2241 - val_accuracy: 0.9178\n",
            "Epoch 70/100\n",
            "32/32 [==============================] - 0s 4ms/step - loss: 0.2810 - accuracy: 0.8826 - val_loss: 0.2219 - val_accuracy: 0.9178\n",
            "Epoch 71/100\n",
            "32/32 [==============================] - 0s 4ms/step - loss: 0.2807 - accuracy: 0.8865 - val_loss: 0.2230 - val_accuracy: 0.9178\n",
            "Epoch 72/100\n",
            "32/32 [==============================] - 0s 4ms/step - loss: 0.2802 - accuracy: 0.8845 - val_loss: 0.2210 - val_accuracy: 0.9178\n",
            "Epoch 73/100\n",
            "32/32 [==============================] - 0s 5ms/step - loss: 0.2802 - accuracy: 0.8806 - val_loss: 0.2206 - val_accuracy: 0.9178\n",
            "Epoch 74/100\n",
            "32/32 [==============================] - 0s 5ms/step - loss: 0.2804 - accuracy: 0.8836 - val_loss: 0.2202 - val_accuracy: 0.9178\n",
            "Epoch 75/100\n",
            "32/32 [==============================] - 0s 4ms/step - loss: 0.2795 - accuracy: 0.8865 - val_loss: 0.2200 - val_accuracy: 0.9178\n",
            "Epoch 76/100\n",
            "32/32 [==============================] - 0s 4ms/step - loss: 0.2790 - accuracy: 0.8826 - val_loss: 0.2205 - val_accuracy: 0.9178\n",
            "Epoch 77/100\n",
            "32/32 [==============================] - 0s 5ms/step - loss: 0.2785 - accuracy: 0.8865 - val_loss: 0.2195 - val_accuracy: 0.9178\n",
            "Epoch 78/100\n",
            "32/32 [==============================] - 0s 4ms/step - loss: 0.2792 - accuracy: 0.8806 - val_loss: 0.2192 - val_accuracy: 0.9178\n",
            "Epoch 79/100\n",
            "32/32 [==============================] - 0s 4ms/step - loss: 0.2782 - accuracy: 0.8826 - val_loss: 0.2202 - val_accuracy: 0.9178\n",
            "Epoch 80/100\n",
            "32/32 [==============================] - 0s 5ms/step - loss: 0.2780 - accuracy: 0.8855 - val_loss: 0.2210 - val_accuracy: 0.9178\n",
            "Epoch 81/100\n",
            "32/32 [==============================] - 0s 4ms/step - loss: 0.2782 - accuracy: 0.8845 - val_loss: 0.2213 - val_accuracy: 0.9178\n",
            "Epoch 82/100\n",
            "32/32 [==============================] - 0s 5ms/step - loss: 0.2783 - accuracy: 0.8826 - val_loss: 0.2183 - val_accuracy: 0.9178\n",
            "Epoch 83/100\n",
            "32/32 [==============================] - 0s 5ms/step - loss: 0.2781 - accuracy: 0.8845 - val_loss: 0.2180 - val_accuracy: 0.9178\n",
            "Epoch 84/100\n",
            "32/32 [==============================] - 0s 5ms/step - loss: 0.2777 - accuracy: 0.8855 - val_loss: 0.2182 - val_accuracy: 0.9178\n",
            "Epoch 85/100\n",
            "32/32 [==============================] - 0s 4ms/step - loss: 0.2777 - accuracy: 0.8865 - val_loss: 0.2178 - val_accuracy: 0.9132\n",
            "Epoch 86/100\n",
            "32/32 [==============================] - 0s 5ms/step - loss: 0.2771 - accuracy: 0.8845 - val_loss: 0.2179 - val_accuracy: 0.9178\n",
            "Epoch 87/100\n",
            "32/32 [==============================] - 0s 4ms/step - loss: 0.2771 - accuracy: 0.8845 - val_loss: 0.2186 - val_accuracy: 0.9178\n",
            "Epoch 88/100\n",
            "32/32 [==============================] - 0s 4ms/step - loss: 0.2767 - accuracy: 0.8885 - val_loss: 0.2195 - val_accuracy: 0.9178\n",
            "Epoch 89/100\n",
            "32/32 [==============================] - 0s 4ms/step - loss: 0.2764 - accuracy: 0.8845 - val_loss: 0.2166 - val_accuracy: 0.9178\n",
            "Epoch 90/100\n",
            "32/32 [==============================] - 0s 5ms/step - loss: 0.2762 - accuracy: 0.8826 - val_loss: 0.2171 - val_accuracy: 0.9178\n",
            "Epoch 91/100\n",
            "32/32 [==============================] - 0s 5ms/step - loss: 0.2759 - accuracy: 0.8865 - val_loss: 0.2186 - val_accuracy: 0.9178\n",
            "Epoch 92/100\n",
            "32/32 [==============================] - 0s 5ms/step - loss: 0.2764 - accuracy: 0.8806 - val_loss: 0.2161 - val_accuracy: 0.9178\n",
            "Epoch 93/100\n",
            "32/32 [==============================] - 0s 5ms/step - loss: 0.2763 - accuracy: 0.8865 - val_loss: 0.2160 - val_accuracy: 0.9178\n",
            "Epoch 94/100\n",
            "32/32 [==============================] - 0s 4ms/step - loss: 0.2759 - accuracy: 0.8875 - val_loss: 0.2158 - val_accuracy: 0.9178\n",
            "Epoch 95/100\n",
            "32/32 [==============================] - 0s 5ms/step - loss: 0.2756 - accuracy: 0.8885 - val_loss: 0.2161 - val_accuracy: 0.9178\n",
            "Epoch 96/100\n",
            "32/32 [==============================] - 0s 5ms/step - loss: 0.2758 - accuracy: 0.8845 - val_loss: 0.2156 - val_accuracy: 0.9178\n",
            "Epoch 97/100\n",
            "32/32 [==============================] - 0s 4ms/step - loss: 0.2749 - accuracy: 0.8865 - val_loss: 0.2147 - val_accuracy: 0.9178\n",
            "Epoch 98/100\n",
            "32/32 [==============================] - 0s 6ms/step - loss: 0.2745 - accuracy: 0.8836 - val_loss: 0.2162 - val_accuracy: 0.9178\n",
            "Epoch 99/100\n",
            "32/32 [==============================] - 0s 8ms/step - loss: 0.2758 - accuracy: 0.8875 - val_loss: 0.2158 - val_accuracy: 0.9178\n",
            "Epoch 100/100\n",
            "32/32 [==============================] - 0s 7ms/step - loss: 0.2754 - accuracy: 0.8845 - val_loss: 0.2158 - val_accuracy: 0.9178\n"
          ]
        },
        {
          "output_type": "display_data",
          "data": {
            "text/plain": [
              "<Figure size 640x480 with 1 Axes>"
            ],
            "image/png": "[encoded data removed]"
          },
          "metadata": {}
        }
      ]
    },
    {
      "cell_type": "code",
      "source": [],
      "metadata": {
        "id": "ZPTq-ZwLtKzJ"
      },
      "execution_count": null,
      "outputs": []
    }
  ]
}