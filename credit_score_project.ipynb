{
  "cells": [
    {
      "cell_type": "markdown",
      "metadata": {
        "id": "view-in-github",
        "colab_type": "text"
      },
      "source": [
        "<a href=\"https://colab.research.google.com/github/HarikrishnanK9/DataSymphony/blob/main/credit_score_project.ipynb\" target=\"_parent\"><img src=\"https://colab.research.google.com/assets/colab-badge.svg\" alt=\"Open In Colab\"/></a>"
      ]
    },
    {
      "cell_type": "markdown",
      "metadata": {
        "id": "jzddzA45hE07"
      },
      "source": [
        "# **Credit Score Classification**"
      ]
    },
    {
      "cell_type": "markdown",
      "metadata": {
        "id": "-__5RwpJ-ZCl"
      },
      "source": [
        "**PROJECT OBJECTIVE**\n",
        "\n",
        "*   Study the dataset and make it fit for analysis\n",
        "*   Learn how to use different Machine Learning algorithms can help us to predict credit score\n",
        "\n",
        "\n"
      ]
    },
    {
      "cell_type": "markdown",
      "metadata": {
        "id": "9Tog9RUF9FLS"
      },
      "source": [
        "**ABOUT THE DATASET**\n",
        "\n",
        "*   This dataset contains information about a sample of over 150 people across the world. The data includes the following information:\n",
        "\n",
        "1.   Age: The age of the person in years.\n",
        "\n",
        "1.   Gender: The gender of the person (male or female).\n",
        "\n",
        "1.   Income: The annual income of the person in US dollars.\n",
        "\n",
        "2.   Education: The highest level of education completed by the person.\n",
        "\n",
        "2.   Marital Status: The marital status of the person (single, married, divorced, or widowed).\n",
        "\n",
        "2.   Number of Children: The number of children the person has.\n",
        "\n",
        "1.   Home Ownership: Whether the person owns their home or rents it.\n",
        "2.   Credit Score: The credit score of the person, which is a measure of their creditworthiness.\n",
        "\n",
        "\n",
        "\n",
        "\n",
        "\n",
        "\n",
        "\n"
      ]
    },
    {
      "cell_type": "markdown",
      "metadata": {
        "id": "FmAlcMPGwe0s"
      },
      "source": [
        "**IMPORTING NECESSARY LIBRARIES**"
      ]
    },
    {
      "cell_type": "code",
      "execution_count": null,
      "metadata": {
        "id": "Zp5teC5vWjZb"
      },
      "outputs": [],
      "source": [
        "import numpy as np\n",
        "import pandas as pd\n",
        "import matplotlib.pyplot as plt\n",
        "import seaborn as sns\n",
        "import warnings\n",
        "warnings.filterwarnings('ignore')\n"
      ]
    },
    {
      "cell_type": "markdown",
      "metadata": {
        "id": "G4TSm0LEw0rF"
      },
      "source": [
        "**LOADING DATASET**"
      ]
    },
    {
      "cell_type": "code",
      "execution_count": null,
      "metadata": {
        "colab": {
          "base_uri": "https://localhost:8080/",
          "height": 423
        },
        "id": "5oRU7Pz7wuj6",
        "outputId": "dfabd4ae-8bbc-4dcf-f675-01d8d0efe43e"
      },
      "outputs": [
        {
          "output_type": "execute_result",
          "data": {
            "text/plain": [
              "     Age  Gender    Income            Education Marital Status  \\\n",
              "0     25  Female   50000.0    Bachelor's Degree         Single   \n",
              "1     30    Male  100000.0      Master's Degree        Married   \n",
              "2     35  Female   75000.0            Doctorate        Married   \n",
              "3     40    Male  125000.0  High School Diploma         Single   \n",
              "4     45  Female  100000.0    Bachelor's Degree        Married   \n",
              "..   ...     ...       ...                  ...            ...   \n",
              "159   29  Female   27500.0  High School Diploma         Single   \n",
              "160   34    Male   47500.0   Associate's Degree         Single   \n",
              "161   39  Female   62500.0    Bachelor's Degree        Married   \n",
              "162   44    Male   87500.0      Master's Degree         Single   \n",
              "163   49  Female   77500.0            Doctorate        Married   \n",
              "\n",
              "     Number of Children Home Ownership Credit Score  \n",
              "0                     0         Rented         High  \n",
              "1                     2          Owned         High  \n",
              "2                     1          Owned         High  \n",
              "3                     0          Owned         High  \n",
              "4                     3          Owned         High  \n",
              "..                  ...            ...          ...  \n",
              "159                   0         Rented          Low  \n",
              "160                   0         Rented      Average  \n",
              "161                   2          Owned         High  \n",
              "162                   0          Owned         High  \n",
              "163                   1          Owned         High  \n",
              "\n",
              "[164 rows x 8 columns]"
            ],
            "text/html": [
              "\n",
              "  <div id=\"df-1d97ee84-b9b4-47e2-9a41-42989f93ea3d\">\n",
              "    <div class=\"colab-df-container\">\n",
              "      <div>\n",
              "<style scoped>\n",
              "    .dataframe tbody tr th:only-of-type {\n",
              "        vertical-align: middle;\n",
              "    }\n",
              "\n",
              "    .dataframe tbody tr th {\n",
              "        vertical-align: top;\n",
              "    }\n",
              "\n",
              "    .dataframe thead th {\n",
              "        text-align: right;\n",
              "    }\n",
              "</style>\n",
              "<table border=\"1\" class=\"dataframe\">\n",
              "  <thead>\n",
              "    <tr style=\"text-align: right;\">\n",
              "      <th></th>\n",
              "      <th>Age</th>\n",
              "      <th>Gender</th>\n",
              "      <th>Income</th>\n",
              "      <th>Education</th>\n",
              "      <th>Marital Status</th>\n",
              "      <th>Number of Children</th>\n",
              "      <th>Home Ownership</th>\n",
              "      <th>Credit Score</th>\n",
              "    </tr>\n",
              "  </thead>\n",
              "  <tbody>\n",
              "    <tr>\n",
              "      <th>0</th>\n",
              "      <td>25</td>\n",
              "      <td>Female</td>\n",
              "      <td>50000.0</td>\n",
              "      <td>Bachelor's Degree</td>\n",
              "      <td>Single</td>\n",
              "      <td>0</td>\n",
              "      <td>Rented</td>\n",
              "      <td>High</td>\n",
              "    </tr>\n",
              "    <tr>\n",
              "      <th>1</th>\n",
              "      <td>30</td>\n",
              "      <td>Male</td>\n",
              "      <td>100000.0</td>\n",
              "      <td>Master's Degree</td>\n",
              "      <td>Married</td>\n",
              "      <td>2</td>\n",
              "      <td>Owned</td>\n",
              "      <td>High</td>\n",
              "    </tr>\n",
              "    <tr>\n",
              "      <th>2</th>\n",
              "      <td>35</td>\n",
              "      <td>Female</td>\n",
              "      <td>75000.0</td>\n",
              "      <td>Doctorate</td>\n",
              "      <td>Married</td>\n",
              "      <td>1</td>\n",
              "      <td>Owned</td>\n",
              "      <td>High</td>\n",
              "    </tr>\n",
              "    <tr>\n",
              "      <th>3</th>\n",
              "      <td>40</td>\n",
              "      <td>Male</td>\n",
              "      <td>125000.0</td>\n",
              "      <td>High School Diploma</td>\n",
              "      <td>Single</td>\n",
              "      <td>0</td>\n",
              "      <td>Owned</td>\n",
              "      <td>High</td>\n",
              "    </tr>\n",
              "    <tr>\n",
              "      <th>4</th>\n",
              "      <td>45</td>\n",
              "      <td>Female</td>\n",
              "      <td>100000.0</td>\n",
              "      <td>Bachelor's Degree</td>\n",
              "      <td>Married</td>\n",
              "      <td>3</td>\n",
              "      <td>Owned</td>\n",
              "      <td>High</td>\n",
              "    </tr>\n",
              "    <tr>\n",
              "      <th>...</th>\n",
              "      <td>...</td>\n",
              "      <td>...</td>\n",
              "      <td>...</td>\n",
              "      <td>...</td>\n",
              "      <td>...</td>\n",
              "      <td>...</td>\n",
              "      <td>...</td>\n",
              "      <td>...</td>\n",
              "    </tr>\n",
              "    <tr>\n",
              "      <th>159</th>\n",
              "      <td>29</td>\n",
              "      <td>Female</td>\n",
              "      <td>27500.0</td>\n",
              "      <td>High School Diploma</td>\n",
              "      <td>Single</td>\n",
              "      <td>0</td>\n",
              "      <td>Rented</td>\n",
              "      <td>Low</td>\n",
              "    </tr>\n",
              "    <tr>\n",
              "      <th>160</th>\n",
              "      <td>34</td>\n",
              "      <td>Male</td>\n",
              "      <td>47500.0</td>\n",
              "      <td>Associate's Degree</td>\n",
              "      <td>Single</td>\n",
              "      <td>0</td>\n",
              "      <td>Rented</td>\n",
              "      <td>Average</td>\n",
              "    </tr>\n",
              "    <tr>\n",
              "      <th>161</th>\n",
              "      <td>39</td>\n",
              "      <td>Female</td>\n",
              "      <td>62500.0</td>\n",
              "      <td>Bachelor's Degree</td>\n",
              "      <td>Married</td>\n",
              "      <td>2</td>\n",
              "      <td>Owned</td>\n",
              "      <td>High</td>\n",
              "    </tr>\n",
              "    <tr>\n",
              "      <th>162</th>\n",
              "      <td>44</td>\n",
              "      <td>Male</td>\n",
              "      <td>87500.0</td>\n",
              "      <td>Master's Degree</td>\n",
              "      <td>Single</td>\n",
              "      <td>0</td>\n",
              "      <td>Owned</td>\n",
              "      <td>High</td>\n",
              "    </tr>\n",
              "    <tr>\n",
              "      <th>163</th>\n",
              "      <td>49</td>\n",
              "      <td>Female</td>\n",
              "      <td>77500.0</td>\n",
              "      <td>Doctorate</td>\n",
              "      <td>Married</td>\n",
              "      <td>1</td>\n",
              "      <td>Owned</td>\n",
              "      <td>High</td>\n",
              "    </tr>\n",
              "  </tbody>\n",
              "</table>\n",
              "<p>164 rows × 8 columns</p>\n",
              "</div>\n",
              "      <button class=\"colab-df-convert\" onclick=\"convertToInteractive('df-1d97ee84-b9b4-47e2-9a41-42989f93ea3d')\"\n",
              "              title=\"Convert this dataframe to an interactive table.\"\n",
              "              style=\"display:none;\">\n",
              "        \n",
              "  <svg xmlns=\"http://www.w3.org/2000/svg\" height=\"24px\"viewBox=\"0 0 24 24\"\n",
              "       width=\"24px\">\n",
              "    <path d=\"M0 0h24v24H0V0z\" fill=\"none\"/>\n",
              "    <path d=\"M18.56 5.44l.94 2.06.94-2.06 2.06-.94-2.06-.94-.94-2.06-.94 2.06-2.06.94zm-11 1L8.5 8.5l.94-2.06 2.06-.94-2.06-.94L8.5 2.5l-.94 2.06-2.06.94zm10 10l.94 2.06.94-2.06 2.06-.94-2.06-.94-.94-2.06-.94 2.06-2.06.94z\"/><path d=\"M17.41 7.96l-1.37-1.37c-.4-.4-.92-.59-1.43-.59-.52 0-1.04.2-1.43.59L10.3 9.45l-7.72 7.72c-.78.78-.78 2.05 0 2.83L4 21.41c.39.39.9.59 1.41.59.51 0 1.02-.2 1.41-.59l7.78-7.78 2.81-2.81c.8-.78.8-2.07 0-2.86zM5.41 20L4 18.59l7.72-7.72 1.47 1.35L5.41 20z\"/>\n",
              "  </svg>\n",
              "      </button>\n",
              "      \n",
              "  <style>\n",
              "    .colab-df-container {\n",
              "      display:flex;\n",
              "      flex-wrap:wrap;\n",
              "      gap: 12px;\n",
              "    }\n",
              "\n",
              "    .colab-df-convert {\n",
              "      background-color: #E8F0FE;\n",
              "      border: none;\n",
              "      border-radius: 50%;\n",
              "      cursor: pointer;\n",
              "      display: none;\n",
              "      fill: #1967D2;\n",
              "      height: 32px;\n",
              "      padding: 0 0 0 0;\n",
              "      width: 32px;\n",
              "    }\n",
              "\n",
              "    .colab-df-convert:hover {\n",
              "      background-color: #E2EBFA;\n",
              "      box-shadow: 0px 1px 2px rgba(60, 64, 67, 0.3), 0px 1px 3px 1px rgba(60, 64, 67, 0.15);\n",
              "      fill: #174EA6;\n",
              "    }\n",
              "\n",
              "    [theme=dark] .colab-df-convert {\n",
              "      background-color: #3B4455;\n",
              "      fill: #D2E3FC;\n",
              "    }\n",
              "\n",
              "    [theme=dark] .colab-df-convert:hover {\n",
              "      background-color: #434B5C;\n",
              "      box-shadow: 0px 1px 3px 1px rgba(0, 0, 0, 0.15);\n",
              "      filter: drop-shadow(0px 1px 2px rgba(0, 0, 0, 0.3));\n",
              "      fill: #FFFFFF;\n",
              "    }\n",
              "  </style>\n",
              "\n",
              "      <script>\n",
              "        const buttonEl =\n",
              "          document.querySelector('#df-1d97ee84-b9b4-47e2-9a41-42989f93ea3d button.colab-df-convert');\n",
              "        buttonEl.style.display =\n",
              "          google.colab.kernel.accessAllowed ? 'block' : 'none';\n",
              "\n",
              "        async function convertToInteractive(key) {\n",
              "          const element = document.querySelector('#df-1d97ee84-b9b4-47e2-9a41-42989f93ea3d');\n",
              "          const dataTable =\n",
              "            await google.colab.kernel.invokeFunction('convertToInteractive',\n",
              "                                                     [key], {});\n",
              "          if (!dataTable) return;\n",
              "\n",
              "          const docLinkHtml = 'Like what you see? Visit the ' +\n",
              "            '<a target=\"_blank\" href=https://colab.research.google.com/notebooks/data_table.ipynb>data table notebook</a>'\n",
              "            + ' to learn more about interactive tables.';\n",
              "          element.innerHTML = '';\n",
              "          dataTable['output_type'] = 'display_data';\n",
              "          await google.colab.output.renderOutput(dataTable, element);\n",
              "          const docLink = document.createElement('div');\n",
              "          docLink.innerHTML = docLinkHtml;\n",
              "          element.appendChild(docLink);\n",
              "        }\n",
              "      </script>\n",
              "    </div>\n",
              "  </div>\n",
              "  "
            ]
          },
          "metadata": {},
          "execution_count": 972
        }
      ],
      "source": [
        "df=pd.read_csv(\"/content/Credit Score Classification Dataset.csv\")\n",
        "df"
      ]
    },
    {
      "cell_type": "markdown",
      "metadata": {
        "id": "7DXES64_7D_c"
      },
      "source": [
        "**EXPLORATORY DATA ANALYSIS**"
      ]
    },
    {
      "cell_type": "markdown",
      "source": [
        "Exploratory Data Analysis (EDA) is an approach that is used to analyze the data and discover trends, patterns, or check assumptions in data with the help of statistical summaries and graphical representations.Key steps involved in EDA are: Data collection, Data preprocessing, Descrptive statistics, Data cleaning, Data visualization etc"
      ],
      "metadata": {
        "id": "naH5-dVddp9h"
      }
    },
    {
      "cell_type": "markdown",
      "metadata": {
        "id": "Np5Q4rwn7JW6"
      },
      "source": [
        "**a)UNDERSTANDING THE DATASET**"
      ]
    },
    {
      "cell_type": "code",
      "execution_count": null,
      "metadata": {
        "colab": {
          "base_uri": "https://localhost:8080/",
          "height": 206
        },
        "id": "_K3lIvWjXWGG",
        "outputId": "45d2218a-5591-4054-dd25-baeb25fc1590"
      },
      "outputs": [
        {
          "output_type": "execute_result",
          "data": {
            "text/plain": [
              "   Age  Gender    Income            Education Marital Status  \\\n",
              "0   25  Female   50000.0    Bachelor's Degree         Single   \n",
              "1   30    Male  100000.0      Master's Degree        Married   \n",
              "2   35  Female   75000.0            Doctorate        Married   \n",
              "3   40    Male  125000.0  High School Diploma         Single   \n",
              "4   45  Female  100000.0    Bachelor's Degree        Married   \n",
              "\n",
              "   Number of Children Home Ownership Credit Score  \n",
              "0                   0         Rented         High  \n",
              "1                   2          Owned         High  \n",
              "2                   1          Owned         High  \n",
              "3                   0          Owned         High  \n",
              "4                   3          Owned         High  "
            ],
            "text/html": [
              "\n",
              "  <div id=\"df-99e2c9b8-f230-44bd-8827-33c1eefc4a20\">\n",
              "    <div class=\"colab-df-container\">\n",
              "      <div>\n",
              "<style scoped>\n",
              "    .dataframe tbody tr th:only-of-type {\n",
              "        vertical-align: middle;\n",
              "    }\n",
              "\n",
              "    .dataframe tbody tr th {\n",
              "        vertical-align: top;\n",
              "    }\n",
              "\n",
              "    .dataframe thead th {\n",
              "        text-align: right;\n",
              "    }\n",
              "</style>\n",
              "<table border=\"1\" class=\"dataframe\">\n",
              "  <thead>\n",
              "    <tr style=\"text-align: right;\">\n",
              "      <th></th>\n",
              "      <th>Age</th>\n",
              "      <th>Gender</th>\n",
              "      <th>Income</th>\n",
              "      <th>Education</th>\n",
              "      <th>Marital Status</th>\n",
              "      <th>Number of Children</th>\n",
              "      <th>Home Ownership</th>\n",
              "      <th>Credit Score</th>\n",
              "    </tr>\n",
              "  </thead>\n",
              "  <tbody>\n",
              "    <tr>\n",
              "      <th>0</th>\n",
              "      <td>25</td>\n",
              "      <td>Female</td>\n",
              "      <td>50000.0</td>\n",
              "      <td>Bachelor's Degree</td>\n",
              "      <td>Single</td>\n",
              "      <td>0</td>\n",
              "      <td>Rented</td>\n",
              "      <td>High</td>\n",
              "    </tr>\n",
              "    <tr>\n",
              "      <th>1</th>\n",
              "      <td>30</td>\n",
              "      <td>Male</td>\n",
              "      <td>100000.0</td>\n",
              "      <td>Master's Degree</td>\n",
              "      <td>Married</td>\n",
              "      <td>2</td>\n",
              "      <td>Owned</td>\n",
              "      <td>High</td>\n",
              "    </tr>\n",
              "    <tr>\n",
              "      <th>2</th>\n",
              "      <td>35</td>\n",
              "      <td>Female</td>\n",
              "      <td>75000.0</td>\n",
              "      <td>Doctorate</td>\n",
              "      <td>Married</td>\n",
              "      <td>1</td>\n",
              "      <td>Owned</td>\n",
              "      <td>High</td>\n",
              "    </tr>\n",
              "    <tr>\n",
              "      <th>3</th>\n",
              "      <td>40</td>\n",
              "      <td>Male</td>\n",
              "      <td>125000.0</td>\n",
              "      <td>High School Diploma</td>\n",
              "      <td>Single</td>\n",
              "      <td>0</td>\n",
              "      <td>Owned</td>\n",
              "      <td>High</td>\n",
              "    </tr>\n",
              "    <tr>\n",
              "      <th>4</th>\n",
              "      <td>45</td>\n",
              "      <td>Female</td>\n",
              "      <td>100000.0</td>\n",
              "      <td>Bachelor's Degree</td>\n",
              "      <td>Married</td>\n",
              "      <td>3</td>\n",
              "      <td>Owned</td>\n",
              "      <td>High</td>\n",
              "    </tr>\n",
              "  </tbody>\n",
              "</table>\n",
              "</div>\n",
              "      <button class=\"colab-df-convert\" onclick=\"convertToInteractive('df-99e2c9b8-f230-44bd-8827-33c1eefc4a20')\"\n",
              "              title=\"Convert this dataframe to an interactive table.\"\n",
              "              style=\"display:none;\">\n",
              "        \n",
              "  <svg xmlns=\"http://www.w3.org/2000/svg\" height=\"24px\"viewBox=\"0 0 24 24\"\n",
              "       width=\"24px\">\n",
              "    <path d=\"M0 0h24v24H0V0z\" fill=\"none\"/>\n",
              "    <path d=\"M18.56 5.44l.94 2.06.94-2.06 2.06-.94-2.06-.94-.94-2.06-.94 2.06-2.06.94zm-11 1L8.5 8.5l.94-2.06 2.06-.94-2.06-.94L8.5 2.5l-.94 2.06-2.06.94zm10 10l.94 2.06.94-2.06 2.06-.94-2.06-.94-.94-2.06-.94 2.06-2.06.94z\"/><path d=\"M17.41 7.96l-1.37-1.37c-.4-.4-.92-.59-1.43-.59-.52 0-1.04.2-1.43.59L10.3 9.45l-7.72 7.72c-.78.78-.78 2.05 0 2.83L4 21.41c.39.39.9.59 1.41.59.51 0 1.02-.2 1.41-.59l7.78-7.78 2.81-2.81c.8-.78.8-2.07 0-2.86zM5.41 20L4 18.59l7.72-7.72 1.47 1.35L5.41 20z\"/>\n",
              "  </svg>\n",
              "      </button>\n",
              "      \n",
              "  <style>\n",
              "    .colab-df-container {\n",
              "      display:flex;\n",
              "      flex-wrap:wrap;\n",
              "      gap: 12px;\n",
              "    }\n",
              "\n",
              "    .colab-df-convert {\n",
              "      background-color: #E8F0FE;\n",
              "      border: none;\n",
              "      border-radius: 50%;\n",
              "      cursor: pointer;\n",
              "      display: none;\n",
              "      fill: #1967D2;\n",
              "      height: 32px;\n",
              "      padding: 0 0 0 0;\n",
              "      width: 32px;\n",
              "    }\n",
              "\n",
              "    .colab-df-convert:hover {\n",
              "      background-color: #E2EBFA;\n",
              "      box-shadow: 0px 1px 2px rgba(60, 64, 67, 0.3), 0px 1px 3px 1px rgba(60, 64, 67, 0.15);\n",
              "      fill: #174EA6;\n",
              "    }\n",
              "\n",
              "    [theme=dark] .colab-df-convert {\n",
              "      background-color: #3B4455;\n",
              "      fill: #D2E3FC;\n",
              "    }\n",
              "\n",
              "    [theme=dark] .colab-df-convert:hover {\n",
              "      background-color: #434B5C;\n",
              "      box-shadow: 0px 1px 3px 1px rgba(0, 0, 0, 0.15);\n",
              "      filter: drop-shadow(0px 1px 2px rgba(0, 0, 0, 0.3));\n",
              "      fill: #FFFFFF;\n",
              "    }\n",
              "  </style>\n",
              "\n",
              "      <script>\n",
              "        const buttonEl =\n",
              "          document.querySelector('#df-99e2c9b8-f230-44bd-8827-33c1eefc4a20 button.colab-df-convert');\n",
              "        buttonEl.style.display =\n",
              "          google.colab.kernel.accessAllowed ? 'block' : 'none';\n",
              "\n",
              "        async function convertToInteractive(key) {\n",
              "          const element = document.querySelector('#df-99e2c9b8-f230-44bd-8827-33c1eefc4a20');\n",
              "          const dataTable =\n",
              "            await google.colab.kernel.invokeFunction('convertToInteractive',\n",
              "                                                     [key], {});\n",
              "          if (!dataTable) return;\n",
              "\n",
              "          const docLinkHtml = 'Like what you see? Visit the ' +\n",
              "            '<a target=\"_blank\" href=https://colab.research.google.com/notebooks/data_table.ipynb>data table notebook</a>'\n",
              "            + ' to learn more about interactive tables.';\n",
              "          element.innerHTML = '';\n",
              "          dataTable['output_type'] = 'display_data';\n",
              "          await google.colab.output.renderOutput(dataTable, element);\n",
              "          const docLink = document.createElement('div');\n",
              "          docLink.innerHTML = docLinkHtml;\n",
              "          element.appendChild(docLink);\n",
              "        }\n",
              "      </script>\n",
              "    </div>\n",
              "  </div>\n",
              "  "
            ]
          },
          "metadata": {},
          "execution_count": 973
        }
      ],
      "source": [
        "#To print 1st 5 rows using head function\n",
        "df.head()"
      ]
    },
    {
      "cell_type": "code",
      "execution_count": null,
      "metadata": {
        "colab": {
          "base_uri": "https://localhost:8080/",
          "height": 206
        },
        "id": "v7AQTT0EXWHn",
        "outputId": "ff4d7c75-d38e-4e5f-9176-98937c710f3d"
      },
      "outputs": [
        {
          "output_type": "execute_result",
          "data": {
            "text/plain": [
              "     Age  Gender   Income            Education Marital Status  \\\n",
              "159   29  Female  27500.0  High School Diploma         Single   \n",
              "160   34    Male  47500.0   Associate's Degree         Single   \n",
              "161   39  Female  62500.0    Bachelor's Degree        Married   \n",
              "162   44    Male  87500.0      Master's Degree         Single   \n",
              "163   49  Female  77500.0            Doctorate        Married   \n",
              "\n",
              "     Number of Children Home Ownership Credit Score  \n",
              "159                   0         Rented          Low  \n",
              "160                   0         Rented      Average  \n",
              "161                   2          Owned         High  \n",
              "162                   0          Owned         High  \n",
              "163                   1          Owned         High  "
            ],
            "text/html": [
              "\n",
              "  <div id=\"df-5f20084a-46e5-4e18-a360-93d092339c4f\">\n",
              "    <div class=\"colab-df-container\">\n",
              "      <div>\n",
              "<style scoped>\n",
              "    .dataframe tbody tr th:only-of-type {\n",
              "        vertical-align: middle;\n",
              "    }\n",
              "\n",
              "    .dataframe tbody tr th {\n",
              "        vertical-align: top;\n",
              "    }\n",
              "\n",
              "    .dataframe thead th {\n",
              "        text-align: right;\n",
              "    }\n",
              "</style>\n",
              "<table border=\"1\" class=\"dataframe\">\n",
              "  <thead>\n",
              "    <tr style=\"text-align: right;\">\n",
              "      <th></th>\n",
              "      <th>Age</th>\n",
              "      <th>Gender</th>\n",
              "      <th>Income</th>\n",
              "      <th>Education</th>\n",
              "      <th>Marital Status</th>\n",
              "      <th>Number of Children</th>\n",
              "      <th>Home Ownership</th>\n",
              "      <th>Credit Score</th>\n",
              "    </tr>\n",
              "  </thead>\n",
              "  <tbody>\n",
              "    <tr>\n",
              "      <th>159</th>\n",
              "      <td>29</td>\n",
              "      <td>Female</td>\n",
              "      <td>27500.0</td>\n",
              "      <td>High School Diploma</td>\n",
              "      <td>Single</td>\n",
              "      <td>0</td>\n",
              "      <td>Rented</td>\n",
              "      <td>Low</td>\n",
              "    </tr>\n",
              "    <tr>\n",
              "      <th>160</th>\n",
              "      <td>34</td>\n",
              "      <td>Male</td>\n",
              "      <td>47500.0</td>\n",
              "      <td>Associate's Degree</td>\n",
              "      <td>Single</td>\n",
              "      <td>0</td>\n",
              "      <td>Rented</td>\n",
              "      <td>Average</td>\n",
              "    </tr>\n",
              "    <tr>\n",
              "      <th>161</th>\n",
              "      <td>39</td>\n",
              "      <td>Female</td>\n",
              "      <td>62500.0</td>\n",
              "      <td>Bachelor's Degree</td>\n",
              "      <td>Married</td>\n",
              "      <td>2</td>\n",
              "      <td>Owned</td>\n",
              "      <td>High</td>\n",
              "    </tr>\n",
              "    <tr>\n",
              "      <th>162</th>\n",
              "      <td>44</td>\n",
              "      <td>Male</td>\n",
              "      <td>87500.0</td>\n",
              "      <td>Master's Degree</td>\n",
              "      <td>Single</td>\n",
              "      <td>0</td>\n",
              "      <td>Owned</td>\n",
              "      <td>High</td>\n",
              "    </tr>\n",
              "    <tr>\n",
              "      <th>163</th>\n",
              "      <td>49</td>\n",
              "      <td>Female</td>\n",
              "      <td>77500.0</td>\n",
              "      <td>Doctorate</td>\n",
              "      <td>Married</td>\n",
              "      <td>1</td>\n",
              "      <td>Owned</td>\n",
              "      <td>High</td>\n",
              "    </tr>\n",
              "  </tbody>\n",
              "</table>\n",
              "</div>\n",
              "      <button class=\"colab-df-convert\" onclick=\"convertToInteractive('df-5f20084a-46e5-4e18-a360-93d092339c4f')\"\n",
              "              title=\"Convert this dataframe to an interactive table.\"\n",
              "              style=\"display:none;\">\n",
              "        \n",
              "  <svg xmlns=\"http://www.w3.org/2000/svg\" height=\"24px\"viewBox=\"0 0 24 24\"\n",
              "       width=\"24px\">\n",
              "    <path d=\"M0 0h24v24H0V0z\" fill=\"none\"/>\n",
              "    <path d=\"M18.56 5.44l.94 2.06.94-2.06 2.06-.94-2.06-.94-.94-2.06-.94 2.06-2.06.94zm-11 1L8.5 8.5l.94-2.06 2.06-.94-2.06-.94L8.5 2.5l-.94 2.06-2.06.94zm10 10l.94 2.06.94-2.06 2.06-.94-2.06-.94-.94-2.06-.94 2.06-2.06.94z\"/><path d=\"M17.41 7.96l-1.37-1.37c-.4-.4-.92-.59-1.43-.59-.52 0-1.04.2-1.43.59L10.3 9.45l-7.72 7.72c-.78.78-.78 2.05 0 2.83L4 21.41c.39.39.9.59 1.41.59.51 0 1.02-.2 1.41-.59l7.78-7.78 2.81-2.81c.8-.78.8-2.07 0-2.86zM5.41 20L4 18.59l7.72-7.72 1.47 1.35L5.41 20z\"/>\n",
              "  </svg>\n",
              "      </button>\n",
              "      \n",
              "  <style>\n",
              "    .colab-df-container {\n",
              "      display:flex;\n",
              "      flex-wrap:wrap;\n",
              "      gap: 12px;\n",
              "    }\n",
              "\n",
              "    .colab-df-convert {\n",
              "      background-color: #E8F0FE;\n",
              "      border: none;\n",
              "      border-radius: 50%;\n",
              "      cursor: pointer;\n",
              "      display: none;\n",
              "      fill: #1967D2;\n",
              "      height: 32px;\n",
              "      padding: 0 0 0 0;\n",
              "      width: 32px;\n",
              "    }\n",
              "\n",
              "    .colab-df-convert:hover {\n",
              "      background-color: #E2EBFA;\n",
              "      box-shadow: 0px 1px 2px rgba(60, 64, 67, 0.3), 0px 1px 3px 1px rgba(60, 64, 67, 0.15);\n",
              "      fill: #174EA6;\n",
              "    }\n",
              "\n",
              "    [theme=dark] .colab-df-convert {\n",
              "      background-color: #3B4455;\n",
              "      fill: #D2E3FC;\n",
              "    }\n",
              "\n",
              "    [theme=dark] .colab-df-convert:hover {\n",
              "      background-color: #434B5C;\n",
              "      box-shadow: 0px 1px 3px 1px rgba(0, 0, 0, 0.15);\n",
              "      filter: drop-shadow(0px 1px 2px rgba(0, 0, 0, 0.3));\n",
              "      fill: #FFFFFF;\n",
              "    }\n",
              "  </style>\n",
              "\n",
              "      <script>\n",
              "        const buttonEl =\n",
              "          document.querySelector('#df-5f20084a-46e5-4e18-a360-93d092339c4f button.colab-df-convert');\n",
              "        buttonEl.style.display =\n",
              "          google.colab.kernel.accessAllowed ? 'block' : 'none';\n",
              "\n",
              "        async function convertToInteractive(key) {\n",
              "          const element = document.querySelector('#df-5f20084a-46e5-4e18-a360-93d092339c4f');\n",
              "          const dataTable =\n",
              "            await google.colab.kernel.invokeFunction('convertToInteractive',\n",
              "                                                     [key], {});\n",
              "          if (!dataTable) return;\n",
              "\n",
              "          const docLinkHtml = 'Like what you see? Visit the ' +\n",
              "            '<a target=\"_blank\" href=https://colab.research.google.com/notebooks/data_table.ipynb>data table notebook</a>'\n",
              "            + ' to learn more about interactive tables.';\n",
              "          element.innerHTML = '';\n",
              "          dataTable['output_type'] = 'display_data';\n",
              "          await google.colab.output.renderOutput(dataTable, element);\n",
              "          const docLink = document.createElement('div');\n",
              "          docLink.innerHTML = docLinkHtml;\n",
              "          element.appendChild(docLink);\n",
              "        }\n",
              "      </script>\n",
              "    </div>\n",
              "  </div>\n",
              "  "
            ]
          },
          "metadata": {},
          "execution_count": 974
        }
      ],
      "source": [
        "#To print lst 5 rows using tail\n",
        "df.tail()"
      ]
    },
    {
      "cell_type": "code",
      "execution_count": null,
      "metadata": {
        "colab": {
          "base_uri": "https://localhost:8080/"
        },
        "id": "IY8In8a0hXku",
        "outputId": "14eb67d1-0928-413b-e03c-7e2608071fe1"
      },
      "outputs": [
        {
          "output_type": "execute_result",
          "data": {
            "text/plain": [
              "Index(['Age', 'Gender', 'Income', 'Education', 'Marital Status',\n",
              "       'Number of Children', 'Home Ownership', 'Credit Score'],\n",
              "      dtype='object')"
            ]
          },
          "metadata": {},
          "execution_count": 975
        }
      ],
      "source": [
        "#To print only the columns\n",
        "df.columns"
      ]
    },
    {
      "cell_type": "code",
      "execution_count": null,
      "metadata": {
        "colab": {
          "base_uri": "https://localhost:8080/"
        },
        "id": "PjhIaSc91SGm",
        "outputId": "058809a2-6514-49c0-9017-5b3484d603a5"
      },
      "outputs": [
        {
          "output_type": "stream",
          "name": "stdout",
          "text": [
            "<class 'pandas.core.frame.DataFrame'>\n",
            "RangeIndex: 164 entries, 0 to 163\n",
            "Data columns (total 8 columns):\n",
            " #   Column              Non-Null Count  Dtype  \n",
            "---  ------              --------------  -----  \n",
            " 0   Age                 164 non-null    int64  \n",
            " 1   Gender              158 non-null    object \n",
            " 2   Income              155 non-null    float64\n",
            " 3   Education           164 non-null    object \n",
            " 4   Marital Status      164 non-null    object \n",
            " 5   Number of Children  164 non-null    int64  \n",
            " 6   Home Ownership      164 non-null    object \n",
            " 7   Credit Score        164 non-null    object \n",
            "dtypes: float64(1), int64(2), object(5)\n",
            "memory usage: 10.4+ KB\n"
          ]
        }
      ],
      "source": [
        "# To view all the columns data type,memory usage and those null values use info method\n",
        "df.info()"
      ]
    },
    {
      "cell_type": "code",
      "execution_count": null,
      "metadata": {
        "colab": {
          "base_uri": "https://localhost:8080/"
        },
        "id": "ABFYCvjd2bP0",
        "outputId": "9a5b1e2b-95c6-4ac6-e40a-f81e9de826be"
      },
      "outputs": [
        {
          "output_type": "execute_result",
          "data": {
            "text/plain": [
              "(164, 8)"
            ]
          },
          "metadata": {},
          "execution_count": 977
        }
      ],
      "source": [
        "# Now to see the total number number of rows and columns use shape method\n",
        "df.shape"
      ]
    },
    {
      "cell_type": "code",
      "execution_count": null,
      "metadata": {
        "colab": {
          "base_uri": "https://localhost:8080/"
        },
        "id": "XhpdPZFOhZYT",
        "outputId": "810713a7-ab5c-4a97-cf38-a21624ebb589"
      },
      "outputs": [
        {
          "output_type": "execute_result",
          "data": {
            "text/plain": [
              "Age                     int64\n",
              "Gender                 object\n",
              "Income                float64\n",
              "Education              object\n",
              "Marital Status         object\n",
              "Number of Children      int64\n",
              "Home Ownership         object\n",
              "Credit Score           object\n",
              "dtype: object"
            ]
          },
          "metadata": {},
          "execution_count": 978
        }
      ],
      "source": [
        "# To display data type of each column in the DataFrame using dtypes\n",
        "df.dtypes"
      ]
    },
    {
      "cell_type": "code",
      "execution_count": null,
      "metadata": {
        "colab": {
          "base_uri": "https://localhost:8080/"
        },
        "id": "kOPdsegnxt2O",
        "outputId": "2e08e041-7313-428b-9b6b-8314f4fca1be"
      },
      "outputs": [
        {
          "output_type": "execute_result",
          "data": {
            "text/plain": [
              "<bound method NDFrame.describe of      Age  Gender    Income            Education Marital Status  \\\n",
              "0     25  Female   50000.0    Bachelor's Degree         Single   \n",
              "1     30    Male  100000.0      Master's Degree        Married   \n",
              "2     35  Female   75000.0            Doctorate        Married   \n",
              "3     40    Male  125000.0  High School Diploma         Single   \n",
              "4     45  Female  100000.0    Bachelor's Degree        Married   \n",
              "..   ...     ...       ...                  ...            ...   \n",
              "159   29  Female   27500.0  High School Diploma         Single   \n",
              "160   34    Male   47500.0   Associate's Degree         Single   \n",
              "161   39  Female   62500.0    Bachelor's Degree        Married   \n",
              "162   44    Male   87500.0      Master's Degree         Single   \n",
              "163   49  Female   77500.0            Doctorate        Married   \n",
              "\n",
              "     Number of Children Home Ownership Credit Score  \n",
              "0                     0         Rented         High  \n",
              "1                     2          Owned         High  \n",
              "2                     1          Owned         High  \n",
              "3                     0          Owned         High  \n",
              "4                     3          Owned         High  \n",
              "..                  ...            ...          ...  \n",
              "159                   0         Rented          Low  \n",
              "160                   0         Rented      Average  \n",
              "161                   2          Owned         High  \n",
              "162                   0          Owned         High  \n",
              "163                   1          Owned         High  \n",
              "\n",
              "[164 rows x 8 columns]>"
            ]
          },
          "metadata": {},
          "execution_count": 979
        }
      ],
      "source": [
        "#We have successfully imported the dataset and now we can view by using describe method\n",
        "df.describe"
      ]
    },
    {
      "cell_type": "markdown",
      "metadata": {
        "id": "Zv6YeD79Hc2u"
      },
      "source": [
        "We see a high positive correlation between Age and Marital Status as well as Education"
      ]
    },
    {
      "cell_type": "markdown",
      "metadata": {
        "id": "JbhxGBAG4J7v"
      },
      "source": [
        "**b)DATA CLEANING**"
      ]
    },
    {
      "cell_type": "code",
      "execution_count": null,
      "metadata": {
        "colab": {
          "base_uri": "https://localhost:8080/"
        },
        "id": "Il2KTwruXWJg",
        "outputId": "f1febe45-b718-4fad-f231-949e48f34483"
      },
      "outputs": [
        {
          "output_type": "execute_result",
          "data": {
            "text/plain": [
              "Age                   0\n",
              "Gender                6\n",
              "Income                9\n",
              "Education             0\n",
              "Marital Status        0\n",
              "Number of Children    0\n",
              "Home Ownership        0\n",
              "Credit Score          0\n",
              "dtype: int64"
            ]
          },
          "metadata": {},
          "execution_count": 980
        }
      ],
      "source": [
        "# Count the nuber of missing value\n",
        "df.isna().sum()"
      ]
    },
    {
      "cell_type": "markdown",
      "source": [
        "found null values at columns 'Gender' and 'Income'.Filling with their respective mode and mean values."
      ],
      "metadata": {
        "id": "Ng3B3gFrpor2"
      }
    },
    {
      "cell_type": "code",
      "execution_count": null,
      "metadata": {
        "id": "M5ybf4CKXWM0"
      },
      "outputs": [],
      "source": [
        "df[\"Gender\"].fillna(df[\"Gender\"].mode()[0],inplace=True)"
      ]
    },
    {
      "cell_type": "code",
      "execution_count": null,
      "metadata": {
        "id": "z1bnS495XWPA"
      },
      "outputs": [],
      "source": [
        "df[\"Income\"].fillna(df[\"Income\"].mean(),inplace=True)"
      ]
    },
    {
      "cell_type": "code",
      "execution_count": null,
      "metadata": {
        "colab": {
          "base_uri": "https://localhost:8080/"
        },
        "id": "o7pDp5ooXWSi",
        "outputId": "59fe182d-7c05-47af-ff10-2db9b5c1ca8c"
      },
      "outputs": [
        {
          "output_type": "execute_result",
          "data": {
            "text/plain": [
              "Age                   0\n",
              "Gender                0\n",
              "Income                0\n",
              "Education             0\n",
              "Marital Status        0\n",
              "Number of Children    0\n",
              "Home Ownership        0\n",
              "Credit Score          0\n",
              "dtype: int64"
            ]
          },
          "metadata": {},
          "execution_count": 983
        }
      ],
      "source": [
        "df.isna().sum()\n"
      ]
    },
    {
      "cell_type": "markdown",
      "source": [
        "Now the dataset is free from null vales"
      ],
      "metadata": {
        "id": "G4Kzg_I1qUnK"
      }
    },
    {
      "cell_type": "code",
      "execution_count": null,
      "metadata": {
        "colab": {
          "base_uri": "https://localhost:8080/"
        },
        "id": "cXgo-Zi_Zaxx",
        "outputId": "85a141e6-44a3-462f-f757-c97fe1a0ec39"
      },
      "outputs": [
        {
          "output_type": "execute_result",
          "data": {
            "text/plain": [
              "55"
            ]
          },
          "metadata": {},
          "execution_count": 984
        }
      ],
      "source": [
        "#count the number of duplicate rows\n",
        "df.duplicated().sum()"
      ]
    },
    {
      "cell_type": "code",
      "execution_count": null,
      "metadata": {
        "id": "44YVpzIuauBP"
      },
      "outputs": [],
      "source": [
        "#Remove duplicate rows\n",
        "df=df.drop_duplicates()\n"
      ]
    },
    {
      "cell_type": "markdown",
      "source": [
        "Marital status, gender, and the number of children do not directly impact credit scores, so they can be dropped"
      ],
      "metadata": {
        "id": "d2nPe7TU9Ms3"
      }
    },
    {
      "cell_type": "code",
      "source": [
        "df=df.drop(['Marital Status','Gender','Number of Children'],axis=1)"
      ],
      "metadata": {
        "id": "UxUzr_jBqOeD"
      },
      "execution_count": null,
      "outputs": []
    },
    {
      "cell_type": "markdown",
      "metadata": {
        "id": "iMC8arMuYzQm"
      },
      "source": [
        "**REPLACING**"
      ]
    },
    {
      "cell_type": "markdown",
      "source": [
        "* Here we have to give  priority to specific categories within columns like Education,Home ownership and Credit score.So replacing the values would be more appropriate rather than encoding.\n"
      ],
      "metadata": {
        "id": "spmAyrjNgzHT"
      }
    },
    {
      "cell_type": "markdown",
      "source": [
        "*Education*\n",
        "* Education itself is not a direct factor in credit scoring models.\n",
        "* But having a good education can indirectly affect one's creditworthiness.\n",
        "* Higher education may provide opportunities for higher income, better financial management skills, and increased job stability, which can indirectly contribute to responsible financial behavior and positively impact one's credit score.\n",
        "* So replacing higher education level with higher values\n"
      ],
      "metadata": {
        "id": "twBjdZtSwGGg"
      }
    },
    {
      "cell_type": "code",
      "source": [
        "df['Education'].unique()"
      ],
      "metadata": {
        "colab": {
          "base_uri": "https://localhost:8080/"
        },
        "id": "zUWI_-G0z58R",
        "outputId": "d02e0500-8edd-4361-f87c-a4ec396d2c62"
      },
      "execution_count": null,
      "outputs": [
        {
          "output_type": "execute_result",
          "data": {
            "text/plain": [
              "array([\"Bachelor's Degree\", \"Master's Degree\", 'Doctorate',\n",
              "       'High School Diploma', \"Associate's Degree\"], dtype=object)"
            ]
          },
          "metadata": {},
          "execution_count": 987
        }
      ]
    },
    {
      "cell_type": "code",
      "execution_count": null,
      "metadata": {
        "id": "gfjsTbdeqCd9"
      },
      "outputs": [],
      "source": [
        "df[\"Education\"] = df[\"Education\"].replace([\"High School Diploma\",\"Associate's Degree\",\"Bachelor's Degree\",\"Master's Degree\",\"Doctorate\"],[0,1,2,3,4])"
      ]
    },
    {
      "cell_type": "markdown",
      "source": [
        "*Home Ownership*\n",
        "*  Home ownership can be an indicator of financial stability. Lenders may view home ownership as a positive factor when assessing one's creditworthiness for some types of credit, such as car loans or personal loans.\n",
        "* So replacing 'rented' with 0 and 'owned' with 1"
      ],
      "metadata": {
        "id": "SA_QrTYCsz62"
      }
    },
    {
      "cell_type": "code",
      "execution_count": null,
      "metadata": {
        "id": "zPz6WCbAv6ZV"
      },
      "outputs": [],
      "source": [
        "df[\"Home Ownership\"]=df[\"Home Ownership\"].replace([\"Rented\",\"Owned\"],[0,1])"
      ]
    },
    {
      "cell_type": "markdown",
      "source": [
        "*Credit Score*\n",
        "* A credit score is a numerical representation of an individual's creditworthiness and is used by lenders to assess the risk associated with lending money to that person. It helps lenders determine the likelihood of a borrower repaying their debts on time.\n",
        "* Replacing credit scores High,Average and Lower with 2,1 and 0 respectively."
      ],
      "metadata": {
        "id": "bBcWjDDg9ZZW"
      }
    },
    {
      "cell_type": "code",
      "execution_count": null,
      "metadata": {
        "id": "HxvmVWqmtAhK"
      },
      "outputs": [],
      "source": [
        "df[\"Credit Score\"]=df[\"Credit Score\"].replace([\"High\",\"Average\",\"Low\"],[2,1,0])"
      ]
    },
    {
      "cell_type": "code",
      "source": [
        "df.head()"
      ],
      "metadata": {
        "colab": {
          "base_uri": "https://localhost:8080/",
          "height": 206
        },
        "id": "NLHreNfUpj3_",
        "outputId": "8f6d8376-716c-4e17-d2ea-98d2a7af8e36"
      },
      "execution_count": null,
      "outputs": [
        {
          "output_type": "execute_result",
          "data": {
            "text/plain": [
              "   Age    Income  Education  Home Ownership  Credit Score\n",
              "0   25   50000.0          2               0             2\n",
              "1   30  100000.0          3               1             2\n",
              "2   35   75000.0          4               1             2\n",
              "3   40  125000.0          0               1             2\n",
              "4   45  100000.0          2               1             2"
            ],
            "text/html": [
              "\n",
              "  <div id=\"df-e5c24a2e-b5e0-4970-9daa-cde5b13a4682\">\n",
              "    <div class=\"colab-df-container\">\n",
              "      <div>\n",
              "<style scoped>\n",
              "    .dataframe tbody tr th:only-of-type {\n",
              "        vertical-align: middle;\n",
              "    }\n",
              "\n",
              "    .dataframe tbody tr th {\n",
              "        vertical-align: top;\n",
              "    }\n",
              "\n",
              "    .dataframe thead th {\n",
              "        text-align: right;\n",
              "    }\n",
              "</style>\n",
              "<table border=\"1\" class=\"dataframe\">\n",
              "  <thead>\n",
              "    <tr style=\"text-align: right;\">\n",
              "      <th></th>\n",
              "      <th>Age</th>\n",
              "      <th>Income</th>\n",
              "      <th>Education</th>\n",
              "      <th>Home Ownership</th>\n",
              "      <th>Credit Score</th>\n",
              "    </tr>\n",
              "  </thead>\n",
              "  <tbody>\n",
              "    <tr>\n",
              "      <th>0</th>\n",
              "      <td>25</td>\n",
              "      <td>50000.0</td>\n",
              "      <td>2</td>\n",
              "      <td>0</td>\n",
              "      <td>2</td>\n",
              "    </tr>\n",
              "    <tr>\n",
              "      <th>1</th>\n",
              "      <td>30</td>\n",
              "      <td>100000.0</td>\n",
              "      <td>3</td>\n",
              "      <td>1</td>\n",
              "      <td>2</td>\n",
              "    </tr>\n",
              "    <tr>\n",
              "      <th>2</th>\n",
              "      <td>35</td>\n",
              "      <td>75000.0</td>\n",
              "      <td>4</td>\n",
              "      <td>1</td>\n",
              "      <td>2</td>\n",
              "    </tr>\n",
              "    <tr>\n",
              "      <th>3</th>\n",
              "      <td>40</td>\n",
              "      <td>125000.0</td>\n",
              "      <td>0</td>\n",
              "      <td>1</td>\n",
              "      <td>2</td>\n",
              "    </tr>\n",
              "    <tr>\n",
              "      <th>4</th>\n",
              "      <td>45</td>\n",
              "      <td>100000.0</td>\n",
              "      <td>2</td>\n",
              "      <td>1</td>\n",
              "      <td>2</td>\n",
              "    </tr>\n",
              "  </tbody>\n",
              "</table>\n",
              "</div>\n",
              "      <button class=\"colab-df-convert\" onclick=\"convertToInteractive('df-e5c24a2e-b5e0-4970-9daa-cde5b13a4682')\"\n",
              "              title=\"Convert this dataframe to an interactive table.\"\n",
              "              style=\"display:none;\">\n",
              "        \n",
              "  <svg xmlns=\"http://www.w3.org/2000/svg\" height=\"24px\"viewBox=\"0 0 24 24\"\n",
              "       width=\"24px\">\n",
              "    <path d=\"M0 0h24v24H0V0z\" fill=\"none\"/>\n",
              "    <path d=\"M18.56 5.44l.94 2.06.94-2.06 2.06-.94-2.06-.94-.94-2.06-.94 2.06-2.06.94zm-11 1L8.5 8.5l.94-2.06 2.06-.94-2.06-.94L8.5 2.5l-.94 2.06-2.06.94zm10 10l.94 2.06.94-2.06 2.06-.94-2.06-.94-.94-2.06-.94 2.06-2.06.94z\"/><path d=\"M17.41 7.96l-1.37-1.37c-.4-.4-.92-.59-1.43-.59-.52 0-1.04.2-1.43.59L10.3 9.45l-7.72 7.72c-.78.78-.78 2.05 0 2.83L4 21.41c.39.39.9.59 1.41.59.51 0 1.02-.2 1.41-.59l7.78-7.78 2.81-2.81c.8-.78.8-2.07 0-2.86zM5.41 20L4 18.59l7.72-7.72 1.47 1.35L5.41 20z\"/>\n",
              "  </svg>\n",
              "      </button>\n",
              "      \n",
              "  <style>\n",
              "    .colab-df-container {\n",
              "      display:flex;\n",
              "      flex-wrap:wrap;\n",
              "      gap: 12px;\n",
              "    }\n",
              "\n",
              "    .colab-df-convert {\n",
              "      background-color: #E8F0FE;\n",
              "      border: none;\n",
              "      border-radius: 50%;\n",
              "      cursor: pointer;\n",
              "      display: none;\n",
              "      fill: #1967D2;\n",
              "      height: 32px;\n",
              "      padding: 0 0 0 0;\n",
              "      width: 32px;\n",
              "    }\n",
              "\n",
              "    .colab-df-convert:hover {\n",
              "      background-color: #E2EBFA;\n",
              "      box-shadow: 0px 1px 2px rgba(60, 64, 67, 0.3), 0px 1px 3px 1px rgba(60, 64, 67, 0.15);\n",
              "      fill: #174EA6;\n",
              "    }\n",
              "\n",
              "    [theme=dark] .colab-df-convert {\n",
              "      background-color: #3B4455;\n",
              "      fill: #D2E3FC;\n",
              "    }\n",
              "\n",
              "    [theme=dark] .colab-df-convert:hover {\n",
              "      background-color: #434B5C;\n",
              "      box-shadow: 0px 1px 3px 1px rgba(0, 0, 0, 0.15);\n",
              "      filter: drop-shadow(0px 1px 2px rgba(0, 0, 0, 0.3));\n",
              "      fill: #FFFFFF;\n",
              "    }\n",
              "  </style>\n",
              "\n",
              "      <script>\n",
              "        const buttonEl =\n",
              "          document.querySelector('#df-e5c24a2e-b5e0-4970-9daa-cde5b13a4682 button.colab-df-convert');\n",
              "        buttonEl.style.display =\n",
              "          google.colab.kernel.accessAllowed ? 'block' : 'none';\n",
              "\n",
              "        async function convertToInteractive(key) {\n",
              "          const element = document.querySelector('#df-e5c24a2e-b5e0-4970-9daa-cde5b13a4682');\n",
              "          const dataTable =\n",
              "            await google.colab.kernel.invokeFunction('convertToInteractive',\n",
              "                                                     [key], {});\n",
              "          if (!dataTable) return;\n",
              "\n",
              "          const docLinkHtml = 'Like what you see? Visit the ' +\n",
              "            '<a target=\"_blank\" href=https://colab.research.google.com/notebooks/data_table.ipynb>data table notebook</a>'\n",
              "            + ' to learn more about interactive tables.';\n",
              "          element.innerHTML = '';\n",
              "          dataTable['output_type'] = 'display_data';\n",
              "          await google.colab.output.renderOutput(dataTable, element);\n",
              "          const docLink = document.createElement('div');\n",
              "          docLink.innerHTML = docLinkHtml;\n",
              "          element.appendChild(docLink);\n",
              "        }\n",
              "      </script>\n",
              "    </div>\n",
              "  </div>\n",
              "  "
            ]
          },
          "metadata": {},
          "execution_count": 991
        }
      ]
    },
    {
      "cell_type": "markdown",
      "source": [
        "**DATA VISUALIZATION**"
      ],
      "metadata": {
        "id": "DvCFR-7J6lO2"
      }
    },
    {
      "cell_type": "markdown",
      "source": [
        "**1)Countplot:**\n",
        "A countplot is a type of visualization in which the frequency of each unique value in a categorical variable is displayed as bars. It is a useful tool to understand the distribution and count of different categories within a dataset."
      ],
      "metadata": {
        "id": "pFGvxio96ssn"
      }
    },
    {
      "cell_type": "code",
      "execution_count": null,
      "metadata": {
        "colab": {
          "base_uri": "https://localhost:8080/",
          "height": 466
        },
        "id": "uDQmSnWCgLK_",
        "outputId": "3a3880e2-0ea9-4121-8a25-88f53a771d2d"
      },
      "outputs": [
        {
          "output_type": "execute_result",
          "data": {
            "text/plain": [
              "<Axes: xlabel='Credit Score', ylabel='count'>"
            ]
          },
          "metadata": {},
          "execution_count": 992
        },
        {
          "output_type": "display_data",
          "data": {
            "text/plain": [
              "<Figure size 640x480 with 1 Axes>"
            ],
            "image/png": "[encoded data removed]"
          },
          "metadata": {}
        }
      ],
      "source": [
        "sns.countplot(x=\"Credit Score\",hue='Credit Score',data=df)"
      ]
    },
    {
      "cell_type": "markdown",
      "metadata": {
        "id": "rDa_sIYUm27-"
      },
      "source": [
        "***Insights*** :- We observe that number of people who have highest credit score is far more than people who do not"
      ]
    },
    {
      "cell_type": "markdown",
      "source": [
        "**2)Histplot**"
      ],
      "metadata": {
        "id": "YQGCgzyNWveE"
      }
    },
    {
      "cell_type": "markdown",
      "source": [
        "* Here, creating a histplot of the column 'Income' from the data frame df. The x parameter is set to 'Income', indicating the column to be plotted.\n",
        "* By setting kde=True, a kernel density estimate line will be overlaid on top of the histogram bars, providing a smoothed representation of the data's distribution."
      ],
      "metadata": {
        "id": "FckkdDP-W3KE"
      }
    },
    {
      "cell_type": "code",
      "source": [
        "sns.histplot(data=df, x='Income', hue='Credit Score',kde=True)"
      ],
      "metadata": {
        "colab": {
          "base_uri": "https://localhost:8080/",
          "height": 466
        },
        "id": "DIIJ68cdUNha",
        "outputId": "6d125919-f8c6-43f2-a2ca-b301b613b797"
      },
      "execution_count": null,
      "outputs": [
        {
          "output_type": "execute_result",
          "data": {
            "text/plain": [
              "<Axes: xlabel='Income', ylabel='Count'>"
            ]
          },
          "metadata": {},
          "execution_count": 993
        },
        {
          "output_type": "display_data",
          "data": {
            "text/plain": [
              "<Figure size 640x480 with 1 Axes>"
            ],
            "image/png": "[encoded data removed]"
          },
          "metadata": {}
        }
      ]
    },
    {
      "cell_type": "markdown",
      "source": [
        "**3)Heatmap:**\n",
        "It is a graphical representation of data which is used for visualizing correlation between numerical variables. For this correlation matrix is passed as data along with annot=True to add numerical correlation values and cmap='coolwarm' sets the color scheme"
      ],
      "metadata": {
        "id": "mOYEYIYW3GHM"
      }
    },
    {
      "cell_type": "code",
      "execution_count": null,
      "metadata": {
        "colab": {
          "base_uri": "https://localhost:8080/",
          "height": 1000
        },
        "id": "pF_ad2aZodW0",
        "outputId": "a3095511-95e5-4e53-d79e-580f37a07769"
      },
      "outputs": [
        {
          "output_type": "execute_result",
          "data": {
            "text/plain": [
              "Text(0.5, 1.0, 'Heatmap')"
            ]
          },
          "metadata": {},
          "execution_count": 994
        },
        {
          "output_type": "display_data",
          "data": {
            "text/plain": [
              "<Figure size 1400x1400 with 2 Axes>"
            ],
            "image/png": "[encoded data removed]"
          },
          "metadata": {}
        }
      ],
      "source": [
        "fig, ax = plt.subplots(figsize=(14,14))\n",
        "sns.heatmap(df.corr(),cmap='coolwarm',square=True,annot=True,annot_kws={'size': 'x-small', 'alpha': 1},linewidths=0.5)\n",
        "plt.title('Heatmap')"
      ]
    },
    {
      "cell_type": "markdown",
      "source": [
        "The color intensity or shade represents the strength and direction of the correlation, where\n",
        "lighter colors indicate higher correlation values. This allows for a quick and easy\n",
        "understanding of the relationships between the numerical variables in the iris dataset."
      ],
      "metadata": {
        "id": "ggrghRMv26ei"
      }
    },
    {
      "cell_type": "markdown",
      "metadata": {
        "id": "8GoQe5vrhcxU"
      },
      "source": [
        "***Insights***:-from the heatmap its clear that Income,Education&Home ownership and Age,these 4\n",
        "attributes are correlated with each other and with creditscore.\n",
        "\n",
        "\n"
      ]
    },
    {
      "cell_type": "markdown",
      "source": [
        "**MODEL TRAINING**\n",
        "* Seperating input features and target variables\n"
      ],
      "metadata": {
        "id": "ZURn8ZKAHOMi"
      }
    },
    {
      "cell_type": "code",
      "execution_count": null,
      "metadata": {
        "colab": {
          "base_uri": "https://localhost:8080/"
        },
        "id": "eX3ycxxLd_le",
        "outputId": "666457c5-83ae-467b-99d7-f788937d0599"
      },
      "outputs": [
        {
          "output_type": "execute_result",
          "data": {
            "text/plain": [
              "array([[2.50000000e+01, 5.00000000e+04, 2.00000000e+00, 0.00000000e+00],\n",
              "       [3.00000000e+01, 1.00000000e+05, 3.00000000e+00, 1.00000000e+00],\n",
              "       [3.50000000e+01, 7.50000000e+04, 4.00000000e+00, 1.00000000e+00],\n",
              "       [4.00000000e+01, 1.25000000e+05, 0.00000000e+00, 1.00000000e+00],\n",
              "       [4.50000000e+01, 1.00000000e+05, 2.00000000e+00, 1.00000000e+00],\n",
              "       [5.00000000e+01, 1.50000000e+05, 3.00000000e+00, 1.00000000e+00],\n",
              "       [2.60000000e+01, 4.00000000e+04, 1.00000000e+00, 0.00000000e+00],\n",
              "       [3.10000000e+01, 6.00000000e+04, 2.00000000e+00, 0.00000000e+00],\n",
              "       [3.60000000e+01, 8.00000000e+04, 3.00000000e+00, 1.00000000e+00],\n",
              "       [4.10000000e+01, 1.05000000e+05, 4.00000000e+00, 1.00000000e+00],\n",
              "       [4.60000000e+01, 9.00000000e+04, 0.00000000e+00, 1.00000000e+00],\n",
              "       [5.10000000e+01, 1.35000000e+05, 2.00000000e+00, 1.00000000e+00],\n",
              "       [2.70000000e+01, 3.50000000e+04, 0.00000000e+00, 0.00000000e+00],\n",
              "       [3.20000000e+01, 5.50000000e+04, 1.00000000e+00, 0.00000000e+00],\n",
              "       [3.70000000e+01, 7.00000000e+04, 2.00000000e+00, 1.00000000e+00],\n",
              "       [4.20000000e+01, 9.50000000e+04, 3.00000000e+00, 1.00000000e+00],\n",
              "       [4.70000000e+01, 8.50000000e+04, 4.00000000e+00, 1.00000000e+00],\n",
              "       [5.20000000e+01, 1.25000000e+05, 0.00000000e+00, 1.00000000e+00],\n",
              "       [2.80000000e+01, 3.00000000e+04, 1.00000000e+00, 0.00000000e+00],\n",
              "       [3.30000000e+01, 5.00000000e+04, 0.00000000e+00, 0.00000000e+00],\n",
              "       [3.80000000e+01, 6.50000000e+04, 2.00000000e+00, 1.00000000e+00],\n",
              "       [4.30000000e+01, 8.00000000e+04, 3.00000000e+00, 1.00000000e+00],\n",
              "       [4.80000000e+01, 7.00000000e+04, 4.00000000e+00, 1.00000000e+00],\n",
              "       [5.30000000e+01, 1.15000000e+05, 1.00000000e+00, 1.00000000e+00],\n",
              "       [2.90000000e+01, 2.50000000e+04, 0.00000000e+00, 0.00000000e+00],\n",
              "       [3.40000000e+01, 4.50000000e+04, 1.00000000e+00, 0.00000000e+00],\n",
              "       [3.90000000e+01, 6.00000000e+04, 2.00000000e+00, 1.00000000e+00],\n",
              "       [4.40000000e+01, 7.50000000e+04, 3.00000000e+00, 1.00000000e+00],\n",
              "       [4.90000000e+01, 6.50000000e+04, 4.00000000e+00, 1.00000000e+00],\n",
              "       [2.50000000e+01, 5.50000000e+04, 2.00000000e+00, 0.00000000e+00],\n",
              "       [3.00000000e+01, 1.05000000e+05, 3.00000000e+00, 1.00000000e+00],\n",
              "       [3.50000000e+01, 8.00000000e+04, 4.00000000e+00, 1.00000000e+00],\n",
              "       [4.00000000e+01, 1.30000000e+05, 0.00000000e+00, 1.00000000e+00],\n",
              "       [4.50000000e+01, 1.05000000e+05, 2.00000000e+00, 1.00000000e+00],\n",
              "       [5.00000000e+01, 1.55000000e+05, 3.00000000e+00, 1.00000000e+00],\n",
              "       [2.60000000e+01, 4.50000000e+04, 1.00000000e+00, 0.00000000e+00],\n",
              "       [3.10000000e+01, 6.50000000e+04, 2.00000000e+00, 0.00000000e+00],\n",
              "       [3.60000000e+01, 8.50000000e+04, 3.00000000e+00, 1.00000000e+00],\n",
              "       [4.10000000e+01, 1.10000000e+05, 4.00000000e+00, 1.00000000e+00],\n",
              "       [4.60000000e+01, 9.50000000e+04, 0.00000000e+00, 1.00000000e+00],\n",
              "       [5.10000000e+01, 1.40000000e+05, 2.00000000e+00, 1.00000000e+00],\n",
              "       [2.70000000e+01, 3.75000000e+04, 0.00000000e+00, 0.00000000e+00],\n",
              "       [3.20000000e+01, 5.75000000e+04, 1.00000000e+00, 0.00000000e+00],\n",
              "       [3.70000000e+01, 7.25000000e+04, 2.00000000e+00, 1.00000000e+00],\n",
              "       [4.20000000e+01, 1.00000000e+05, 3.00000000e+00, 1.00000000e+00],\n",
              "       [4.70000000e+01, 9.00000000e+04, 4.00000000e+00, 1.00000000e+00],\n",
              "       [5.20000000e+01, 1.30000000e+05, 0.00000000e+00, 1.00000000e+00],\n",
              "       [2.80000000e+01, 3.25000000e+04, 1.00000000e+00, 0.00000000e+00],\n",
              "       [3.30000000e+01, 5.25000000e+04, 0.00000000e+00, 0.00000000e+00],\n",
              "       [3.80000000e+01, 6.75000000e+04, 2.00000000e+00, 1.00000000e+00],\n",
              "       [4.30000000e+01, 9.25000000e+04, 3.00000000e+00, 1.00000000e+00],\n",
              "       [4.80000000e+01, 8.25000000e+04, 4.00000000e+00, 1.00000000e+00],\n",
              "       [5.30000000e+01, 1.22500000e+05, 1.00000000e+00, 1.00000000e+00],\n",
              "       [2.90000000e+01, 2.75000000e+04, 0.00000000e+00, 0.00000000e+00],\n",
              "       [3.40000000e+01, 4.75000000e+04, 1.00000000e+00, 0.00000000e+00],\n",
              "       [3.90000000e+01, 6.25000000e+04, 2.00000000e+00, 1.00000000e+00],\n",
              "       [4.40000000e+01, 8.75000000e+04, 3.00000000e+00, 1.00000000e+00],\n",
              "       [4.90000000e+01, 7.75000000e+04, 4.00000000e+00, 1.00000000e+00],\n",
              "       [2.50000000e+01, 5.75000000e+04, 2.00000000e+00, 0.00000000e+00],\n",
              "       [3.00000000e+01, 1.12500000e+05, 3.00000000e+00, 1.00000000e+00],\n",
              "       [3.50000000e+01, 8.50000000e+04, 4.00000000e+00, 1.00000000e+00],\n",
              "       [2.50000000e+01, 6.00000000e+04, 2.00000000e+00, 0.00000000e+00],\n",
              "       [3.00000000e+01, 1.17500000e+05, 3.00000000e+00, 1.00000000e+00],\n",
              "       [3.50000000e+01, 9.00000000e+04, 4.00000000e+00, 1.00000000e+00],\n",
              "       [4.00000000e+01, 1.42500000e+05, 0.00000000e+00, 1.00000000e+00],\n",
              "       [4.50000000e+01, 1.10000000e+05, 2.00000000e+00, 1.00000000e+00],\n",
              "       [5.00000000e+01, 1.60000000e+05, 3.00000000e+00, 1.00000000e+00],\n",
              "       [2.60000000e+01, 4.75000000e+04, 1.00000000e+00, 0.00000000e+00],\n",
              "       [3.10000000e+01, 6.75000000e+04, 2.00000000e+00, 0.00000000e+00],\n",
              "       [3.60000000e+01, 9.00000000e+04, 3.00000000e+00, 1.00000000e+00],\n",
              "       [4.10000000e+01, 1.15000000e+05, 4.00000000e+00, 1.00000000e+00],\n",
              "       [4.60000000e+01, 9.75000000e+04, 0.00000000e+00, 1.00000000e+00],\n",
              "       [5.10000000e+01, 1.45000000e+05, 2.00000000e+00, 1.00000000e+00],\n",
              "       [3.70000000e+01, 7.50000000e+04, 2.00000000e+00, 1.00000000e+00],\n",
              "       [4.20000000e+01, 1.05000000e+05, 3.00000000e+00, 1.00000000e+00],\n",
              "       [4.70000000e+01, 9.50000000e+04, 4.00000000e+00, 1.00000000e+00],\n",
              "       [5.20000000e+01, 1.35000000e+05, 0.00000000e+00, 1.00000000e+00],\n",
              "       [4.80000000e+01, 8.50000000e+04, 4.00000000e+00, 1.00000000e+00],\n",
              "       [5.30000000e+01, 1.25000000e+05, 1.00000000e+00, 1.00000000e+00],\n",
              "       [2.50000000e+01, 6.25000000e+04, 2.00000000e+00, 0.00000000e+00],\n",
              "       [4.50000000e+01, 1.15000000e+05, 2.00000000e+00, 1.00000000e+00],\n",
              "       [5.00000000e+01, 1.62500000e+05, 3.00000000e+00, 1.00000000e+00],\n",
              "       [2.60000000e+01, 5.00000000e+04, 1.00000000e+00, 0.00000000e+00],\n",
              "       [3.10000000e+01, 7.00000000e+04, 2.00000000e+00, 0.00000000e+00],\n",
              "       [3.60000000e+01, 9.50000000e+04, 3.00000000e+00, 1.00000000e+00],\n",
              "       [4.10000000e+01, 1.20000000e+05, 4.00000000e+00, 1.00000000e+00],\n",
              "       [4.60000000e+01, 1.02500000e+05, 0.00000000e+00, 1.00000000e+00],\n",
              "       [5.10000000e+01, 1.50000000e+05, 2.00000000e+00, 1.00000000e+00],\n",
              "       [3.70000000e+01, 7.75000000e+04, 2.00000000e+00, 1.00000000e+00],\n",
              "       [4.20000000e+01, 1.10000000e+05, 3.00000000e+00, 1.00000000e+00],\n",
              "       [4.70000000e+01, 8.39516129e+04, 4.00000000e+00, 1.00000000e+00],\n",
              "       [5.20000000e+01, 8.39516129e+04, 0.00000000e+00, 1.00000000e+00],\n",
              "       [2.80000000e+01, 8.39516129e+04, 1.00000000e+00, 0.00000000e+00],\n",
              "       [3.30000000e+01, 8.39516129e+04, 0.00000000e+00, 0.00000000e+00],\n",
              "       [3.80000000e+01, 8.39516129e+04, 2.00000000e+00, 1.00000000e+00],\n",
              "       [4.30000000e+01, 8.39516129e+04, 3.00000000e+00, 1.00000000e+00],\n",
              "       [4.80000000e+01, 8.39516129e+04, 4.00000000e+00, 1.00000000e+00],\n",
              "       [5.30000000e+01, 8.39516129e+04, 1.00000000e+00, 1.00000000e+00],\n",
              "       [2.90000000e+01, 8.39516129e+04, 0.00000000e+00, 0.00000000e+00],\n",
              "       [2.80000000e+01, 7.50000000e+04, 2.00000000e+00, 0.00000000e+00],\n",
              "       [3.30000000e+01, 8.20000000e+04, 3.00000000e+00, 1.00000000e+00],\n",
              "       [3.10000000e+01, 9.50000000e+04, 4.00000000e+00, 0.00000000e+00],\n",
              "       [2.60000000e+01, 5.50000000e+04, 2.00000000e+00, 1.00000000e+00],\n",
              "       [3.20000000e+01, 8.50000000e+04, 3.00000000e+00, 0.00000000e+00],\n",
              "       [2.90000000e+01, 6.80000000e+04, 4.00000000e+00, 1.00000000e+00],\n",
              "       [3.40000000e+01, 1.05000000e+05, 2.00000000e+00, 0.00000000e+00],\n",
              "       [4.20000000e+01, 1.00000000e+05, 3.00000000e+00, 1.00000000e+00],\n",
              "       [5.20000000e+01, 1.30000000e+05, 0.00000000e+00, 1.00000000e+00],\n",
              "       [3.30000000e+01, 5.25000000e+04, 0.00000000e+00, 0.00000000e+00]])"
            ]
          },
          "metadata": {},
          "execution_count": 995
        }
      ],
      "source": [
        "x=df.iloc[:,:-1].values\n",
        "x"
      ]
    },
    {
      "cell_type": "code",
      "execution_count": null,
      "metadata": {
        "colab": {
          "base_uri": "https://localhost:8080/"
        },
        "id": "cd55jo0wd_o6",
        "outputId": "5edf9066-5f58-4331-c36a-8829efb3fcd8"
      },
      "outputs": [
        {
          "output_type": "execute_result",
          "data": {
            "text/plain": [
              "array([2, 2, 2, 2, 2, 2, 1, 1, 2, 2, 2, 2, 0, 1, 2, 2, 2, 2, 0, 1, 2, 2,\n",
              "       2, 2, 0, 1, 2, 2, 2, 1, 2, 2, 2, 2, 2, 1, 1, 2, 2, 2, 2, 0, 1, 2,\n",
              "       2, 2, 2, 0, 1, 2, 2, 2, 2, 0, 1, 2, 2, 2, 1, 2, 2, 1, 2, 2, 2, 2,\n",
              "       2, 1, 1, 2, 2, 2, 2, 2, 2, 2, 2, 2, 2, 1, 2, 2, 1, 1, 2, 2, 2, 2,\n",
              "       2, 2, 2, 2, 0, 1, 2, 2, 2, 2, 0, 1, 2, 2, 1, 2, 1, 2, 2, 2, 1])"
            ]
          },
          "metadata": {},
          "execution_count": 996
        }
      ],
      "source": [
        "y=df.iloc[:,-1].values\n",
        "y"
      ]
    },
    {
      "cell_type": "markdown",
      "metadata": {
        "id": "9D-bsU-nyxIa"
      },
      "source": [
        "*Training and testing data :*\n",
        "* splitting the dataset into two categories, one for training the model-training data and other\n",
        "for evaluating the model-testing data.\n",
        "* As a result we get, x_train- input training data x_test - input testing data y_train - output training data y_test - output testing data\n",
        "* The split is done using train_test_split function\n",
        "* Choosing split percentage as : Train:70% , Test:30%\n",
        "* With random_state=42 , we get the same train and test sets across different executions\n",
        "\n"
      ]
    },
    {
      "cell_type": "code",
      "execution_count": null,
      "metadata": {
        "id": "YNnkKzwpd_81"
      },
      "outputs": [],
      "source": [
        "from sklearn.model_selection import train_test_split\n",
        "x_train,x_test,y_train,y_test=train_test_split(x,y,test_size=0.30,random_state=42)\n"
      ]
    },
    {
      "cell_type": "markdown",
      "metadata": {
        "id": "NLUmoA_EzyId"
      },
      "source": [
        "**SCALING/NORMALIZATION**\n",
        "* It is a preprocessing technique in machine learning that aims to standardize or normalize the features of a dataset.It involves transforming the numerical values of the features to a consistent scale.\n",
        "* If not Normalized, the feature with a higher value range starts dominating when calculating distances\n",
        "* Here it is done using StandardScaler class in scikit-learn.\n"
      ]
    },
    {
      "cell_type": "code",
      "execution_count": null,
      "metadata": {
        "id": "gSUNaCz4ehEV"
      },
      "outputs": [],
      "source": [
        "from sklearn.preprocessing import StandardScaler\n",
        "scaler=StandardScaler()\n",
        "scaler.fit(x_train)\n",
        "x_train=scaler.transform(x_train)\n",
        "x_test=scaler.transform(x_test)\n"
      ]
    },
    {
      "cell_type": "markdown",
      "source": [
        "**MODEL CREATION**"
      ],
      "metadata": {
        "id": "PrbXZsw6KBxW"
      }
    },
    {
      "cell_type": "markdown",
      "metadata": {
        "id": "i2HHNhxhz2VJ"
      },
      "source": [
        "To create the model, here we are using 3 classification algorithms:\n",
        "\n"
      ]
    },
    {
      "cell_type": "markdown",
      "source": [
        "**1.K-Nearest Neighbors(KNN)**: It is a classification algorithm that assigns a data point to the majority class among its k nearest neighbors based on a distance metric.\n"
      ],
      "metadata": {
        "id": "tQjF_leOKo4R"
      }
    },
    {
      "cell_type": "markdown",
      "source": [
        "**2.Naive Bayes** : It is a probabilistic machine learning algorithm that assumes independence among features and uses Bayes' theorem to predict the class probability for a given input."
      ],
      "metadata": {
        "id": "18ERw6kxK4Z9"
      }
    },
    {
      "cell_type": "markdown",
      "source": [
        "\n",
        "**3.Support Vector Machine (SVM)**: is a supervised machine learning algorithm that separates data points into different classes by finding an optimal hyperplane with the maximum margin between them."
      ],
      "metadata": {
        "id": "2Qp6qYejK_T_"
      }
    },
    {
      "cell_type": "code",
      "execution_count": null,
      "metadata": {
        "id": "HtCfSJzZfHw4"
      },
      "outputs": [],
      "source": [
        "from sklearn.neighbors import KNeighborsClassifier\n",
        "from sklearn.naive_bayes import GaussianNB\n",
        "from sklearn.svm import SVC\n",
        "knn=KNeighborsClassifier(n_neighbors=7)\n",
        "base=GaussianNB()\n",
        "model=SVC()\n",
        "lst_model=[knn,base,model]"
      ]
    },
    {
      "cell_type": "markdown",
      "source": [
        "**PERFORMANCE EVALUATION**"
      ],
      "metadata": {
        "id": "1DyeamPQMi-V"
      }
    },
    {
      "cell_type": "markdown",
      "source": [
        "After predicting the result using 3 algorithms, now we have to evaluate the models performance in order to find the model that fits best. For this we use various performance evaluation techniques and metrics.These are:\n",
        "\n",
        "1. **Confusion matrix**: shows the number of true positive, true negative, false positive, and false negative predictions. we plots the confusion matrix using ConfusionMatrixDisplay, which gives the plot\n",
        "between actual labels and predicted labels from the model created\n",
        "2. **Accuracy score**: the ratio of correctly classified instances to the total number of instances in the dataset.\n",
        "3. **Classification report**: gives recall,precision and F1 score.\n",
        "  * Recall: the ratio of true positive (TP) predictions to the sum of true positive and false negative (FN) predictions.\n",
        "  * Precision: the proportion of true positive (TP) predictions out of the total predicted positive instances, which includes both true positives and false positives (FP).\n",
        "  * F1 score: a balanced measure of a model's performance, taking into account both the model's ability to correctly identify positive instances (precision) and its ability to find all positive instances (recall)\n",
        "\n",
        "\n",
        "\n",
        "\n",
        "\n"
      ],
      "metadata": {
        "id": "K4Gkg5qLMtWG"
      }
    },
    {
      "cell_type": "code",
      "execution_count": null,
      "metadata": {
        "colab": {
          "base_uri": "https://localhost:8080/",
          "height": 1000
        },
        "id": "h_yFXeQ-fH0Q",
        "outputId": "1a92368b-ab5c-4669-9d61-d9cfdca6db11"
      },
      "outputs": [
        {
          "output_type": "stream",
          "name": "stdout",
          "text": [
            "KNeighborsClassifier(n_neighbors=7)\n",
            "****************************************************************************************************\n",
            "              precision    recall  f1-score   support\n",
            "\n",
            "           0       0.00      0.00      0.00         3\n",
            "           1       0.50      1.00      0.67         4\n",
            "           2       1.00      0.96      0.98        26\n",
            "\n",
            "    accuracy                           0.88        33\n",
            "   macro avg       0.50      0.65      0.55        33\n",
            "weighted avg       0.85      0.88      0.85        33\n",
            "\n",
            "Accuracy score is: 0.8787878787878788\n",
            "GaussianNB()\n",
            "****************************************************************************************************\n",
            "              precision    recall  f1-score   support\n",
            "\n",
            "           0       1.00      1.00      1.00         3\n",
            "           1       0.80      1.00      0.89         4\n",
            "           2       1.00      0.96      0.98        26\n",
            "\n",
            "    accuracy                           0.97        33\n",
            "   macro avg       0.93      0.99      0.96        33\n",
            "weighted avg       0.98      0.97      0.97        33\n",
            "\n",
            "Accuracy score is: 0.9696969696969697\n",
            "SVC()\n",
            "****************************************************************************************************\n",
            "              precision    recall  f1-score   support\n",
            "\n",
            "           0       0.00      0.00      0.00         3\n",
            "           1       0.50      1.00      0.67         4\n",
            "           2       1.00      0.96      0.98        26\n",
            "\n",
            "    accuracy                           0.88        33\n",
            "   macro avg       0.50      0.65      0.55        33\n",
            "weighted avg       0.85      0.88      0.85        33\n",
            "\n",
            "Accuracy score is: 0.8787878787878788\n"
          ]
        },
        {
          "output_type": "display_data",
          "data": {
            "text/plain": [
              "<Figure size 640x480 with 2 Axes>"
            ],
            "image/png": "[encoded data removed]"
          },
          "metadata": {}
        },
        {
          "output_type": "display_data",
          "data": {
            "text/plain": [
              "<Figure size 640x480 with 2 Axes>"
            ],
            "image/png": "[encoded data removed]"
          },
          "metadata": {}
        },
        {
          "output_type": "display_data",
          "data": {
            "text/plain": [
              "<Figure size 640x480 with 2 Axes>"
            ],
            "image/png": "[encoded data removed]"
          },
          "metadata": {}
        }
      ],
      "source": [
        "from sklearn.metrics import confusion_matrix,ConfusionMatrixDisplay,accuracy_score,classification_report\n",
        "for i in lst_model:\n",
        " print(i)\n",
        " print('*'*100)\n",
        " i.fit(x_train,y_train)\n",
        " y_pred=i.predict(x_test)\n",
        " print(classification_report(y_test,y_pred))\n",
        " print(\"Accuracy score is:\",accuracy_score(y_test,y_pred))\n",
        " labels=[2,1,0]\n",
        " result=confusion_matrix(y_test,y_pred)\n",
        " cmd=ConfusionMatrixDisplay(result,display_labels=labels)\n",
        " cmd.plot()\n"
      ]
    },
    {
      "cell_type": "code",
      "execution_count": null,
      "metadata": {
        "id": "KVty00QbfH3p",
        "colab": {
          "base_uri": "https://localhost:8080/",
          "height": 143
        },
        "outputId": "0526219d-9de8-463b-a4b8-1b2c8307a557"
      },
      "outputs": [
        {
          "output_type": "execute_result",
          "data": {
            "text/plain": [
              "         Model  Accuracy score\n",
              "0          KNN            0.87\n",
              "1  Naive bayes            0.96\n",
              "2          SVM            0.87"
            ],
            "text/html": [
              "\n",
              "  <div id=\"df-50f86004-9b48-49e1-9fdf-2d682b4cdb52\">\n",
              "    <div class=\"colab-df-container\">\n",
              "      <div>\n",
              "<style scoped>\n",
              "    .dataframe tbody tr th:only-of-type {\n",
              "        vertical-align: middle;\n",
              "    }\n",
              "\n",
              "    .dataframe tbody tr th {\n",
              "        vertical-align: top;\n",
              "    }\n",
              "\n",
              "    .dataframe thead th {\n",
              "        text-align: right;\n",
              "    }\n",
              "</style>\n",
              "<table border=\"1\" class=\"dataframe\">\n",
              "  <thead>\n",
              "    <tr style=\"text-align: right;\">\n",
              "      <th></th>\n",
              "      <th>Model</th>\n",
              "      <th>Accuracy score</th>\n",
              "    </tr>\n",
              "  </thead>\n",
              "  <tbody>\n",
              "    <tr>\n",
              "      <th>0</th>\n",
              "      <td>KNN</td>\n",
              "      <td>0.87</td>\n",
              "    </tr>\n",
              "    <tr>\n",
              "      <th>1</th>\n",
              "      <td>Naive bayes</td>\n",
              "      <td>0.96</td>\n",
              "    </tr>\n",
              "    <tr>\n",
              "      <th>2</th>\n",
              "      <td>SVM</td>\n",
              "      <td>0.87</td>\n",
              "    </tr>\n",
              "  </tbody>\n",
              "</table>\n",
              "</div>\n",
              "      <button class=\"colab-df-convert\" onclick=\"convertToInteractive('df-50f86004-9b48-49e1-9fdf-2d682b4cdb52')\"\n",
              "              title=\"Convert this dataframe to an interactive table.\"\n",
              "              style=\"display:none;\">\n",
              "        \n",
              "  <svg xmlns=\"http://www.w3.org/2000/svg\" height=\"24px\"viewBox=\"0 0 24 24\"\n",
              "       width=\"24px\">\n",
              "    <path d=\"M0 0h24v24H0V0z\" fill=\"none\"/>\n",
              "    <path d=\"M18.56 5.44l.94 2.06.94-2.06 2.06-.94-2.06-.94-.94-2.06-.94 2.06-2.06.94zm-11 1L8.5 8.5l.94-2.06 2.06-.94-2.06-.94L8.5 2.5l-.94 2.06-2.06.94zm10 10l.94 2.06.94-2.06 2.06-.94-2.06-.94-.94-2.06-.94 2.06-2.06.94z\"/><path d=\"M17.41 7.96l-1.37-1.37c-.4-.4-.92-.59-1.43-.59-.52 0-1.04.2-1.43.59L10.3 9.45l-7.72 7.72c-.78.78-.78 2.05 0 2.83L4 21.41c.39.39.9.59 1.41.59.51 0 1.02-.2 1.41-.59l7.78-7.78 2.81-2.81c.8-.78.8-2.07 0-2.86zM5.41 20L4 18.59l7.72-7.72 1.47 1.35L5.41 20z\"/>\n",
              "  </svg>\n",
              "      </button>\n",
              "      \n",
              "  <style>\n",
              "    .colab-df-container {\n",
              "      display:flex;\n",
              "      flex-wrap:wrap;\n",
              "      gap: 12px;\n",
              "    }\n",
              "\n",
              "    .colab-df-convert {\n",
              "      background-color: #E8F0FE;\n",
              "      border: none;\n",
              "      border-radius: 50%;\n",
              "      cursor: pointer;\n",
              "      display: none;\n",
              "      fill: #1967D2;\n",
              "      height: 32px;\n",
              "      padding: 0 0 0 0;\n",
              "      width: 32px;\n",
              "    }\n",
              "\n",
              "    .colab-df-convert:hover {\n",
              "      background-color: #E2EBFA;\n",
              "      box-shadow: 0px 1px 2px rgba(60, 64, 67, 0.3), 0px 1px 3px 1px rgba(60, 64, 67, 0.15);\n",
              "      fill: #174EA6;\n",
              "    }\n",
              "\n",
              "    [theme=dark] .colab-df-convert {\n",
              "      background-color: #3B4455;\n",
              "      fill: #D2E3FC;\n",
              "    }\n",
              "\n",
              "    [theme=dark] .colab-df-convert:hover {\n",
              "      background-color: #434B5C;\n",
              "      box-shadow: 0px 1px 3px 1px rgba(0, 0, 0, 0.15);\n",
              "      filter: drop-shadow(0px 1px 2px rgba(0, 0, 0, 0.3));\n",
              "      fill: #FFFFFF;\n",
              "    }\n",
              "  </style>\n",
              "\n",
              "      <script>\n",
              "        const buttonEl =\n",
              "          document.querySelector('#df-50f86004-9b48-49e1-9fdf-2d682b4cdb52 button.colab-df-convert');\n",
              "        buttonEl.style.display =\n",
              "          google.colab.kernel.accessAllowed ? 'block' : 'none';\n",
              "\n",
              "        async function convertToInteractive(key) {\n",
              "          const element = document.querySelector('#df-50f86004-9b48-49e1-9fdf-2d682b4cdb52');\n",
              "          const dataTable =\n",
              "            await google.colab.kernel.invokeFunction('convertToInteractive',\n",
              "                                                     [key], {});\n",
              "          if (!dataTable) return;\n",
              "\n",
              "          const docLinkHtml = 'Like what you see? Visit the ' +\n",
              "            '<a target=\"_blank\" href=https://colab.research.google.com/notebooks/data_table.ipynb>data table notebook</a>'\n",
              "            + ' to learn more about interactive tables.';\n",
              "          element.innerHTML = '';\n",
              "          dataTable['output_type'] = 'display_data';\n",
              "          await google.colab.output.renderOutput(dataTable, element);\n",
              "          const docLink = document.createElement('div');\n",
              "          docLink.innerHTML = docLinkHtml;\n",
              "          element.appendChild(docLink);\n",
              "        }\n",
              "      </script>\n",
              "    </div>\n",
              "  </div>\n",
              "  "
            ]
          },
          "metadata": {},
          "execution_count": 1001
        }
      ],
      "source": [
        "dic={'Model':['KNN','Naive bayes','SVM'],'Accuracy score':[0.87,0.96,0.87]}\n",
        "result=pd.DataFrame(dic)\n",
        "result\n"
      ]
    },
    {
      "cell_type": "code",
      "source": [
        "sns.barplot(x='Model',y='Accuracy score',data=dic,ci=None,palette='cubehelix')"
      ],
      "metadata": {
        "colab": {
          "base_uri": "https://localhost:8080/",
          "height": 449
        },
        "id": "e71-jzMaRYEP",
        "outputId": "90a111c1-6d24-4467-f7a8-314029a6f895"
      },
      "execution_count": null,
      "outputs": [
        {
          "output_type": "execute_result",
          "data": {
            "text/plain": [
              "<Axes: >"
            ]
          },
          "metadata": {},
          "execution_count": 1002
        },
        {
          "output_type": "display_data",
          "data": {
            "text/plain": [
              "<Figure size 640x480 with 1 Axes>"
            ],
            "image/png": "[encoded data removed]"
          },
          "metadata": {}
        }
      ]
    },
    {
      "cell_type": "markdown",
      "source": [
        "**RESULT**"
      ],
      "metadata": {
        "id": "x2LFH4_gSD-x"
      }
    },
    {
      "cell_type": "markdown",
      "source": [
        "So from the results we can conclude that the best model for this credit score dataset is obtained using Naive Bayes algorithm as have the highest accuracy score of 0.96"
      ],
      "metadata": {
        "id": "iuGHF293QRem"
      }
    }
  ],
  "metadata": {
    "colab": {
      "provenance": [],
      "authorship_tag": "ABX9TyOWJREp5h9kOaLHbrmcueSj",
      "include_colab_link": true
    },
    "kernelspec": {
      "display_name": "Python 3",
      "name": "python3"
    },
    "language_info": {
      "name": "python"
    }
  },
  "nbformat": 4,
  "nbformat_minor": 0
}